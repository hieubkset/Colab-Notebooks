{
  "nbformat": 4,
  "nbformat_minor": 0,
  "metadata": {
    "colab": {
      "name": "save_and_load.ipynb",
      "provenance": [],
      "collapsed_sections": [],
      "toc_visible": true,
      "authorship_tag": "ABX9TyPAfVrmmTR5mo0AVAEKyNjj",
      "include_colab_link": true
    },
    "kernelspec": {
      "name": "python3",
      "display_name": "Python 3"
    },
    "accelerator": "GPU"
  },
  "cells": [
    {
      "cell_type": "markdown",
      "metadata": {
        "id": "view-in-github",
        "colab_type": "text"
      },
      "source": [
        "<a href=\"https://colab.research.google.com/github/hieubkset/Colab-Notebooks/blob/master/save_and_load.ipynb\" target=\"_parent\"><img src=\"https://colab.research.google.com/assets/colab-badge.svg\" alt=\"Open In Colab\"/></a>"
      ]
    },
    {
      "cell_type": "markdown",
      "metadata": {
        "id": "7dTe2S5vNloJ",
        "colab_type": "text"
      },
      "source": [
        "# **Lưu và Nạp model**\n",
        "\n",
        "Hãy tưởng tượng bạn đang training một model được $7 \\times 7 = 49$ ngày, độ chính xác đã được $96.69$%, bỗng dưng mất điện. Bạn sẽ phải train lại từ đầu?\n",
        "\n",
        "Câu trả lời là không nếu bạn thực hiện lưu (save) model định kỳ. Khi đó, bạn chỉ cần nạp (load) và tiếp tục quá trình training.\n",
        "\n",
        "Tổng quát hơn, khi nào cần lưu và nạp model:\n",
        "\n",
        "+ Để chia sẻ model với mọi người.\n",
        "+ Để triển khai, ứng dụng các model, ví dụ: đưa model lên web hay xuống các thiết bị nhúng.\n",
        "+ Để tiếp tục quá trình training. \n",
        "\n",
        "Có hai cách để chia sẻ model:\n",
        "\n",
        "+ Cách 1: Lưu lại các tham số (trained weights/parameters) và chia sẻ code tạo model.\n",
        "+ Cách 2: Lưu lại toàn bộ các thông tin của model, bao gồm: kiến trúc của model, các tham số, trạng thái của optimizer, v.v.\n",
        "\n",
        "Cách 2 đảm bảo nếu tiếp tục training có thể bắt đầu tại đúng điểm đã kết thúc vì nó lưu lại cả trạng thái của optimizer.\n",
        "\n",
        "Trong bài này, chúng ta sẽ tìm hiểu cách lưu (save) và nạp (load) model sử dụng các API của tf.keras."
      ]
    },
    {
      "cell_type": "markdown",
      "metadata": {
        "id": "FvkMpo3vfOo6",
        "colab_type": "text"
      },
      "source": [
        "## **Chương trình**"
      ]
    },
    {
      "cell_type": "markdown",
      "metadata": {
        "id": "x80BVMAhOV6J",
        "colab_type": "text"
      },
      "source": [
        "**Khai báo các thư viện**"
      ]
    },
    {
      "cell_type": "code",
      "metadata": {
        "id": "NMv7JA2T0Nxq",
        "colab_type": "code",
        "colab": {}
      },
      "source": [
        "try:\n",
        "    %tensorflow_version 2.x\n",
        "except Exception:\n",
        "    pass\n",
        "\n",
        "!pip install pyyaml h5py"
      ],
      "execution_count": 0,
      "outputs": []
    },
    {
      "cell_type": "code",
      "metadata": {
        "id": "7Aa2c6qF0gNT",
        "colab_type": "code",
        "colab": {}
      },
      "source": [
        "import os\n",
        "import tensorflow as tf\n",
        "from tensorflow import keras\n",
        "\n",
        "print(\"Version: \", tf.__version__)"
      ],
      "execution_count": 0,
      "outputs": []
    },
    {
      "cell_type": "markdown",
      "metadata": {
        "id": "6haFn-8afU_I",
        "colab_type": "text"
      },
      "source": [
        "**Chuẩn bị data**\n",
        "\n",
        "Để giảm thời gian training và testing, chúng ta chỉ sử dụng 1000 example trong cả tập train và tập test."
      ]
    },
    {
      "cell_type": "code",
      "metadata": {
        "id": "Xung_uP90n0q",
        "colab_type": "code",
        "colab": {}
      },
      "source": [
        "(train_images, train_labels), (test_images, test_labels) = keras.datasets.mnist.load_data()\n",
        "\n",
        "train_labels = train_labels[:1000]\n",
        "test_labels = test_labels[:1000]\n",
        "\n",
        "train_images = train_images[:1000] / 255.0\n",
        "test_images = test_images[:1000] / 255.0"
      ],
      "execution_count": 0,
      "outputs": []
    },
    {
      "cell_type": "markdown",
      "metadata": {
        "id": "omOA4K4df5Yx",
        "colab_type": "text"
      },
      "source": [
        "**Khởi tạo model**\n",
        "\n",
        "Vì chúng ta sẽ tạo nhiều model có cùng cầu hình nên ta sẽ viết code để có thể tái sử dụng:"
      ]
    },
    {
      "cell_type": "code",
      "metadata": {
        "id": "cAMhJ60W1HjC",
        "colab_type": "code",
        "outputId": "5e317f2b-5d99-42bc-d535-fcbbcbd19825",
        "colab": {
          "base_uri": "https://localhost:8080/",
          "height": 289
        }
      },
      "source": [
        "def create_model():\n",
        "    model = keras.Sequential()\n",
        "    model.add(keras.layers.Flatten(input_shape=(28, 28)))\n",
        "    model.add(keras.layers.Dense(512, activation='relu'))\n",
        "    model.add(keras.layers.Dropout(0.2))\n",
        "    model.add(keras.layers.Dense(10))\n",
        "\n",
        "    model.compile(optimizer='Adam',\n",
        "                  loss=tf.losses.SparseCategoricalCrossentropy(from_logits=True),\n",
        "                  metrics=['accuracy'])\n",
        "\n",
        "    return model\n",
        "\n",
        "model = create_model()\n",
        "\n",
        "model.summary()"
      ],
      "execution_count": 4,
      "outputs": [
        {
          "output_type": "stream",
          "text": [
            "Model: \"sequential\"\n",
            "_________________________________________________________________\n",
            "Layer (type)                 Output Shape              Param #   \n",
            "=================================================================\n",
            "flatten (Flatten)            (None, 784)               0         \n",
            "_________________________________________________________________\n",
            "dense (Dense)                (None, 512)               401920    \n",
            "_________________________________________________________________\n",
            "dropout (Dropout)            (None, 512)               0         \n",
            "_________________________________________________________________\n",
            "dense_1 (Dense)              (None, 10)                5130      \n",
            "=================================================================\n",
            "Total params: 407,050\n",
            "Trainable params: 407,050\n",
            "Non-trainable params: 0\n",
            "_________________________________________________________________\n"
          ],
          "name": "stdout"
        }
      ]
    },
    {
      "cell_type": "markdown",
      "metadata": {
        "id": "cKJzFA1XObvh",
        "colab_type": "text"
      },
      "source": [
        "### **1. Lưu và Nạp các tham số của model bằng callback**"
      ]
    },
    {
      "cell_type": "markdown",
      "metadata": {
        "id": "P6fbhva7jL1M",
        "colab_type": "text"
      },
      "source": [
        "#### **1.1. Lưu tham số cuối cùng** "
      ]
    },
    {
      "cell_type": "markdown",
      "metadata": {
        "id": "hB5LTwaJgtue",
        "colab_type": "text"
      },
      "source": [
        "##### **a. Lưu các tham số**\n",
        "\n",
        "Sử dụng `keras.callbacks.ModelCheckpoint` để lưu các tham số (weights):"
      ]
    },
    {
      "cell_type": "code",
      "metadata": {
        "id": "eaAK0QS-1xYC",
        "colab_type": "code",
        "colab": {}
      },
      "source": [
        "checkpoint_path = \"training_1/cp.ckpt\"\n",
        "checkpoint_dir = os.path.dirname(checkpoint_path)\n",
        "\n",
        "cp_callback = keras.callbacks.ModelCheckpoint(filepath=checkpoint_path,\n",
        "                                              save_weights_only=True,\n",
        "                                              verbose=1)\n",
        "\n",
        "model.fit(train_images,\n",
        "          train_labels,\n",
        "          epochs=10,\n",
        "          validation_data=(test_images, test_labels),\n",
        "          callbacks=[cp_callback])"
      ],
      "execution_count": 0,
      "outputs": []
    },
    {
      "cell_type": "code",
      "metadata": {
        "id": "sOXF0W6Q2wko",
        "colab_type": "code",
        "outputId": "43ffaa87-e4e7-429b-bf45-3fc27d372a76",
        "colab": {
          "base_uri": "https://localhost:8080/",
          "height": 34
        }
      },
      "source": [
        "!ls {checkpoint_dir}"
      ],
      "execution_count": 6,
      "outputs": [
        {
          "output_type": "stream",
          "text": [
            "checkpoint  cp.ckpt.data-00000-of-00001  cp.ckpt.index\n"
          ],
          "name": "stdout"
        }
      ]
    },
    {
      "cell_type": "markdown",
      "metadata": {
        "id": "mw_06plfg7uk",
        "colab_type": "text"
      },
      "source": [
        "`cp_callback` sẽ được gọi tại cuối mỗi epoch, nó sẽ lưu các tham số của model thành nhiều file (`cp.ckpt.data-00001-of-00002`, `cp.ckpt.data-00000-of-00002`,  `cp.ckpt.index`) vào thư mục `checkpoint_dir`. Quá trình này thực hiện ghi đè nên chúng ta chỉ lưu lại các tham số của model ở epoch cuối cùng khi chương trình kết thúc.  "
      ]
    },
    {
      "cell_type": "markdown",
      "metadata": {
        "id": "XwDJGn1lg9xv",
        "colab_type": "text"
      },
      "source": [
        "##### **b. Nạp tham số của model**"
      ]
    },
    {
      "cell_type": "markdown",
      "metadata": {
        "id": "Wyr_No-nilXX",
        "colab_type": "text"
      },
      "source": [
        "Chúng ta tạo model mới và đánh giá accuracy:"
      ]
    },
    {
      "cell_type": "code",
      "metadata": {
        "id": "5yV1abZj3tab",
        "colab_type": "code",
        "outputId": "00e52fe5-44b4-4706-a087-977869ca43f6",
        "colab": {
          "base_uri": "https://localhost:8080/",
          "height": 51
        }
      },
      "source": [
        "model = create_model()\n",
        "\n",
        "loss, acc = model.evaluate(test_images, test_labels, verbose=2)\n",
        "print(\"Untrained model, accuracy: {:5.2f}%\".format(100*acc))"
      ],
      "execution_count": 7,
      "outputs": [
        {
          "output_type": "stream",
          "text": [
            "1000/1000 - 0s - loss: 2.3174 - accuracy: 0.0970\n",
            "Untrained model, accuracy:  9.70%\n"
          ],
          "name": "stdout"
        }
      ]
    },
    {
      "cell_type": "markdown",
      "metadata": {
        "id": "5hiG9NuGis1z",
        "colab_type": "text"
      },
      "source": [
        "Model được tạo mới chỉ có accuracy xấp xỉ 10%."
      ]
    },
    {
      "cell_type": "markdown",
      "metadata": {
        "id": "SK7ecfRlizfh",
        "colab_type": "text"
      },
      "source": [
        "Thực hiện nạp các tham số đã lưu vào model mới này và đánh giá accuracy:"
      ]
    },
    {
      "cell_type": "code",
      "metadata": {
        "id": "8nQvcbD34I61",
        "colab_type": "code",
        "outputId": "2fa471e2-2541-498c-f7bb-1a0fecfe588f",
        "colab": {
          "base_uri": "https://localhost:8080/",
          "height": 51
        }
      },
      "source": [
        "model.load_weights(checkpoint_path)\n",
        "\n",
        "loss, acc = model.evaluate(test_images, test_labels, verbose=2)\n",
        "print(\"Restored model, accuracy: {:5.2f}%\".format(100*acc))"
      ],
      "execution_count": 8,
      "outputs": [
        {
          "output_type": "stream",
          "text": [
            "1000/1000 - 0s - loss: 0.4066 - accuracy: 0.8720\n",
            "Restored model, accuracy: 87.20%\n"
          ],
          "name": "stdout"
        }
      ]
    },
    {
      "cell_type": "markdown",
      "metadata": {
        "id": "289F0ubJi8-L",
        "colab_type": "text"
      },
      "source": [
        "Model mới sau khi đã nạp các tham số cho accuracy khoảng 90%."
      ]
    },
    {
      "cell_type": "markdown",
      "metadata": {
        "id": "JluRG3wNjpci",
        "colab_type": "text"
      },
      "source": [
        "#### **1.2. Lưu tham số tại mỗi epoch**"
      ]
    },
    {
      "cell_type": "markdown",
      "metadata": {
        "id": "Ln34G83Nj9tZ",
        "colab_type": "text"
      },
      "source": [
        "##### **a. Lưu các tham số**\n",
        "\n",
        "Ở đoạn code dưới đây, các tham số sẽ được lưu sau mỗi 5 epoch."
      ]
    },
    {
      "cell_type": "code",
      "metadata": {
        "id": "KUHZZvGd4aqg",
        "colab_type": "code",
        "colab": {}
      },
      "source": [
        "checkpoint_path = \"training_2/cp-{epoch:04d}.ckpt\"\n",
        "checkpoint_dir = os.path.dirname(checkpoint_path)\n",
        "\n",
        "cp_callback = keras.callbacks.ModelCheckpoint(filepath=checkpoint_path,\n",
        "                                              save_weights_only=True,\n",
        "                                              period=5,\n",
        "                                              verbose=1)\n",
        "\n",
        "model = create_model()\n",
        "\n",
        "# thực hiện lưu thủ công tham số của model khi mới tạo\n",
        "model.save_weights(checkpoint_path.format(epoch=0))\n",
        "\n",
        "model.fit(train_images,\n",
        "          train_labels,\n",
        "          epochs=50,\n",
        "          callbacks=[cp_callback],\n",
        "          validation_data=(test_images, test_labels),\n",
        "          verbose=0)"
      ],
      "execution_count": 0,
      "outputs": []
    },
    {
      "cell_type": "code",
      "metadata": {
        "id": "c0zOczVz4oTP",
        "colab_type": "code",
        "outputId": "b13055e6-db77-4a61-ce78-15dadb96d911",
        "colab": {
          "base_uri": "https://localhost:8080/",
          "height": 221
        }
      },
      "source": [
        "!ls {checkpoint_dir}"
      ],
      "execution_count": 10,
      "outputs": [
        {
          "output_type": "stream",
          "text": [
            "checkpoint\t\t\t  cp-0025.ckpt.index\n",
            "cp-0000.ckpt.data-00000-of-00001  cp-0030.ckpt.data-00000-of-00001\n",
            "cp-0000.ckpt.index\t\t  cp-0030.ckpt.index\n",
            "cp-0005.ckpt.data-00000-of-00001  cp-0035.ckpt.data-00000-of-00001\n",
            "cp-0005.ckpt.index\t\t  cp-0035.ckpt.index\n",
            "cp-0010.ckpt.data-00000-of-00001  cp-0040.ckpt.data-00000-of-00001\n",
            "cp-0010.ckpt.index\t\t  cp-0040.ckpt.index\n",
            "cp-0015.ckpt.data-00000-of-00001  cp-0045.ckpt.data-00000-of-00001\n",
            "cp-0015.ckpt.index\t\t  cp-0045.ckpt.index\n",
            "cp-0020.ckpt.data-00000-of-00001  cp-0050.ckpt.data-00000-of-00001\n",
            "cp-0020.ckpt.index\t\t  cp-0050.ckpt.index\n",
            "cp-0025.ckpt.data-00000-of-00001\n"
          ],
          "name": "stdout"
        }
      ]
    },
    {
      "cell_type": "markdown",
      "metadata": {
        "id": "VzqGxYUyk2qw",
        "colab_type": "text"
      },
      "source": [
        "##### **b. Nạp tham số tại một epoch**"
      ]
    },
    {
      "cell_type": "code",
      "metadata": {
        "colab_type": "code",
        "outputId": "15687d75-8a5d-43c5-aa59-80e0d78be799",
        "id": "GBOULf02_Q2E",
        "colab": {
          "base_uri": "https://localhost:8080/",
          "height": 51
        }
      },
      "source": [
        "model = create_model()\n",
        "\n",
        "model.load_weights(checkpoint_path.format(epoch=5))\n",
        "\n",
        "loss, acc = model.evaluate(test_images, test_labels, verbose=2)\n",
        "print(\"Restored model, accuracy: {:5.2f}%\".format(100*acc))"
      ],
      "execution_count": 11,
      "outputs": [
        {
          "output_type": "stream",
          "text": [
            "1000/1000 - 0s - loss: 0.4821 - accuracy: 0.8480\n",
            "Restored model, accuracy: 84.80%\n"
          ],
          "name": "stdout"
        }
      ]
    },
    {
      "cell_type": "markdown",
      "metadata": {
        "id": "SvdFJ0BDk_hu",
        "colab_type": "text"
      },
      "source": [
        "##### **c. Nạp tham số tại epoch cuối cùng**"
      ]
    },
    {
      "cell_type": "code",
      "metadata": {
        "id": "GZRlwXa259hy",
        "colab_type": "code",
        "outputId": "258a8bbb-fbc8-41fc-b67a-f23841048c4c",
        "colab": {
          "base_uri": "https://localhost:8080/",
          "height": 34
        }
      },
      "source": [
        "latest = tf.train.latest_checkpoint(checkpoint_dir)\n",
        "latest"
      ],
      "execution_count": 12,
      "outputs": [
        {
          "output_type": "execute_result",
          "data": {
            "text/plain": [
              "'training_2/cp-0050.ckpt'"
            ]
          },
          "metadata": {
            "tags": []
          },
          "execution_count": 12
        }
      ]
    },
    {
      "cell_type": "code",
      "metadata": {
        "id": "nxDFTmX77eSQ",
        "colab_type": "code",
        "outputId": "3c55d426-1c3a-4232-c5cd-f8fb5a733947",
        "colab": {
          "base_uri": "https://localhost:8080/",
          "height": 173
        }
      },
      "source": [
        "model = create_model()\n",
        "\n",
        "model.load_weights(latest)\n",
        "\n",
        "loss, acc = model.evaluate(test_images, test_labels, verbose=2)\n",
        "print(\"Restored model, accuracy: {:5.2f}%\".format(100*acc))"
      ],
      "execution_count": 13,
      "outputs": [
        {
          "output_type": "stream",
          "text": [
            "WARNING:tensorflow:Unresolved object in checkpoint: (root).optimizer.iter\n",
            "WARNING:tensorflow:Unresolved object in checkpoint: (root).optimizer.beta_1\n",
            "WARNING:tensorflow:Unresolved object in checkpoint: (root).optimizer.beta_2\n",
            "WARNING:tensorflow:Unresolved object in checkpoint: (root).optimizer.decay\n",
            "WARNING:tensorflow:Unresolved object in checkpoint: (root).optimizer.learning_rate\n",
            "WARNING:tensorflow:A checkpoint was restored (e.g. tf.train.Checkpoint.restore or tf.keras.Model.load_weights) but not all checkpointed values were used. See above for specific issues. Use expect_partial() on the load status object, e.g. tf.train.Checkpoint.restore(...).expect_partial(), to silence these warnings, or use assert_consumed() to make the check explicit. See https://www.tensorflow.org/guide/checkpoint#loading_mechanics for details.\n",
            "1000/1000 - 0s - loss: 0.4711 - accuracy: 0.8790\n",
            "Restored model, accuracy: 87.90%\n"
          ],
          "name": "stdout"
        }
      ]
    },
    {
      "cell_type": "markdown",
      "metadata": {
        "id": "FMpwMB7PlZ8c",
        "colab_type": "text"
      },
      "source": [
        "### **2. Lưu và Nạp tham số model thủ công**"
      ]
    },
    {
      "cell_type": "markdown",
      "metadata": {
        "id": "q_W6WERil9vb",
        "colab_type": "text"
      },
      "source": [
        "Để lưu và nạp tham số thủ công (không sử dụng callback), ta sử dụng hàm `save_weights` và `load_weights`:"
      ]
    },
    {
      "cell_type": "code",
      "metadata": {
        "id": "PpVyiItuDAGE",
        "colab_type": "code",
        "outputId": "cf46c7fd-5255-434e-e450-a85b6d0a292e",
        "colab": {
          "base_uri": "https://localhost:8080/",
          "height": 51
        }
      },
      "source": [
        "model.save_weights('./checkpoints/my_checkpoint')\n",
        "\n",
        "model = create_model()\n",
        "\n",
        "model.load_weights('./checkpoints/my_checkpoint')\n",
        "\n",
        "loss, acc = model.evaluate(test_images, test_labels, verbose=2)\n",
        "print('Restored model, accuracy: {:5.2f}%'.format(100*acc))"
      ],
      "execution_count": 14,
      "outputs": [
        {
          "output_type": "stream",
          "text": [
            "1000/1000 - 0s - loss: 0.4711 - accuracy: 0.8790\n",
            "Restored model, accuracy: 87.90%\n"
          ],
          "name": "stdout"
        }
      ]
    },
    {
      "cell_type": "code",
      "metadata": {
        "id": "8oNq2-F1DhTx",
        "colab_type": "code",
        "colab": {
          "base_uri": "https://localhost:8080/",
          "height": 34
        },
        "outputId": "919468cb-e58b-4c0d-b1ed-01478fea9944"
      },
      "source": [
        "!ls checkpoints"
      ],
      "execution_count": 15,
      "outputs": [
        {
          "output_type": "stream",
          "text": [
            "checkpoint  my_checkpoint.data-00000-of-00001  my_checkpoint.index\n"
          ],
          "name": "stdout"
        }
      ]
    },
    {
      "cell_type": "markdown",
      "metadata": {
        "id": "YP3kx9lxmksb",
        "colab_type": "text"
      },
      "source": [
        "### **3. Lưu và Nạp toàn bộ model**\n",
        "\n",
        "Có hai định dạng để lưu toàn bộ model là `SavedModel` (mặc định của Tensorflow) và `HDF5`."
      ]
    },
    {
      "cell_type": "markdown",
      "metadata": {
        "id": "wWZDoi74m_XY",
        "colab_type": "text"
      },
      "source": [
        "#### **3.1. Lưu và Nạp toàn bộ model định dạng `SavedModel`**:"
      ]
    },
    {
      "cell_type": "code",
      "metadata": {
        "id": "NstL6zk_Ezg0",
        "colab_type": "code",
        "colab": {}
      },
      "source": [
        "model = create_model()\n",
        "model.fit(train_images, train_labels, epochs=5)\n",
        "\n",
        "!mkdir -p saved_model\n",
        "model.save('saved_model/my_model')"
      ],
      "execution_count": 0,
      "outputs": []
    },
    {
      "cell_type": "code",
      "metadata": {
        "id": "lzwdvOcCFYiD",
        "colab_type": "code",
        "colab": {
          "base_uri": "https://localhost:8080/",
          "height": 51
        },
        "outputId": "7ab9bdf9-7153-4c80-df6b-06eee5d79e25"
      },
      "source": [
        "!ls saved_model\n",
        "\n",
        "!ls saved_model/my_model"
      ],
      "execution_count": 17,
      "outputs": [
        {
          "output_type": "stream",
          "text": [
            "my_model\n",
            "assets\tsaved_model.pb\tvariables\n"
          ],
          "name": "stdout"
        }
      ]
    },
    {
      "cell_type": "code",
      "metadata": {
        "id": "kf0Ox9wLGPgZ",
        "colab_type": "code",
        "colab": {
          "base_uri": "https://localhost:8080/",
          "height": 289
        },
        "outputId": "e23b7911-4f1e-47e5-8973-b70bb62b617d"
      },
      "source": [
        "new_model = tf.keras.models.load_model('saved_model/my_model')\n",
        "\n",
        "new_model.summary()"
      ],
      "execution_count": 18,
      "outputs": [
        {
          "output_type": "stream",
          "text": [
            "Model: \"sequential_6\"\n",
            "_________________________________________________________________\n",
            "Layer (type)                 Output Shape              Param #   \n",
            "=================================================================\n",
            "flatten_6 (Flatten)          (None, 784)               0         \n",
            "_________________________________________________________________\n",
            "dense_12 (Dense)             (None, 512)               401920    \n",
            "_________________________________________________________________\n",
            "dropout_6 (Dropout)          (None, 512)               0         \n",
            "_________________________________________________________________\n",
            "dense_13 (Dense)             (None, 10)                5130      \n",
            "=================================================================\n",
            "Total params: 407,050\n",
            "Trainable params: 407,050\n",
            "Non-trainable params: 0\n",
            "_________________________________________________________________\n"
          ],
          "name": "stdout"
        }
      ]
    },
    {
      "cell_type": "code",
      "metadata": {
        "id": "hJKOs7RzGgH6",
        "colab_type": "code",
        "colab": {
          "base_uri": "https://localhost:8080/",
          "height": 51
        },
        "outputId": "3ad6bf09-e9e2-4333-fc2c-eb733cd38d15"
      },
      "source": [
        "loss, acc = new_model.evaluate(test_images, test_labels, verbose=2)\n",
        "print('Restored model, accuracy: {:5.2f}%'.format(100*acc))"
      ],
      "execution_count": 19,
      "outputs": [
        {
          "output_type": "stream",
          "text": [
            "1000/1000 - 0s - loss: 0.4435 - accuracy: 0.8640\n",
            "Restored model, accuracy: 86.40%\n"
          ],
          "name": "stdout"
        }
      ]
    },
    {
      "cell_type": "markdown",
      "metadata": {
        "id": "QgZ-LymInJrX",
        "colab_type": "text"
      },
      "source": [
        "#### **3.2. Lưu và Nạp toàn bộ model định dạng `HDF5`**"
      ]
    },
    {
      "cell_type": "code",
      "metadata": {
        "id": "xda7HadBGyTV",
        "colab_type": "code",
        "colab": {}
      },
      "source": [
        "model = create_model()\n",
        "model.fit(train_images, train_labels, epochs=5)\n",
        "\n",
        "model.save('my_model.h5')"
      ],
      "execution_count": 0,
      "outputs": []
    },
    {
      "cell_type": "code",
      "metadata": {
        "id": "FJXsZusyHG79",
        "colab_type": "code",
        "colab": {
          "base_uri": "https://localhost:8080/",
          "height": 289
        },
        "outputId": "aca2961c-5acc-4869-91cc-7b564d5f26c6"
      },
      "source": [
        "new_model = tf.keras.models.load_model('my_model.h5')\n",
        "\n",
        "new_model.summary()"
      ],
      "execution_count": 21,
      "outputs": [
        {
          "output_type": "stream",
          "text": [
            "Model: \"sequential_7\"\n",
            "_________________________________________________________________\n",
            "Layer (type)                 Output Shape              Param #   \n",
            "=================================================================\n",
            "flatten_7 (Flatten)          (None, 784)               0         \n",
            "_________________________________________________________________\n",
            "dense_14 (Dense)             (None, 512)               401920    \n",
            "_________________________________________________________________\n",
            "dropout_7 (Dropout)          (None, 512)               0         \n",
            "_________________________________________________________________\n",
            "dense_15 (Dense)             (None, 10)                5130      \n",
            "=================================================================\n",
            "Total params: 407,050\n",
            "Trainable params: 407,050\n",
            "Non-trainable params: 0\n",
            "_________________________________________________________________\n"
          ],
          "name": "stdout"
        }
      ]
    },
    {
      "cell_type": "code",
      "metadata": {
        "id": "SMJI20zmHN5v",
        "colab_type": "code",
        "colab": {
          "base_uri": "https://localhost:8080/",
          "height": 51
        },
        "outputId": "247e2145-2144-481b-d400-97626e8366bc"
      },
      "source": [
        "loss, acc = new_model.evaluate(test_images, test_labels, verbose=2)\n",
        "print('Restored model, accuracy: {:5.2f}%'.format(100*acc))"
      ],
      "execution_count": 22,
      "outputs": [
        {
          "output_type": "stream",
          "text": [
            "1000/1000 - 0s - loss: 0.4224 - accuracy: 0.8630\n",
            "Restored model, accuracy: 86.30%\n"
          ],
          "name": "stdout"
        }
      ]
    }
  ]
}