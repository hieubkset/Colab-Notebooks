{
  "nbformat": 4,
  "nbformat_minor": 0,
  "metadata": {
    "colab": {
      "name": "colab-github-demo.ipynb",
      "provenance": [],
      "collapsed_sections": [],
      "include_colab_link": true
    },
    "kernelspec": {
      "display_name": "Python 3",
      "name": "python3"
    }
  },
  "cells": [
    {
      "cell_type": "markdown",
      "metadata": {
        "id": "view-in-github",
        "colab_type": "text"
      },
      "source": [
        "<a href=\"https://colab.research.google.com/github/hieubkset/Colab-Notebooks/blob/master/colab-github-demo.ipynb\" target=\"_parent\"><img src=\"https://colab.research.google.com/assets/colab-badge.svg\" alt=\"Open In Colab\"/></a>"
      ]
    },
    {
      "cell_type": "markdown",
      "metadata": {
        "colab_type": "text",
        "id": "-pVhOfzLx9us"
      },
      "source": [
        "# Sử dụng Google Colab với GitHub\n",
        "\n"
      ]
    },
    {
      "cell_type": "markdown",
      "metadata": {
        "colab_type": "text",
        "id": "wKJ4bd5rt1wy"
      },
      "source": [
        "[Google Colab](http://colab.research.google.com) cho phép mở một notebook lưu trên github và commit các chỉnh sửa lên github một cách dễ dàng."
      ]
    },
    {
      "cell_type": "markdown",
      "metadata": {
        "colab_type": "text",
        "id": "K-NVg7RjyeTk"
      },
      "source": [
        "## Tải một public notebook từ GitHub\n",
        "\n",
        "Colab có thể mở một public notebook lưu trên GitHub mà không cần thực hiện xác thực. \n",
        "\n",
        "Ví dụ, ta có một notebook được lưu trên github tại: [https://github.com/hieubkset/Colab-Notebooks/blob/master/colab-github-demo.ipynb](https://github.com/hieubkset/Colab-Notebooks/blob/master/colab-github-demo.ipynb)\n",
        "\n",
        "Link colab tương ứng với notebook này: [https://colab.research.google.com/github/hieubkset/Colab-Notebooks/blob/master/colab-github-demo.ipynb](https://colab.research.google.com/github/hieubkset/Colab-Notebooks/blob/master/colab-github-demo.ipynb).\n",
        "\n",
        "Để mở đường dẫn colab ứng với một notebook lưu trên github, ta có thể dùng tiện ích trên Chrome có tên [Open in Colab](https://chrome.google.com/webstore/detail/open-in-colab/iogfkhleblhcpcekbiedikdehleodpjo)."
      ]
    },
    {
      "cell_type": "markdown",
      "metadata": {
        "colab_type": "text",
        "id": "WzIRIt9d2huC"
      },
      "source": [
        "## Tìm GitHub repo trên Colab\n",
        "\n",
        "Colab hỗ trợ một số đường dẫn đặt biệt cho phép tìm kiếm ngay trên Colab các thông tin người dùng, repo hay branch của GitHub. Ví dụ:\n",
        "\n",
        "- http://colab.research.google.com/github cho phép tìm kiếm theo tên người dùng. Nếu tìm thấy sẽ trả về các repo hiện có, các branch ứng với repo, các notebook có trong branch đó.\n",
        "- http://colab.research.google.com/github/hieubkset/ sẽ hiển thị các repo của người dùng ``hieubkset``. Thay ``hieubkset`` bằng một người dùng khác để xem các repo của họ.\n",
        "- http://colab.research.google.com/github/googlecolab/colabtools/ hiển thị các notebook có trong main branch của repo ``colabtools`` từ người dùng ``googlecolab``. Thay thế tên người dùng và tên repo để xem các kết quả khác.\n",
        "- http://colab.research.google.com/github/googlecolab/colabtools/blob/master hiển thị các notebook có trong ``master`` branch của repo ``colabtools`` từ người dùng ``googlecolab``. Thay thế tên branch để xem các kết quả khác."
      ]
    },
    {
      "cell_type": "markdown",
      "metadata": {
        "colab_type": "text",
        "id": "Rmai0dD30XzL"
      },
      "source": [
        "## Tải một private notebook từ GitHub\n",
        "\n",
        "Để tải một notebook từ một private GitHub repo, ta cần thực hiện bước xác thực để cho phép Colab truy cập các file trên GitHub.\n",
        "Các bước như sau:\n",
        "\n",
        "1. Nhấn vào đường link http://colab.research.google.com/github.\n",
        "2. Chọn \"Include Private Repos\".\n",
        "3. Nó sẽ hiện ra một cửa sổ mới, đăng nhập GitHub và cấp quyền cho Colab đọc các private file. \n",
        "4. Sau đó, mọi thứ giống như tải một public notebook."
      ]
    },
    {
      "cell_type": "markdown",
      "metadata": {
        "colab_type": "text",
        "id": "8J3NBxtZpPcK"
      },
      "source": [
        "## Lưu Notebook vào GitHub\n",
        "\n",
        "Khi ta mở một notebook lưu trên Github nó sẽ ở chế độ chỉnh sửa. Tuy nhiên, nó sẽ không thay đổi nội dung của notebook đó trên GitHub.\n",
        "\n",
        "Nếu muốn lưu lại những thay đổi, thực hiện như sau: **File→Save a copy to GitHub**. Colab sẽ yêu cầu cấp quyền để push một commit lên GitHub."
      ]
    },
    {
      "cell_type": "markdown",
      "metadata": {
        "colab_type": "text",
        "id": "8QAWNjizy_3O"
      },
      "source": [
        "## Thêm chức năng **Open In Colab**\n",
        "\n",
        "Để hỗ trợ mở một notebook lưu trên GitHub dễ dàng hơn, colab cung cập một huy hiệu như sau: \n",
        "\n",
        "[![Open In Colab](https://colab.research.google.com/assets/colab-badge.svg)](https://colab.research.google.com/github/googlecolab/colabtools/blob/master/notebooks/colab-github-demo.ipynb)\n",
        "\n",
        "Khi nhấn vào huy hiệu nó sẽ tự động mở notebook trên Colab.\n",
        "\n",
        "Để nhúng huy hiệu trên vào notebook, sử dụng một trong hai cách sau:\n",
        "\n",
        "- Sử dụng Markdown\n",
        "```markdown\n",
        "[![Open In Colab](https://colab.research.google.com/assets/colab-badge.svg)](https://colab.research.google.com/github/googlecolab/colabtools/blob/master/notebooks/colab-github-demo.ipynb)\n",
        "```\n",
        "\n",
        "- Sử dụng HTML\n",
        "```HTML\n",
        "<a href=\"https://colab.research.google.com/github/googlecolab/colabtools/blob/master/notebooks/colab-github-demo.ipynb\">\n",
        "  <img src=\"https://colab.research.google.com/assets/colab-badge.svg\" alt=\"Open In Colab\"/>\n",
        "</a>\n",
        "```\n",
        "\n",
        "Nhớ thay đường dẫn tới notebook của bạn."
      ]
    }
  ]
}