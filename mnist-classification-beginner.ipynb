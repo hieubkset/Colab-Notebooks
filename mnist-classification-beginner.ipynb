{
  "nbformat": 4,
  "nbformat_minor": 0,
  "metadata": {
    "colab": {
      "name": "mnist-classification-beginner.ipynb",
      "provenance": [],
      "collapsed_sections": [],
      "authorship_tag": "ABX9TyOL56jcjXsGVHSCtxZV7tos",
      "include_colab_link": true
    },
    "kernelspec": {
      "name": "python3",
      "display_name": "Python 3"
    },
    "accelerator": "GPU"
  },
  "cells": [
    {
      "cell_type": "markdown",
      "metadata": {
        "id": "view-in-github",
        "colab_type": "text"
      },
      "source": [
        "<a href=\"https://colab.research.google.com/github/hieubkset/Colab-Notebooks/blob/master/mnist-classification-beginner.ipynb\" target=\"_parent\"><img src=\"https://colab.research.google.com/assets/colab-badge.svg\" alt=\"Open In Colab\"/></a>"
      ]
    },
    {
      "cell_type": "markdown",
      "metadata": {
        "id": "pyaduMdGplYU",
        "colab_type": "text"
      },
      "source": [
        "# **Nhận dạng chữ số viết tay từ MNIST dataset**"
      ]
    },
    {
      "cell_type": "markdown",
      "metadata": {
        "id": "-SQ8xC9Vzfnk",
        "colab_type": "text"
      },
      "source": [
        "Viết khối **import** trước để sử dụng được tính năng gợi ý khi viết code."
      ]
    },
    {
      "cell_type": "code",
      "metadata": {
        "id": "a50eCYDzxaoy",
        "colab_type": "code",
        "outputId": "09a217b3-9dca-4718-e938-9496a13d8a2c",
        "colab": {
          "base_uri": "https://localhost:8080/",
          "height": 34
        }
      },
      "source": [
        "# Để lựa chọn giữa tensorflow 2.x hoặc 1.x trên Colab\n",
        "try:\n",
        "    %tensorflow_version 2.x\n",
        "except Exception:\n",
        "    pass\n",
        "\n",
        "import tensorflow as tf"
      ],
      "execution_count": 0,
      "outputs": [
        {
          "output_type": "stream",
          "text": [
            "TensorFlow 2.x selected.\n"
          ],
          "name": "stdout"
        }
      ]
    },
    {
      "cell_type": "markdown",
      "metadata": {
        "id": "DSzVOj9o17Ez",
        "colab_type": "text"
      },
      "source": [
        "Chuẩn bị data:"
      ]
    },
    {
      "cell_type": "code",
      "metadata": {
        "id": "dsglOoaf1a1v",
        "colab_type": "code",
        "outputId": "3f17eaba-ce5c-446e-8767-65bfcae4ca92",
        "colab": {
          "base_uri": "https://localhost:8080/",
          "height": 51
        }
      },
      "source": [
        "mnist = tf.keras.datasets.mnist\n",
        "(x_train, y_train), (x_test, y_test) = mnist.load_data()\n",
        "x_train, x_test = x_train / 255.0, x_test / 255.0"
      ],
      "execution_count": 0,
      "outputs": [
        {
          "output_type": "stream",
          "text": [
            "Downloading data from https://storage.googleapis.com/tensorflow/tf-keras-datasets/mnist.npz\n",
            "11493376/11490434 [==============================] - 0s 0us/step\n"
          ],
          "name": "stdout"
        }
      ]
    },
    {
      "cell_type": "markdown",
      "metadata": {
        "id": "yyqCcm-12H14",
        "colab_type": "text"
      },
      "source": [
        "Định nghĩa model:"
      ]
    },
    {
      "cell_type": "code",
      "metadata": {
        "id": "Om-logj-zhzM",
        "colab_type": "code",
        "colab": {}
      },
      "source": [
        "model = tf.keras.models.Sequential([\n",
        "    tf.keras.layers.Flatten(input_shape=(28, 28)),\n",
        "    tf.keras.layers.Dense(128, activation='relu'),\n",
        "    tf.keras.layers.Dropout(0.2),\n",
        "    tf.keras.layers.Dense(10)\n",
        "])\n"
      ],
      "execution_count": 0,
      "outputs": []
    },
    {
      "cell_type": "markdown",
      "metadata": {
        "id": "dFNBOjPYuxd5",
        "colab_type": "text"
      },
      "source": [
        "<font color=\"red\">Lưu ý: Vì liên quan đến sai số trong tính toán số thực trên máy tính, chúng ta không thêm Softmax layer vào cuối network. Thay vào đó, chúng ta sử dụng hàm loss SparseCategoricalCrossentropy với flag `from_logits=True` sẽ tốt hơn.</font>"
      ]
    },
    {
      "cell_type": "markdown",
      "metadata": {
        "id": "H5ZYV8Er2Owp",
        "colab_type": "text"
      },
      "source": [
        "Khai báo optimizer, hàm loss và các metric dùng trong quá trình training:"
      ]
    },
    {
      "cell_type": "code",
      "metadata": {
        "id": "wHKgPUb91qJu",
        "colab_type": "code",
        "colab": {}
      },
      "source": [
        "loss_fn = tf.keras.losses.SparseCategoricalCrossentropy(from_logits=True)\n",
        "model.compile(optimizer='adam',\n",
        "              loss=loss_fn,\n",
        "              metrics=['accuracy'])"
      ],
      "execution_count": 0,
      "outputs": []
    },
    {
      "cell_type": "markdown",
      "metadata": {
        "id": "A3ms1TyI2NVH",
        "colab_type": "text"
      },
      "source": [
        "Tiến hành training 5 epoch:"
      ]
    },
    {
      "cell_type": "code",
      "metadata": {
        "id": "PNMmTG2L1rrt",
        "colab_type": "code",
        "outputId": "a54cabde-6acf-4412-fe41-4f7abbf5b47d",
        "colab": {
          "base_uri": "https://localhost:8080/",
          "height": 221
        }
      },
      "source": [
        "model.fit(x_train, y_train, epochs=5)"
      ],
      "execution_count": 0,
      "outputs": [
        {
          "output_type": "stream",
          "text": [
            "Train on 60000 samples\n",
            "Epoch 1/5\n",
            "60000/60000 [==============================] - 7s 117us/sample - loss: 0.2920 - accuracy: 0.9154\n",
            "Epoch 2/5\n",
            "60000/60000 [==============================] - 5s 81us/sample - loss: 0.1410 - accuracy: 0.9581\n",
            "Epoch 3/5\n",
            "60000/60000 [==============================] - 4s 73us/sample - loss: 0.1059 - accuracy: 0.9672\n",
            "Epoch 4/5\n",
            "60000/60000 [==============================] - 4s 75us/sample - loss: 0.0882 - accuracy: 0.9729\n",
            "Epoch 5/5\n",
            "60000/60000 [==============================] - 4s 74us/sample - loss: 0.0745 - accuracy: 0.9765\n"
          ],
          "name": "stdout"
        },
        {
          "output_type": "execute_result",
          "data": {
            "text/plain": [
              "<tensorflow.python.keras.callbacks.History at 0x7fadc0501080>"
            ]
          },
          "metadata": {
            "tags": []
          },
          "execution_count": 5
        }
      ]
    },
    {
      "cell_type": "markdown",
      "metadata": {
        "id": "ZtZnI4ce9LlB",
        "colab_type": "text"
      },
      "source": [
        "Đánh giá độ chính xác của model:"
      ]
    },
    {
      "cell_type": "code",
      "metadata": {
        "id": "gPVSZ1j-1udu",
        "colab_type": "code",
        "outputId": "d9752602-75e3-4af7-9215-1a8b535f789d",
        "colab": {
          "base_uri": "https://localhost:8080/",
          "height": 51
        }
      },
      "source": [
        "model.evaluate(x_test, y_test, verbose=2)"
      ],
      "execution_count": 0,
      "outputs": [
        {
          "output_type": "stream",
          "text": [
            "10000/10000 - 1s - loss: 0.0767 - accuracy: 0.9768\n"
          ],
          "name": "stdout"
        },
        {
          "output_type": "execute_result",
          "data": {
            "text/plain": [
              "[0.07666280585494824, 0.9768]"
            ]
          },
          "metadata": {
            "tags": []
          },
          "execution_count": 6
        }
      ]
    },
    {
      "cell_type": "markdown",
      "metadata": {
        "id": "lsIdZO-H9Kg0",
        "colab_type": "text"
      },
      "source": [
        "Kiểm tra kết quả:"
      ]
    },
    {
      "cell_type": "code",
      "metadata": {
        "id": "jddWW7ki3nIA",
        "colab_type": "code",
        "outputId": "80f3f0cd-ce43-4070-898b-6a2263ef0524",
        "colab": {
          "base_uri": "https://localhost:8080/",
          "height": 390
        }
      },
      "source": [
        "import random\n",
        "import numpy as np\n",
        "import matplotlib.pyplot as plt\n",
        "\n",
        "idx = random.randint(0, len(x_test) - 1)\n",
        "image = x_test[idx]\n",
        "label = y_test[idx]\n",
        "\n",
        "pred = model(image[np.newaxis,:,:]).numpy().squeeze()\n",
        "pred_label = pred.argmax()\n",
        "\n",
        "plt.figure()\n",
        "plt.imshow(image, cmap='gray')\n",
        "plt.title('True label: {} - Predicted label: {}'.format(label, pred_label))\n",
        "plt.xticks([])\n",
        "plt.yticks([])\n",
        "plt.show()"
      ],
      "execution_count": 0,
      "outputs": [
        {
          "output_type": "stream",
          "text": [
            "WARNING:tensorflow:Layer flatten is casting an input tensor from dtype float64 to the layer's dtype of float32, which is new behavior in TensorFlow 2.  The layer has dtype float32 because it's dtype defaults to floatx.\n",
            "\n",
            "If you intended to run this layer in float32, you can safely ignore this warning. If in doubt, this warning is likely only an issue if you are porting a TensorFlow 1.X model to TensorFlow 2.\n",
            "\n",
            "To change all layers to have dtype float64 by default, call `tf.keras.backend.set_floatx('float64')`. To change just this layer, pass dtype='float64' to the layer constructor. If you are the author of this layer, you can disable autocasting by passing autocast=False to the base Layer constructor.\n",
            "\n"
          ],
          "name": "stdout"
        },
        {
          "output_type": "display_data",
          "data": {
            "image/png": "[encoded data removed]",
            "text/plain": [
              "<Figure size 432x288 with 1 Axes>"
            ]
          },
          "metadata": {
            "tags": []
          }
        }
      ]
    },
    {
      "cell_type": "markdown",
      "metadata": {
        "id": "UTYr3JSBuKt_",
        "colab_type": "text"
      },
      "source": [
        "Để biết xác suất của label ta có thể sử dụng cách sau:"
      ]
    },
    {
      "cell_type": "code",
      "metadata": {
        "id": "os9rnUfotw_f",
        "colab_type": "code",
        "outputId": "95f18908-c8a7-4fe1-e52f-9b404d194910",
        "colab": {
          "base_uri": "https://localhost:8080/",
          "height": 34
        }
      },
      "source": [
        "probability_model = tf.keras.Sequential([\n",
        "  model,\n",
        "  tf.keras.layers.Softmax()\n",
        "])\n",
        "pred = probability_model(image[np.newaxis,:,:]).numpy().squeeze()\n",
        "print(pred.max())"
      ],
      "execution_count": 0,
      "outputs": [
        {
          "output_type": "stream",
          "text": [
            "0.9990693\n"
          ],
          "name": "stdout"
        }
      ]
    },
    {
      "cell_type": "code",
      "metadata": {
        "id": "dWTJcghKz29P",
        "colab_type": "code",
        "colab": {}
      },
      "source": [
        "tf.keras.losses.SparseCategoricalCrossentropy?"
      ],
      "execution_count": 0,
      "outputs": []
    },
    {
      "cell_type": "code",
      "metadata": {
        "id": "hNd1T8JQz6I7",
        "colab_type": "code",
        "colab": {}
      },
      "source": [
        ""
      ],
      "execution_count": 0,
      "outputs": []
    }
  ]
}