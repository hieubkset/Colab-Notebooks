{
  "nbformat": 4,
  "nbformat_minor": 0,
  "metadata": {
    "colab": {
      "name": "text-classification-with-hub.ipynb",
      "provenance": [],
      "collapsed_sections": [],
      "toc_visible": true,
      "authorship_tag": "ABX9TyNjMLjFY8YrNdyeg8Jf5vMK",
      "include_colab_link": true
    },
    "kernelspec": {
      "name": "python3",
      "display_name": "Python 3"
    },
    "accelerator": "GPU"
  },
  "cells": [
    {
      "cell_type": "markdown",
      "metadata": {
        "id": "view-in-github",
        "colab_type": "text"
      },
      "source": [
        "<a href=\"https://colab.research.google.com/github/hieubkset/Colab-Notebooks/blob/master/text_classification_with_hub.ipynb\" target=\"_parent\"><img src=\"https://colab.research.google.com/assets/colab-badge.svg\" alt=\"Open In Colab\"/></a>"
      ]
    },
    {
      "cell_type": "markdown",
      "metadata": {
        "id": "8gN9lOdASB3q",
        "colab_type": "text"
      },
      "source": [
        "# **Phân loại văn bản**\n",
        "\n",
        "Một ví dụ về bài toán phân loại văn bản trên tập dữ liệu [IMDB dataset](https://www.tensorflow.org/api_docs/python/tf/keras/datasets/imdb).\n",
        "\n",
        "Mục tiêu:\n",
        "\n",
        "+ Có cái nhìn tổng quan về [TensorFlow Hub](https://www.tensorflow.org/hub) và [TensorFlow datasets](https://www.tensorflow.org/datasets).\n",
        "+ Hiểu cơ bản việc sử dụng transfer learning để chuyển đổi từ text sang embedding vector."
      ]
    },
    {
      "cell_type": "markdown",
      "metadata": {
        "id": "gexGGGrHa3N1",
        "colab_type": "text"
      },
      "source": [
        "## **Giới thiệu IMDB dataset**\n",
        "\n",
        "[IMDB dataset](https://www.tensorflow.org/api_docs/python/tf/keras/datasets/imdb) bao gồm review (đánh giá) của 50,000 bộ phim từ [Internet Movie Database](https://www.imdb.com/). Trong đó, 25,000 review cho training và 25,000 reivew còn lại cho testing. Mỗi review là một câu bình luận về bộ phim và được gán một trong 2 nhãn: positive (tích cực) hoặc negative (tiêu cực). Số lượng nhãn positive và negative là chia đều trong cả tập training và testing. "
      ]
    },
    {
      "cell_type": "markdown",
      "metadata": {
        "id": "IppAoB2abF7J",
        "colab_type": "text"
      },
      "source": [
        "## **Chương trình**"
      ]
    },
    {
      "cell_type": "markdown",
      "metadata": {
        "id": "ZTu0tw--bNWO",
        "colab_type": "text"
      },
      "source": [
        "### **1. Khai báo các thư viện**"
      ]
    },
    {
      "cell_type": "code",
      "metadata": {
        "id": "PcDm9C1DFxDt",
        "colab_type": "code",
        "outputId": "4d559720-eed9-4ad5-a48d-043506242d8b",
        "colab": {
          "base_uri": "https://localhost:8080/",
          "height": 513
        }
      },
      "source": [
        "try:\n",
        "    %tensorflow_version 2.x\n",
        "except Exception:\n",
        "    pass\n",
        "\n",
        "import tensorflow as tf\n",
        "\n",
        "!pip install tensorflow-hub\n",
        "!pip install tensorflow-datasets\n",
        "import tensorflow_hub as hub\n",
        "import tensorflow_datasets as tfds\n",
        "\n",
        "print(\"Version: \", tf.__version__)\n",
        "print(\"Hub version: \", hub.__version__)\n",
        "print(\"GPU is\", \"available\" if tf.config.experimental.list_physical_devices(\"GPU\") else \"NOT AVAILABLE\" )"
      ],
      "execution_count": 0,
      "outputs": [
        {
          "output_type": "stream",
          "text": [
            "Requirement already satisfied: tensorflow-hub in /usr/local/lib/python3.6/dist-packages (0.7.0)\n",
            "Requirement already satisfied: six>=1.10.0 in /tensorflow-2.1.0/python3.6 (from tensorflow-hub) (1.14.0)\n",
            "Requirement already satisfied: numpy>=1.12.0 in /tensorflow-2.1.0/python3.6 (from tensorflow-hub) (1.18.1)\n",
            "Requirement already satisfied: protobuf>=3.4.0 in /tensorflow-2.1.0/python3.6 (from tensorflow-hub) (3.11.3)\n",
            "Requirement already satisfied: setuptools in /tensorflow-2.1.0/python3.6 (from protobuf>=3.4.0->tensorflow-hub) (45.2.0)\n",
            "Requirement already satisfied: tensorflow-datasets in /usr/local/lib/python3.6/dist-packages (2.0.0)\n",
            "Requirement already satisfied: tensorflow-metadata in /usr/local/lib/python3.6/dist-packages (from tensorflow-datasets) (0.21.1)\n",
            "Requirement already satisfied: six in /tensorflow-2.1.0/python3.6 (from tensorflow-datasets) (1.14.0)\n",
            "Requirement already satisfied: attrs>=18.1.0 in /usr/local/lib/python3.6/dist-packages (from tensorflow-datasets) (19.3.0)\n",
            "Requirement already satisfied: absl-py in /tensorflow-2.1.0/python3.6 (from tensorflow-datasets) (0.9.0)\n",
            "Requirement already satisfied: future in /usr/local/lib/python3.6/dist-packages (from tensorflow-datasets) (0.16.0)\n",
            "Requirement already satisfied: termcolor in /tensorflow-2.1.0/python3.6 (from tensorflow-datasets) (1.1.0)\n",
            "Requirement already satisfied: promise in /usr/local/lib/python3.6/dist-packages (from tensorflow-datasets) (2.3)\n",
            "Requirement already satisfied: requests>=2.19.0 in /tensorflow-2.1.0/python3.6 (from tensorflow-datasets) (2.22.0)\n",
            "Requirement already satisfied: tqdm in /usr/local/lib/python3.6/dist-packages (from tensorflow-datasets) (4.28.1)\n",
            "Requirement already satisfied: protobuf>=3.6.1 in /tensorflow-2.1.0/python3.6 (from tensorflow-datasets) (3.11.3)\n",
            "Requirement already satisfied: wrapt in /tensorflow-2.1.0/python3.6 (from tensorflow-datasets) (1.12.0)\n",
            "Requirement already satisfied: numpy in /tensorflow-2.1.0/python3.6 (from tensorflow-datasets) (1.18.1)\n",
            "Requirement already satisfied: dill in /usr/local/lib/python3.6/dist-packages (from tensorflow-datasets) (0.3.1.1)\n",
            "Requirement already satisfied: googleapis-common-protos in /usr/local/lib/python3.6/dist-packages (from tensorflow-metadata->tensorflow-datasets) (1.51.0)\n",
            "Requirement already satisfied: certifi>=2017.4.17 in /tensorflow-2.1.0/python3.6 (from requests>=2.19.0->tensorflow-datasets) (2019.11.28)\n",
            "Requirement already satisfied: chardet<3.1.0,>=3.0.2 in /tensorflow-2.1.0/python3.6 (from requests>=2.19.0->tensorflow-datasets) (3.0.4)\n",
            "Requirement already satisfied: urllib3!=1.25.0,!=1.25.1,<1.26,>=1.21.1 in /tensorflow-2.1.0/python3.6 (from requests>=2.19.0->tensorflow-datasets) (1.25.8)\n",
            "Requirement already satisfied: idna<2.9,>=2.5 in /tensorflow-2.1.0/python3.6 (from requests>=2.19.0->tensorflow-datasets) (2.8)\n",
            "Requirement already satisfied: setuptools in /tensorflow-2.1.0/python3.6 (from protobuf>=3.6.1->tensorflow-datasets) (45.2.0)\n",
            "Version:  2.1.0\n",
            "Hub version:  0.7.0\n",
            "GPU is available\n"
          ],
          "name": "stdout"
        }
      ]
    },
    {
      "cell_type": "markdown",
      "metadata": {
        "id": "a79vkdU0boWb",
        "colab_type": "text"
      },
      "source": [
        "### **2. Chuẩn bị data**\n",
        "\n",
        "Ở các bài trước, chúng ta đã học cách load data với **tf.keras.datasets**. Ở bài này, chúng ta sẽ làm quen với một kho data khác to hơn là [Tensorflow Datasets](https://www.tensorflow.org/datasets). \n",
        "\n",
        "**Tensorflow Datasets** cung cấp khoảng 29 bộ dataset như: MNIST, Street View House Numbers, the 1 Billion Word Language Model Benchmark, v.v... và được cập nhật thường xuyên.\n",
        "\n",
        "Tất cả các dataset trong **Tensorflow Datasets** là một thể hiển của  [tf.data.Datasets](https://www.tensorflow.org/api_docs/python/tf/data/Dataset). Hiểu một cách đơn giản là các dataset này đã chuẩn hóa nên rất dễ sử dụng và cho hiệu năng cao.\n",
        "\n",
        "Dưới đây là một ví dụ load **IMDB dataset** với **Tensorflow Datasets** (tfds):"
      ]
    },
    {
      "cell_type": "code",
      "metadata": {
        "id": "N5bCpCptGFWk",
        "colab_type": "code",
        "colab": {}
      },
      "source": [
        "train_data, validation_data, test_data = tfds.load(\n",
        "    name='imdb_reviews',\n",
        "    split=('train[:60%]', 'train[60%:]', 'test'),\n",
        "    as_supervised=True\n",
        ")"
      ],
      "execution_count": 0,
      "outputs": []
    },
    {
      "cell_type": "markdown",
      "metadata": {
        "id": "_IJgePjmevye",
        "colab_type": "text"
      },
      "source": [
        "** Explore data**\n",
        "\n",
        "Chúng ta sẽ xem định dạng của dữ liệu trước khi tiến hành build model:"
      ]
    },
    {
      "cell_type": "code",
      "metadata": {
        "id": "QSB_npfGGqSC",
        "colab_type": "code",
        "outputId": "d7f83c1b-ebc3-4c57-84ca-a98909c6de30",
        "colab": {
          "base_uri": "https://localhost:8080/"
        }
      },
      "source": [
        "train_examples_batch, train_lables_batch = next(iter(train_data.batch(10)))\n",
        "train_examples_batch"
      ],
      "execution_count": 0,
      "outputs": [
        {
          "output_type": "execute_result",
          "data": {
            "text/plain": [
              "<tf.Tensor: shape=(10,), dtype=string, numpy=\n",
              "array([b\"This was an absolutely terrible movie. Don't be lured in by Christopher Walken or Michael Ironside. Both are great actors, but this must simply be their worst role in history. Even their great acting could not redeem this movie's ridiculous storyline. This movie is an early nineties US propaganda piece. The most pathetic scenes were those when the Columbian rebels were making their cases for revolutions. Maria Conchita Alonso appeared phony, and her pseudo-love affair with Walken was nothing but a pathetic emotional plug in a movie that was devoid of any real meaning. I am disappointed that there are movies like this, ruining actor's like Christopher Walken's good name. I could barely sit through it.\",\n",
              "       b'I have been known to fall asleep during films, but this is usually due to a combination of things including, really tired, being warm and comfortable on the sette and having just eaten a lot. However on this occasion I fell asleep because the film was rubbish. The plot development was constant. Constantly slow and boring. Things seemed to happen, but with no explanation of what was causing them or why. I admit, I may have missed part of the film, but i watched the majority of it and everything just seemed to happen of its own accord without any real concern for anything else. I cant recommend this film at all.',\n",
              "       b'Mann photographs the Alberta Rocky Mountains in a superb fashion, and Jimmy Stewart and Walter Brennan give enjoyable performances as they always seem to do. <br /><br />But come on Hollywood - a Mountie telling the people of Dawson City, Yukon to elect themselves a marshal (yes a marshal!) and to enforce the law themselves, then gunfighters battling it out on the streets for control of the town? <br /><br />Nothing even remotely resembling that happened on the Canadian side of the border during the Klondike gold rush. Mr. Mann and company appear to have mistaken Dawson City for Deadwood, the Canadian North for the American Wild West.<br /><br />Canadian viewers be prepared for a Reefer Madness type of enjoyable howl with this ludicrous plot, or, to shake your head in disgust.',\n",
              "       b'This is the kind of film for a snowy Sunday afternoon when the rest of the world can go ahead with its own business as you descend into a big arm-chair and mellow for a couple of hours. Wonderful performances from Cher and Nicolas Cage (as always) gently row the plot along. There are no rapids to cross, no dangerous waters, just a warm and witty paddle through New York life at its best. A family film in every sense and one that deserves the praise it received.',\n",
              "       b'As others have mentioned, all the women that go nude in this film are mostly absolutely gorgeous. The plot very ably shows the hypocrisy of the female libido. When men are around they want to be pursued, but when no \"men\" are around, they become the pursuers of a 14 year old boy. And the boy becomes a man really fast (we should all be so lucky at this age!). He then gets up the courage to pursue his true love.',\n",
              "       b\"This is a film which should be seen by anybody interested in, effected by, or suffering from an eating disorder. It is an amazingly accurate and sensitive portrayal of bulimia in a teenage girl, its causes and its symptoms. The girl is played by one of the most brilliant young actresses working in cinema today, Alison Lohman, who was later so spectacular in 'Where the Truth Lies'. I would recommend that this film be shown in all schools, as you will never see a better on this subject. Alison Lohman is absolutely outstanding, and one marvels at her ability to convey the anguish of a girl suffering from this compulsive disorder. If barometers tell us the air pressure, Alison Lohman tells us the emotional pressure with the same degree of accuracy. Her emotional range is so precise, each scene could be measured microscopically for its gradations of trauma, on a scale of rising hysteria and desperation which reaches unbearable intensity. Mare Winningham is the perfect choice to play her mother, and does so with immense sympathy and a range of emotions just as finely tuned as Lohman's. Together, they make a pair of sensitive emotional oscillators vibrating in resonance with one another. This film is really an astonishing achievement, and director Katt Shea should be proud of it. The only reason for not seeing it is if you are not interested in people. But even if you like nature films best, this is after all animal behaviour at the sharp edge. Bulimia is an extreme version of how a tormented soul can destroy her own body in a frenzy of despair. And if we don't sympathise with people suffering from the depths of despair, then we are dead inside.\",\n",
              "       b'Okay, you have:<br /><br />Penelope Keith as Miss Herringbone-Tweed, B.B.E. (Backbone of England.) She\\'s killed off in the first scene - that\\'s right, folks; this show has no backbone!<br /><br />Peter O\\'Toole as Ol\\' Colonel Cricket from The First War and now the emblazered Lord of the Manor.<br /><br />Joanna Lumley as the ensweatered Lady of the Manor, 20 years younger than the colonel and 20 years past her own prime but still glamourous (Brit spelling, not mine) enough to have a toy-boy on the side. It\\'s alright, they have Col. Cricket\\'s full knowledge and consent (they guy even comes \\'round for Christmas!) Still, she\\'s considerate of the colonel enough to have said toy-boy her own age (what a gal!)<br /><br />David McCallum as said toy-boy, equally as pointlessly glamourous as his squeeze. Pilcher couldn\\'t come up with any cover for him within the story, so she gave him a hush-hush job at the Circus.<br /><br />and finally:<br /><br />Susan Hampshire as Miss Polonia Teacups, Venerable Headmistress of the Venerable Girls\\' Boarding-School, serving tea in her office with a dash of deep, poignant advice for life in the outside world just before graduation. Her best bit of advice: \"I\\'ve only been to Nancherrow (the local Stately Home of England) once. I thought it was very beautiful but, somehow, not part of the real world.\" Well, we can\\'t say they didn\\'t warn us.<br /><br />Ah, Susan - time was, your character would have been running the whole show. They don\\'t write \\'em like that any more. Our loss, not yours.<br /><br />So - with a cast and setting like this, you have the re-makings of \"Brideshead Revisited,\" right?<br /><br />Wrong! They took these 1-dimensional supporting roles because they paid so well. After all, acting is one of the oldest temp-jobs there is (YOU name another!)<br /><br />First warning sign: lots and lots of backlighting. They get around it by shooting outdoors - \"hey, it\\'s just the sunlight!\"<br /><br />Second warning sign: Leading Lady cries a lot. When not crying, her eyes are moist. That\\'s the law of romance novels: Leading Lady is \"dewy-eyed.\"<br /><br />Henceforth, Leading Lady shall be known as L.L.<br /><br />Third warning sign: L.L. actually has stars in her eyes when she\\'s in love. Still, I\\'ll give Emily Mortimer an award just for having to act with that spotlight in her eyes (I wonder . did they use contacts?)<br /><br />And lastly, fourth warning sign: no on-screen female character is \"Mrs.\" She\\'s either \"Miss\" or \"Lady.\"<br /><br />When all was said and done, I still couldn\\'t tell you who was pursuing whom and why. I couldn\\'t even tell you what was said and done.<br /><br />To sum up: they all live through World War II without anything happening to them at all.<br /><br />OK, at the end, L.L. finds she\\'s lost her parents to the Japanese prison camps and baby sis comes home catatonic. Meanwhile (there\\'s always a \"meanwhile,\") some young guy L.L. had a crush on (when, I don\\'t know) comes home from some wartime tough spot and is found living on the street by Lady of the Manor (must be some street if SHE\\'s going to find him there.) Both war casualties are whisked away to recover at Nancherrow (SOMEBODY has to be \"whisked away\" SOMEWHERE in these romance stories!)<br /><br />Great drama.',\n",
              "       b'The film is based on a genuine 1950s novel.<br /><br />Journalist Colin McInnes wrote a set of three \"London novels\": \"Absolute Beginners\", \"City of Spades\" and \"Mr Love and Justice\". I have read all three. The first two are excellent. The last, perhaps an experiment that did not come off. But McInnes\\'s work is highly acclaimed; and rightly so. This musical is the novelist\\'s ultimate nightmare - to see the fruits of one\\'s mind being turned into a glitzy, badly-acted, soporific one-dimensional apology of a film that says it captures the spirit of 1950s London, and does nothing of the sort.<br /><br />Thank goodness Colin McInnes wasn\\'t alive to witness it.',\n",
              "       b'I really love the sexy action and sci-fi films of the sixties and its because of the actress\\'s that appeared in them. They found the sexiest women to be in these films and it didn\\'t matter if they could act (Remember \"Candy\"?). The reason I was disappointed by this film was because it wasn\\'t nostalgic enough. The story here has a European sci-fi film called \"Dragonfly\" being made and the director is fired. So the producers decide to let a young aspiring filmmaker (Jeremy Davies) to complete the picture. They\\'re is one real beautiful woman in the film who plays Dragonfly but she\\'s barely in it. Film is written and directed by Roman Coppola who uses some of his fathers exploits from his early days and puts it into the script. I wish the film could have been an homage to those early films. They could have lots of cameos by actors who appeared in them. There is one actor in this film who was popular from the sixties and its John Phillip Law (Barbarella). Gerard Depardieu, Giancarlo Giannini and Dean Stockwell appear as well. I guess I\\'m going to have to continue waiting for a director to make a good homage to the films of the sixties. If any are reading this, \"Make it as sexy as you can\"! I\\'ll be waiting!',\n",
              "       b'Sure, this one isn\\'t really a blockbuster, nor does it target such a position. \"Dieter\" is the first name of a quite popular German musician, who is either loved or hated for his kind of acting and thats exactly what this movie is about. It is based on the autobiography \"Dieter Bohlen\" wrote a few years ago but isn\\'t meant to be accurate on that. The movie is filled with some sexual offensive content (at least for American standard) which is either amusing (not for the other \"actors\" of course) or dumb - it depends on your individual kind of humor or on you being a \"Bohlen\"-Fan or not. Technically speaking there isn\\'t much to criticize. Speaking of me I find this movie to be an OK-movie.'],\n",
              "      dtype=object)>"
            ]
          },
          "metadata": {
            "tags": []
          },
          "execution_count": 18
        }
      ]
    },
    {
      "cell_type": "code",
      "metadata": {
        "id": "S2yGpag5HhKW",
        "colab_type": "code",
        "outputId": "966714f1-e1ef-42fd-e037-e10fb8ecfed4",
        "colab": {
          "base_uri": "https://localhost:8080/"
        }
      },
      "source": [
        "train_lables_batch"
      ],
      "execution_count": 0,
      "outputs": [
        {
          "output_type": "execute_result",
          "data": {
            "text/plain": [
              "<tf.Tensor: shape=(10,), dtype=int64, numpy=array([0, 0, 0, 1, 1, 1, 0, 0, 0, 0])>"
            ]
          },
          "metadata": {
            "tags": []
          },
          "execution_count": 19
        }
      ]
    },
    {
      "cell_type": "markdown",
      "metadata": {
        "id": "F6BoYmfDi2Yc",
        "colab_type": "text"
      },
      "source": [
        "Label gồm 2 giá trị: 1 tương ứng với positive và 0 tương ứng với negative."
      ]
    },
    {
      "cell_type": "markdown",
      "metadata": {
        "id": "oSjbxfwgjGpp",
        "colab_type": "text"
      },
      "source": [
        "### **3. Build model**\n",
        "\n",
        "Để xử lý dữ liệu đầu vào là các review dưới dạng text có chiều dài bất kỳ, chúng ta sẽ sử dụng một pre-trained text embedding model để chuyển đầu vào từ text sang embedding vector (có chiều dài cố định).\n",
        "\n",
        "Cụ thể, chúng ta sử dụng [google/tf2-preview/gnews-swivel-20dim/1](https://tfhub.dev/google/tf2-preview/gnews-swivel-20dim/1) từ [TensorFlow Hub](https://www.tensorflow.org/hub).\n",
        "\n",
        "**TensorFlow Hub** là nơi cung cấp các pre-trained model (các model được train trên các tập dataset lớn, nhiều data). Chúng ta có thể dùng toàn bộ hoặc một phần của pre-trained model để tiến hành training trên dataset của chúng ta (thường ít data). Quá trình này gọi là transfer learning.\n",
        "\n",
        "**TensorFlow Hub** hỗ trợ việc sử dụng pre-trained model như một keras layer. Ví dụ: \n"
      ]
    },
    {
      "cell_type": "code",
      "metadata": {
        "id": "CJbTIk4cTMdm",
        "colab_type": "code",
        "outputId": "395072a8-2a66-4f5c-e470-dc6352b5847b",
        "colab": {
          "base_uri": "https://localhost:8080/"
        }
      },
      "source": [
        "embedding = \"https://tfhub.dev/google/tf2-preview/gnews-swivel-20dim/1\"\n",
        "hub_layer = hub.KerasLayer(embedding, input_shape=[], dtype=tf.string, trainable=True)\n",
        "hub_layer(train_examples_batch[:3])"
      ],
      "execution_count": 0,
      "outputs": [
        {
          "output_type": "execute_result",
          "data": {
            "text/plain": [
              "<tf.Tensor: shape=(3, 20), dtype=float32, numpy=\n",
              "array([[ 1.765786  , -3.882232  ,  3.9134233 , -1.5557289 , -3.3362343 ,\n",
              "        -1.7357955 , -1.9954445 ,  1.2989551 ,  5.081598  , -1.1041286 ,\n",
              "        -2.0503852 , -0.72675157, -0.65675956,  0.24436149, -3.7208383 ,\n",
              "         2.0954835 ,  2.2969332 , -2.0689783 , -2.9489717 , -1.1315987 ],\n",
              "       [ 1.8804485 , -2.5852382 ,  3.4066997 ,  1.0982676 , -4.056685  ,\n",
              "        -4.891284  , -2.785554  ,  1.3874227 ,  3.8476458 , -0.9256538 ,\n",
              "        -1.896706  ,  1.2113281 ,  0.11474707,  0.76209456, -4.8791065 ,\n",
              "         2.906149  ,  4.7087674 , -2.3652055 , -3.5015898 , -1.6390051 ],\n",
              "       [ 0.71152234, -0.6353217 ,  1.7385626 , -1.1168286 , -0.5451594 ,\n",
              "        -1.1808156 ,  0.09504455,  1.4653089 ,  0.66059524,  0.79308075,\n",
              "        -2.2268345 ,  0.07446612, -1.4075904 , -0.70645386, -1.907037  ,\n",
              "         1.4419787 ,  1.9551861 , -0.42660055, -2.8022065 ,  0.43727064]],\n",
              "      dtype=float32)>"
            ]
          },
          "metadata": {
            "tags": []
          },
          "execution_count": 20
        }
      ]
    },
    {
      "cell_type": "markdown",
      "metadata": {
        "id": "Et9-zCT7lo9l",
        "colab_type": "text"
      },
      "source": [
        "*Dữ liệu được chuyển từ text sang embedding vector có 20 chiều.*"
      ]
    },
    {
      "cell_type": "markdown",
      "metadata": {
        "id": "E5uqaTLfl_pG",
        "colab_type": "text"
      },
      "source": [
        "**Định nghĩ model:**\n",
        "+ pre-trained model được sử dụng như input layer chuyển đổi đầu vào từ text sang embedding vector có số chiều cố định là 20.\n",
        "+ Dense layer với 16 hidden unit\n",
        "+ Output layer với 1 unit. Vì bài toán chỉ có 2 class nên ta chỉ cần một output cho biết xác suất ứng với possitive."
      ]
    },
    {
      "cell_type": "code",
      "metadata": {
        "id": "RO8x-gnQW_H-",
        "colab_type": "code",
        "outputId": "8bc9d533-57e1-48f9-9c29-d446879667af",
        "colab": {
          "base_uri": "https://localhost:8080/"
        }
      },
      "source": [
        "model = tf.keras.Sequential()\n",
        "model.add(hub_layer)\n",
        "model.add(tf.keras.layers.Dense(16, activation='relu'))\n",
        "model.add(tf.keras.layers.Dense(1))\n",
        "\n",
        "model.summary()"
      ],
      "execution_count": 0,
      "outputs": [
        {
          "output_type": "stream",
          "text": [
            "Model: \"sequential_1\"\n",
            "_________________________________________________________________\n",
            "Layer (type)                 Output Shape              Param #   \n",
            "=================================================================\n",
            "keras_layer_1 (KerasLayer)   (None, 20)                400020    \n",
            "_________________________________________________________________\n",
            "dense_2 (Dense)              (None, 16)                336       \n",
            "_________________________________________________________________\n",
            "dense_3 (Dense)              (None, 1)                 17        \n",
            "=================================================================\n",
            "Total params: 400,373\n",
            "Trainable params: 400,373\n",
            "Non-trainable params: 0\n",
            "_________________________________________________________________\n"
          ],
          "name": "stdout"
        }
      ]
    },
    {
      "cell_type": "markdown",
      "metadata": {
        "id": "4BRMcyEsnY8T",
        "colab_type": "text"
      },
      "source": [
        "### **4. Khai báo Optimizer và Loss function**\n",
        "Chúng ta vẫn sử dụng Adam Optimizer :) Tuy nhiên, vì chỉ có 2 class nên ta dùng **BinaryCrossentropy**."
      ]
    },
    {
      "cell_type": "code",
      "metadata": {
        "id": "_FwJ-m9iXUS3",
        "colab_type": "code",
        "colab": {}
      },
      "source": [
        "model.compile(optimizer='adam', \n",
        "              loss= tf.keras.losses.BinaryCrossentropy(from_logits=True), \n",
        "              metrics=['accuracy'])"
      ],
      "execution_count": 0,
      "outputs": []
    },
    {
      "cell_type": "markdown",
      "metadata": {
        "id": "J7kE0ZxhoB7B",
        "colab_type": "text"
      },
      "source": [
        "### **5. Tiến hành training**\n",
        "\n",
        "Train model trong 20 epoch với batch size là 512. Trong quá trình training, các thông số như loss và accuracy trên tập validation sẽ được lưu lại (*chúng ta sẽ tìm hiểu cách hiển thị các thông số này ở bài sau*).\n"
      ]
    },
    {
      "cell_type": "code",
      "metadata": {
        "id": "y5iNVPEWZQMU",
        "colab_type": "code",
        "outputId": "54db0247-6e1f-4103-ac41-fe2f8e13c20d",
        "colab": {
          "base_uri": "https://localhost:8080/",
          "height": 697
        }
      },
      "source": [
        "history = model.fit(train_data.shuffle(10000).batch(512),\n",
        "                    epochs=20,\n",
        "                    validation_data=validation_data.batch(512),\n",
        "                    verbose=1)"
      ],
      "execution_count": 0,
      "outputs": [
        {
          "output_type": "stream",
          "text": [
            "Epoch 1/20\n",
            "30/30 [==============================] - 5s 159ms/step - loss: 1.5774 - accuracy: 0.5058 - val_loss: 0.8034 - val_accuracy: 0.5157\n",
            "Epoch 2/20\n",
            "30/30 [==============================] - 4s 133ms/step - loss: 0.7509 - accuracy: 0.5371 - val_loss: 0.7239 - val_accuracy: 0.5523\n",
            "Epoch 3/20\n",
            "30/30 [==============================] - 4s 141ms/step - loss: 0.6924 - accuracy: 0.5746 - val_loss: 0.6815 - val_accuracy: 0.5860\n",
            "Epoch 4/20\n",
            "30/30 [==============================] - 4s 142ms/step - loss: 0.6478 - accuracy: 0.6129 - val_loss: 0.6408 - val_accuracy: 0.6297\n",
            "Epoch 5/20\n",
            "30/30 [==============================] - 4s 148ms/step - loss: 0.6057 - accuracy: 0.6559 - val_loss: 0.5995 - val_accuracy: 0.6595\n",
            "Epoch 6/20\n",
            "30/30 [==============================] - 4s 145ms/step - loss: 0.5677 - accuracy: 0.6899 - val_loss: 0.5681 - val_accuracy: 0.6907\n",
            "Epoch 7/20\n",
            "30/30 [==============================] - 5s 159ms/step - loss: 0.5368 - accuracy: 0.7156 - val_loss: 0.5405 - val_accuracy: 0.7063\n",
            "Epoch 8/20\n",
            "30/30 [==============================] - 5s 152ms/step - loss: 0.5062 - accuracy: 0.7396 - val_loss: 0.5142 - val_accuracy: 0.7309\n",
            "Epoch 9/20\n",
            "30/30 [==============================] - 5s 153ms/step - loss: 0.4772 - accuracy: 0.7632 - val_loss: 0.4891 - val_accuracy: 0.7557\n",
            "Epoch 10/20\n",
            "30/30 [==============================] - 5s 155ms/step - loss: 0.4472 - accuracy: 0.7862 - val_loss: 0.4646 - val_accuracy: 0.7745\n",
            "Epoch 11/20\n",
            "30/30 [==============================] - 4s 146ms/step - loss: 0.4194 - accuracy: 0.8073 - val_loss: 0.4415 - val_accuracy: 0.7833\n",
            "Epoch 12/20\n",
            "30/30 [==============================] - 5s 157ms/step - loss: 0.3909 - accuracy: 0.8237 - val_loss: 0.4202 - val_accuracy: 0.8036\n",
            "Epoch 13/20\n",
            "30/30 [==============================] - 5s 152ms/step - loss: 0.3657 - accuracy: 0.8378 - val_loss: 0.4008 - val_accuracy: 0.8118\n",
            "Epoch 14/20\n",
            "30/30 [==============================] - 5s 152ms/step - loss: 0.3404 - accuracy: 0.8543 - val_loss: 0.3842 - val_accuracy: 0.8163\n",
            "Epoch 15/20\n",
            "30/30 [==============================] - 4s 150ms/step - loss: 0.3176 - accuracy: 0.8645 - val_loss: 0.3690 - val_accuracy: 0.8288\n",
            "Epoch 16/20\n",
            "30/30 [==============================] - 4s 147ms/step - loss: 0.2981 - accuracy: 0.8741 - val_loss: 0.3576 - val_accuracy: 0.8408\n",
            "Epoch 17/20\n",
            "30/30 [==============================] - 4s 145ms/step - loss: 0.2790 - accuracy: 0.8811 - val_loss: 0.3460 - val_accuracy: 0.8447\n",
            "Epoch 18/20\n",
            "30/30 [==============================] - 4s 147ms/step - loss: 0.2618 - accuracy: 0.8899 - val_loss: 0.3368 - val_accuracy: 0.8460\n",
            "Epoch 19/20\n",
            "30/30 [==============================] - 4s 148ms/step - loss: 0.2481 - accuracy: 0.9003 - val_loss: 0.3299 - val_accuracy: 0.8490\n",
            "Epoch 20/20\n",
            "30/30 [==============================] - 5s 154ms/step - loss: 0.2326 - accuracy: 0.9056 - val_loss: 0.3244 - val_accuracy: 0.8583\n"
          ],
          "name": "stdout"
        }
      ]
    },
    {
      "cell_type": "markdown",
      "metadata": {
        "id": "UgQqHIJjpBOC",
        "colab_type": "text"
      },
      "source": [
        "**6. Testing**"
      ]
    },
    {
      "cell_type": "code",
      "metadata": {
        "id": "YFtNISErZtr5",
        "colab_type": "code",
        "outputId": "4019c168-663f-450e-e93b-13b1d2ebd6aa",
        "colab": {
          "base_uri": "https://localhost:8080/",
          "height": 51
        }
      },
      "source": [
        "results = model.evaluate(test_data.batch(512), verbose=2)\n",
        "\n",
        "for name, value in zip(model.metrics_names, results):\n",
        "    print(\"%s: %.3f\" % (name, value))"
      ],
      "execution_count": 0,
      "outputs": [
        {
          "output_type": "stream",
          "text": [
            "loss: 0.333\n",
            "accuracy: 0.850\n"
          ],
          "name": "stdout"
        }
      ]
    },
    {
      "cell_type": "markdown",
      "metadata": {
        "id": "BnMfzUUppLUJ",
        "colab_type": "text"
      },
      "source": [
        "Với 20 epoch, model cho accuracy trên tập test khoảng 87%. Với cách tiếp cận nâng cao hơn, accuracy có thể lên tới 95%."
      ]
    }
  ]
}