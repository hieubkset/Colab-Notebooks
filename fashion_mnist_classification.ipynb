{
  "nbformat": 4,
  "nbformat_minor": 0,
  "metadata": {
    "colab": {
      "name": "fashion-mnist-classification.ipynb",
      "provenance": [],
      "collapsed_sections": [],
      "toc_visible": true,
      "authorship_tag": "ABX9TyMGebCLXp7/QMSnM3+5GT9K",
      "include_colab_link": true
    },
    "kernelspec": {
      "name": "python3",
      "display_name": "Python 3"
    },
    "accelerator": "GPU"
  },
  "cells": [
    {
      "cell_type": "markdown",
      "metadata": {
        "id": "view-in-github",
        "colab_type": "text"
      },
      "source": [
        "<a href=\"https://colab.research.google.com/github/hieubkset/Colab-Notebooks/blob/master/fashion_mnist_classification.ipynb\" target=\"_parent\"><img src=\"https://colab.research.google.com/assets/colab-badge.svg\" alt=\"Open In Colab\"/></a>"
      ]
    },
    {
      "cell_type": "markdown",
      "metadata": {
        "id": "BrGMeksso4XI",
        "colab_type": "text"
      },
      "source": [
        "# **Image Classification**\n",
        "\n",
        "Một ví dụ phân loại ảnh trên tập dữ liệu FASHION MNIST."
      ]
    },
    {
      "cell_type": "markdown",
      "metadata": {
        "id": "UztmEX3XpKfa",
        "colab_type": "text"
      },
      "source": [
        "## Giới thiệu FASHION MNIST\n",
        "\n",
        "[Fashion MNIST](https://github.com/zalandoresearch/fashion-mnist) là bộ dữ liệu gồm 70000 ảnh xám kích thước $28 \\times 28$ chia thành 10 class. \n",
        "\n",
        "<img src=\"https://www.tensorflow.org/images/fashion-mnist-sprite.png\" width=\"400px\"></img>\n"
      ]
    },
    {
      "cell_type": "markdown",
      "metadata": {
        "id": "r6NKGgOm81JB",
        "colab_type": "text"
      },
      "source": [
        "## **Import các thư viện cần dùng**\n"
      ]
    },
    {
      "cell_type": "code",
      "metadata": {
        "id": "Zp3n2YcR-DHn",
        "colab_type": "code",
        "outputId": "5c092048-ccc7-48b2-af32-f1ded42af850",
        "colab": {
          "base_uri": "https://localhost:8080/",
          "height": 34
        }
      },
      "source": [
        "try:\n",
        "    %tensorflow_version 2.x\n",
        "except Exception:\n",
        "    pass"
      ],
      "execution_count": 0,
      "outputs": [
        {
          "output_type": "stream",
          "text": [
            "TensorFlow 2.x selected.\n"
          ],
          "name": "stdout"
        }
      ]
    },
    {
      "cell_type": "code",
      "metadata": {
        "id": "DPy6eV_j9MYY",
        "colab_type": "code",
        "outputId": "0eb0af54-6114-44c9-cd0b-679751c17295",
        "colab": {
          "base_uri": "https://localhost:8080/",
          "height": 34
        }
      },
      "source": [
        "import tensorflow as tf\n",
        "from tensorflow import keras\n",
        "import numpy as np\n",
        "import matplotlib.pyplot as plt\n",
        "\n",
        "print(tf.__version__)"
      ],
      "execution_count": 0,
      "outputs": [
        {
          "output_type": "stream",
          "text": [
            "2.1.0\n"
          ],
          "name": "stdout"
        }
      ]
    },
    {
      "cell_type": "markdown",
      "metadata": {
        "id": "nMkmLWmaDUt-",
        "colab_type": "text"
      },
      "source": [
        "## **Load và Explore data**"
      ]
    },
    {
      "cell_type": "code",
      "metadata": {
        "id": "ruLcgo2i_hCK",
        "colab_type": "code",
        "colab": {}
      },
      "source": [
        "fashion_mnist = keras.datasets.fashion_mnist\n",
        "(x_train, y_train), (x_test, y_test) = fashion_mnist.load_data()"
      ],
      "execution_count": 0,
      "outputs": []
    },
    {
      "cell_type": "code",
      "metadata": {
        "id": "hcOmrYrK_8s8",
        "colab_type": "code",
        "outputId": "740ecca9-5173-43a9-e968-6ccde82de77e",
        "colab": {
          "base_uri": "https://localhost:8080/",
          "height": 119
        }
      },
      "source": [
        "print('training samples: ', len(x_train))\n",
        "print('test samples: ', len(x_test))\n",
        "print('classes: ', (y_train.max() + 1) )\n",
        "print('image shape: ', x_train[0,...].shape)\n",
        "print('max value: ', x_train.max())\n",
        "print('min_value: ', x_train.min())"
      ],
      "execution_count": 0,
      "outputs": [
        {
          "output_type": "stream",
          "text": [
            "training samples:  60000\n",
            "test samples:  10000\n",
            "classes:  10\n",
            "image shape:  (28, 28)\n",
            "max value:  255\n",
            "min_value:  0\n"
          ],
          "name": "stdout"
        }
      ]
    },
    {
      "cell_type": "markdown",
      "metadata": {
        "id": "9EUMa70kAppB",
        "colab_type": "text"
      },
      "source": [
        "Bảng label và class tương ứng:\n",
        "\n",
        "<table>\n",
        "  <tr>\n",
        "    <th>Label</th>\n",
        "    <th>Class</th>\n",
        "  </tr>\n",
        "  <tr>\n",
        "    <td>0</td>\n",
        "    <td>T-shirt/top</td>\n",
        "  </tr>\n",
        "  <tr>\n",
        "    <td>1</td>\n",
        "    <td>Trouser</td>\n",
        "  </tr>\n",
        "    <tr>\n",
        "    <td>2</td>\n",
        "    <td>Pullover</td>\n",
        "  </tr>\n",
        "    <tr>\n",
        "    <td>3</td>\n",
        "    <td>Dress</td>\n",
        "  </tr>\n",
        "    <tr>\n",
        "    <td>4</td>\n",
        "    <td>Coat</td>\n",
        "  </tr>\n",
        "    <tr>\n",
        "    <td>5</td>\n",
        "    <td>Sandal</td>\n",
        "  </tr>\n",
        "    <tr>\n",
        "    <td>6</td>\n",
        "    <td>Shirt</td>\n",
        "  </tr>\n",
        "    <tr>\n",
        "    <td>7</td>\n",
        "    <td>Sneaker</td>\n",
        "  </tr>\n",
        "    <tr>\n",
        "    <td>8</td>\n",
        "    <td>Bag</td>\n",
        "  </tr>\n",
        "    <tr>\n",
        "    <td>9</td>\n",
        "    <td>Ankle boot</td>\n",
        "  </tr>\n",
        "</table>"
      ]
    },
    {
      "cell_type": "code",
      "metadata": {
        "id": "PJPgiuw1D-ug",
        "colab_type": "code",
        "colab": {}
      },
      "source": [
        "class_names = ['T-shirt/top', 'Trouser', 'Pullover', 'Dress', 'Coat',\n",
        "               'Sandal', 'Shirt', 'Sneaker', 'Bag', 'Ankle boot']"
      ],
      "execution_count": 0,
      "outputs": []
    },
    {
      "cell_type": "markdown",
      "metadata": {
        "id": "myXSi8WnEDlo",
        "colab_type": "text"
      },
      "source": [
        "Chuẩn hóa data về $[0, 1]$:"
      ]
    },
    {
      "cell_type": "code",
      "metadata": {
        "id": "tqGKE1s3EiM3",
        "colab_type": "code",
        "colab": {}
      },
      "source": [
        "x_train = x_train / 255.0\n",
        "x_test = x_test / 255.0"
      ],
      "execution_count": 0,
      "outputs": []
    },
    {
      "cell_type": "code",
      "metadata": {
        "id": "DiP9JHU2End_",
        "colab_type": "code",
        "outputId": "92ffdddb-daa3-46c8-a87b-1f02dc58ea66",
        "colab": {
          "base_uri": "https://localhost:8080/",
          "height": 589
        }
      },
      "source": [
        "plt.figure(figsize=(10, 10))\n",
        "for i in range(25):\n",
        "    plt.subplot(5, 5, i+1)\n",
        "    plt.xticks([])\n",
        "    plt.yticks([])\n",
        "    plt.imshow(x_train[i], cmap='binary')\n",
        "    plt.xlabel(class_names[y_test[i]])\n",
        "plt.show()"
      ],
      "execution_count": 0,
      "outputs": [
        {
          "output_type": "display_data",
          "data": {
            "image/png": "[encoded data removed]",
            "text/plain": [
              "<Figure size 720x720 with 25 Axes>"
            ]
          },
          "metadata": {
            "tags": []
          }
        }
      ]
    },
    {
      "cell_type": "markdown",
      "metadata": {
        "id": "-nBR96Q3FDmK",
        "colab_type": "text"
      },
      "source": [
        "## **Tạo model**\n",
        "\n",
        "Một ví dụ về Neural Network (NN):\n",
        "+ Input layer: 3 unit\n",
        "+ Hidden layer: 4 unit\n",
        "+ Output layer: 2 unit (ứng với 2 class)\n",
        "\n",
        "<img src=\"https://upload.wikimedia.org/wikipedia/commons/thumb/e/e4/Artificial_neural_network.svg/1200px-Artificial_neural_network.svg.png\" width=\"500\">\n",
        "\n",
        "Chúng ta sẽ build một model NN tương tự như trên nhưng với các thông số như sau:\n",
        "+ Input layer: 28*28 = 784 unit\n",
        "+ Hidden layer: 128 unit\n",
        "+ Output layer: 10 unit (ứng với 10 class)"
      ]
    },
    {
      "cell_type": "code",
      "metadata": {
        "id": "uElg6E_II9rq",
        "colab_type": "code",
        "colab": {}
      },
      "source": [
        "model = keras.Sequential([\n",
        "                          keras.layers.Flatten(input_shape=(28, 28)),\n",
        "                          keras.layers.Dense(128, activation='relu'),\n",
        "                          keras.layers.Dense(10)])"
      ],
      "execution_count": 0,
      "outputs": []
    },
    {
      "cell_type": "code",
      "metadata": {
        "id": "iy4zQxzPKr_t",
        "colab_type": "code",
        "outputId": "591b1fb3-cffd-4cf1-f9a3-fbbd623b209b",
        "colab": {
          "base_uri": "https://localhost:8080/",
          "height": 255
        }
      },
      "source": [
        "model.summary()"
      ],
      "execution_count": 0,
      "outputs": [
        {
          "output_type": "stream",
          "text": [
            "Model: \"sequential\"\n",
            "_________________________________________________________________\n",
            "Layer (type)                 Output Shape              Param #   \n",
            "=================================================================\n",
            "flatten (Flatten)            (None, 784)               0         \n",
            "_________________________________________________________________\n",
            "dense (Dense)                (None, 128)               100480    \n",
            "_________________________________________________________________\n",
            "dense_1 (Dense)              (None, 10)                1290      \n",
            "=================================================================\n",
            "Total params: 101,770\n",
            "Trainable params: 101,770\n",
            "Non-trainable params: 0\n",
            "_________________________________________________________________\n"
          ],
          "name": "stdout"
        }
      ]
    },
    {
      "cell_type": "code",
      "metadata": {
        "id": "CGtpcGl9KzF6",
        "colab_type": "code",
        "colab": {}
      },
      "source": [
        "model.compile(optimizer='adam', \n",
        "              loss=keras.losses.SparseCategoricalCrossentropy(from_logits=True),\n",
        "              metrics=['accuracy'])"
      ],
      "execution_count": 0,
      "outputs": []
    },
    {
      "cell_type": "markdown",
      "metadata": {
        "id": "HnXN9O_3LR6h",
        "colab_type": "text"
      },
      "source": [
        "## **Training**\n",
        "\n",
        "Thực hiện training 10 epoch.\n",
        "\n",
        "*Note: 1 epoch tương ứng với 1 lần model được train trên toàn bộ training data*"
      ]
    },
    {
      "cell_type": "code",
      "metadata": {
        "id": "RokKGLtYLdho",
        "colab_type": "code",
        "outputId": "a04318aa-19fa-4bac-99a2-5c9b44bcef08",
        "colab": {
          "base_uri": "https://localhost:8080/",
          "height": 391
        }
      },
      "source": [
        "model.fit(x_train, y_train, epochs=10)"
      ],
      "execution_count": 0,
      "outputs": [
        {
          "output_type": "stream",
          "text": [
            "Train on 60000 samples\n",
            "Epoch 1/10\n",
            "60000/60000 [==============================] - 5s 79us/sample - loss: 0.4965 - accuracy: 0.8248\n",
            "Epoch 2/10\n",
            "60000/60000 [==============================] - 4s 67us/sample - loss: 0.3762 - accuracy: 0.8644\n",
            "Epoch 3/10\n",
            "60000/60000 [==============================] - 4s 68us/sample - loss: 0.3375 - accuracy: 0.8763\n",
            "Epoch 4/10\n",
            "60000/60000 [==============================] - 4s 67us/sample - loss: 0.3152 - accuracy: 0.8846\n",
            "Epoch 5/10\n",
            "60000/60000 [==============================] - 4s 66us/sample - loss: 0.2973 - accuracy: 0.8904\n",
            "Epoch 6/10\n",
            "60000/60000 [==============================] - 4s 69us/sample - loss: 0.2824 - accuracy: 0.8962\n",
            "Epoch 7/10\n",
            "60000/60000 [==============================] - 4s 68us/sample - loss: 0.2706 - accuracy: 0.8989\n",
            "Epoch 8/10\n",
            "60000/60000 [==============================] - 4s 71us/sample - loss: 0.2597 - accuracy: 0.9033\n",
            "Epoch 9/10\n",
            "60000/60000 [==============================] - 4s 67us/sample - loss: 0.2493 - accuracy: 0.9059\n",
            "Epoch 10/10\n",
            "60000/60000 [==============================] - 4s 67us/sample - loss: 0.2423 - accuracy: 0.9098\n"
          ],
          "name": "stdout"
        },
        {
          "output_type": "execute_result",
          "data": {
            "text/plain": [
              "<tensorflow.python.keras.callbacks.History at 0x7f02e0642860>"
            ]
          },
          "metadata": {
            "tags": []
          },
          "execution_count": 11
        }
      ]
    },
    {
      "cell_type": "markdown",
      "metadata": {
        "id": "sG-4vRBeLg4w",
        "colab_type": "text"
      },
      "source": [
        "## **Testing**\n"
      ]
    },
    {
      "cell_type": "code",
      "metadata": {
        "id": "2p1FjBn_L8oD",
        "colab_type": "code",
        "outputId": "35a288d8-d730-400f-d573-1a604106f022",
        "colab": {
          "base_uri": "https://localhost:8080/",
          "height": 34
        }
      },
      "source": [
        "test_loss, test_acc = model.evaluate(x_test, y_test)"
      ],
      "execution_count": 0,
      "outputs": [
        {
          "output_type": "stream",
          "text": [
            "10000/10000 [==============================] - 1s 69us/sample - loss: 0.3438 - accuracy: 0.8794\n"
          ],
          "name": "stdout"
        }
      ]
    },
    {
      "cell_type": "markdown",
      "metadata": {
        "id": "hPANcu5BMGFe",
        "colab_type": "text"
      },
      "source": [
        "Training accuracy $\\approx 91.18%$\n",
        "\n",
        "Test accuracy $\\approx 87.76%$\n",
        "\n",
        "Có vẻ model bị overfiting do hiện chưa sử dụng bất kỳ kỹ thuật nào để tránh overfiting. Chúng ta sẽ tìm hiểu các kỹ thuật này ở các bài sau.\n",
        "\n",
        "*Note: Overfiting là hiện tượng model tốt trên tập dữ liệu train nhưng kém trên tập dữ liệu test. Tạm gọi là giỏi học thuộc lòng, học vẹt, gặp cái mới là đứt.*"
      ]
    },
    {
      "cell_type": "markdown",
      "metadata": {
        "id": "YqzwFwpRXMrK",
        "colab_type": "text"
      },
      "source": [
        "## **Kiểm tra và Hiển thị**"
      ]
    },
    {
      "cell_type": "code",
      "metadata": {
        "id": "mbkoSQZWmQjA",
        "colab_type": "code",
        "colab": {}
      },
      "source": [
        "prob_model = keras.Sequential([model, keras.layers.Softmax()])"
      ],
      "execution_count": 0,
      "outputs": []
    },
    {
      "cell_type": "code",
      "metadata": {
        "id": "IIrfeLXRdZQw",
        "colab_type": "code",
        "colab": {}
      },
      "source": [
        "predictions = prob_model.predict(x_test)"
      ],
      "execution_count": 0,
      "outputs": []
    },
    {
      "cell_type": "code",
      "metadata": {
        "id": "PvISNMreZMkV",
        "colab_type": "code",
        "colab": {}
      },
      "source": [
        "def plot_image(image, pred_probs, true_label):\n",
        "    pred_label = pred_probs.argmax()\n",
        "    pred_prob = pred_probs[pred_label] * 100.0\n",
        "    plt.grid(False)\n",
        "    plt.xticks([])\n",
        "    plt.yticks([])\n",
        "    plt.imshow(image, cmap='binary')\n",
        "    if pred_label == true_label:\n",
        "        color = 'blue'\n",
        "    else:\n",
        "        color = 'red'\n",
        "    plt.xlabel(\"{} {:2.0f}% ({})\".format(\n",
        "                                        class_names[pred_label], \n",
        "                                        pred_prob, \n",
        "                                        class_names[true_label]\n",
        "                                        ),\n",
        "                                        color=color\n",
        "                                    )"
      ],
      "execution_count": 0,
      "outputs": []
    },
    {
      "cell_type": "code",
      "metadata": {
        "id": "q_Y9PWF_fKE4",
        "colab_type": "code",
        "colab": {}
      },
      "source": [
        "def plot_value_array(image, pred_probs, true_label):\n",
        "    pred_label = pred_probs.argmax()\n",
        "    plt.grid(False)\n",
        "    plt.xticks(range(10))\n",
        "    plt.yticks([])\n",
        "    thisplot = plt.bar(range(10), pred_probs, color=\"#777777\")\n",
        "    thisplot[pred_label].set_color('red')\n",
        "    thisplot[true_label].set_color('blue')\n",
        "    plt.ylim([0, 1])"
      ],
      "execution_count": 0,
      "outputs": []
    },
    {
      "cell_type": "code",
      "metadata": {
        "id": "X3gwwirreSU-",
        "colab_type": "code",
        "outputId": "e61161a7-b1ca-4934-f501-1a1d202246ab",
        "colab": {
          "base_uri": "https://localhost:8080/",
          "height": 153
        }
      },
      "source": [
        "plt.figure(figsize=(4, 2))\n",
        "plt.subplot(1, 2, 1)\n",
        "plot_image(x_test[0], predictions[0], y_test[0])\n",
        "plt.subplot(1, 2, 2)\n",
        "plot_value_array(x_test[0], predictions[0], y_test[0])\n",
        "plt.tight_layout()\n",
        "plt.show()"
      ],
      "execution_count": 0,
      "outputs": [
        {
          "output_type": "display_data",
          "data": {
            "image/png": "[encoded data removed]",
            "text/plain": [
              "<Figure size 288x144 with 2 Axes>"
            ]
          },
          "metadata": {
            "tags": []
          }
        }
      ]
    },
    {
      "cell_type": "code",
      "metadata": {
        "id": "0darLmM9evqC",
        "colab_type": "code",
        "outputId": "a32a8a42-05dc-4049-e376-1fab152a2d6b",
        "colab": {
          "base_uri": "https://localhost:8080/",
          "height": 729
        }
      },
      "source": [
        "n_rows = 5\n",
        "n_cols = 3\n",
        "n_images = n_rows * n_cols\n",
        "plt.figure(figsize=(2*2*n_cols, 2*n_rows))\n",
        "for i in range(n_images):\n",
        "    plt.subplot(n_rows, 2*n_cols, 2*i + 1)\n",
        "    plot_image(x_test[i], predictions[i], y_test[i])\n",
        "    plt.subplot(n_rows, 2*n_cols, 2*i + 2)\n",
        "    plot_value_array(x_test[i], predictions[i], y_test[i])\n",
        "plt.tight_layout()\n",
        "plt.show()"
      ],
      "execution_count": 0,
      "outputs": [
        {
          "output_type": "display_data",
          "data": {
            "image/png": "[encoded data removed]",
            "text/plain": [
              "<Figure size 864x720 with 30 Axes>"
            ]
          },
          "metadata": {
            "tags": []
          }
        }
      ]
    },
    {
      "cell_type": "markdown",
      "metadata": {
        "id": "UBh6x_FQmmYC",
        "colab_type": "text"
      },
      "source": [
        "**Phân loại một bức ảnh**"
      ]
    },
    {
      "cell_type": "code",
      "metadata": {
        "id": "1pb1rM47q4Mv",
        "colab_type": "code",
        "colab": {}
      },
      "source": [
        "# ví dụ phân loại ảnh đầu tiên trong test set\n",
        "img = x_test[0]"
      ],
      "execution_count": 0,
      "outputs": []
    },
    {
      "cell_type": "code",
      "metadata": {
        "id": "2KRtWzyFrAXd",
        "colab_type": "code",
        "outputId": "ba403d31-2f7a-42cc-8104-4145f32458e0",
        "colab": {
          "base_uri": "https://localhost:8080/",
          "height": 34
        }
      },
      "source": [
        "print(img.shape)"
      ],
      "execution_count": 0,
      "outputs": [
        {
          "output_type": "stream",
          "text": [
            "(28, 28)\n"
          ],
          "name": "stdout"
        }
      ]
    },
    {
      "cell_type": "code",
      "metadata": {
        "id": "-Jrj2aSxriz9",
        "colab_type": "code",
        "colab": {}
      },
      "source": [
        "#prob_model(img)"
      ],
      "execution_count": 0,
      "outputs": []
    },
    {
      "cell_type": "markdown",
      "metadata": {
        "id": "d8cPmNzwrJbY",
        "colab_type": "text"
      },
      "source": [
        "Lưu ý: đầu vào của hàm `model.predict` luôn phải là 1 batch. Trong trường hợp này đầu phải có shape là $(1, 28, 28)$\n",
        "\n"
      ]
    },
    {
      "cell_type": "code",
      "metadata": {
        "id": "Z26qvuTYrlgB",
        "colab_type": "code",
        "colab": {}
      },
      "source": [
        "img = img[np.newaxis,...]\n",
        "print(img.shape)"
      ],
      "execution_count": 0,
      "outputs": []
    },
    {
      "cell_type": "code",
      "metadata": {
        "id": "qaSe42gvr4Ry",
        "colab_type": "code",
        "colab": {}
      },
      "source": [
        "probs = prob_model(img).numpy()[0]\n",
        "print(probs)"
      ],
      "execution_count": 0,
      "outputs": []
    },
    {
      "cell_type": "code",
      "metadata": {
        "id": "EmQIEJOBsCzq",
        "colab_type": "code",
        "colab": {}
      },
      "source": [
        "plt.figure(figsize=(10, 5))\n",
        "plt.subplot(1, 2, 1)\n",
        "plot_image(img[0], probs, y_test[0])\n",
        "plt.subplot(1, 2, 2)\n",
        "plot_value_array(img[0], probs, y_test[0])\n",
        "plt.xticks(range(10), class_names, rotation=45)\n",
        "plt.show()"
      ],
      "execution_count": 0,
      "outputs": []
    }
  ]
}