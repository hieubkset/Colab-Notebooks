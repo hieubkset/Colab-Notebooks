{
  "nbformat": 4,
  "nbformat_minor": 0,
  "metadata": {
    "colab": {
      "name": "text-classification.ipynb",
      "provenance": [],
      "collapsed_sections": [],
      "toc_visible": true,
      "authorship_tag": "ABX9TyNysJWBWPXwRZFyvT1UIKAt",
      "include_colab_link": true
    },
    "kernelspec": {
      "name": "python3",
      "display_name": "Python 3"
    },
    "accelerator": "GPU"
  },
  "cells": [
    {
      "cell_type": "markdown",
      "metadata": {
        "id": "view-in-github",
        "colab_type": "text"
      },
      "source": [
        "<a href=\"https://colab.research.google.com/github/hieubkset/Colab-Notebooks/blob/master/text_classification.ipynb\" target=\"_parent\"><img src=\"https://colab.research.google.com/assets/colab-badge.svg\" alt=\"Open In Colab\"/></a>"
      ]
    },
    {
      "cell_type": "markdown",
      "metadata": {
        "id": "8gN9lOdASB3q",
        "colab_type": "text"
      },
      "source": [
        "# **Phân loại văn bản**\n",
        "\n",
        "Một cách xây dựng model khác để giải bài toán phân loại văn bản trên tập dữ liệu [IMDB dataset](https://www.tensorflow.org/api_docs/python/tf/keras/datasets/imdb).\n",
        "\n",
        "Mục tiêu:\n",
        "\n",
        "+ Hiểu thêm về API của [TensorFlow datasets](https://www.tensorflow.org/datasets).\n",
        "+ Học cách vẽ learning curve."
      ]
    },
    {
      "cell_type": "markdown",
      "metadata": {
        "id": "gexGGGrHa3N1",
        "colab_type": "text"
      },
      "source": [
        "## Tóm tắt\n",
        "\n",
        "Ở bài trước [TF03: Phân loại văn bản I](https://ezcodin.com/tf03), chúng ta đã build một model phân loại các review phim trong tập dữ liệu **IMDB** dataset bằng cách sử dụng pre-trained model như input layer để chuyển đổi đầu vào từ text sang embedding vector. Trong bài này, chúng ta sẽ tìm hiểu một cách khác để xử lý dữ liệu đầu vào."
      ]
    },
    {
      "cell_type": "markdown",
      "metadata": {
        "id": "IppAoB2abF7J",
        "colab_type": "text"
      },
      "source": [
        "## **Chương trình**"
      ]
    },
    {
      "cell_type": "markdown",
      "metadata": {
        "id": "ZTu0tw--bNWO",
        "colab_type": "text"
      },
      "source": [
        "### **1. Khai báo các thư viện**"
      ]
    },
    {
      "cell_type": "code",
      "metadata": {
        "id": "PcDm9C1DFxDt",
        "colab_type": "code",
        "outputId": "6c246d8b-9115-4dc4-8269-5378a9745d0b",
        "colab": {
          "base_uri": "https://localhost:8080/",
          "height": 68
        }
      },
      "source": [
        "try:\n",
        "    %tensorflow_version 2.x\n",
        "except Exception:\n",
        "    pass\n",
        "\n",
        "import tensorflow as tf\n",
        "import tensorflow_hub as hub\n",
        "import tensorflow_datasets as tfds\n",
        "\n",
        "print(\"Version: \", tf.__version__)\n",
        "print(\"Hub version: \", hub.__version__)\n",
        "print(\"GPU is\", \"available\" if tf.config.experimental.list_physical_devices(\"GPU\") else \"NOT AVAILABLE\" )"
      ],
      "execution_count": 0,
      "outputs": [
        {
          "output_type": "stream",
          "text": [
            "Version:  2.1.0\n",
            "Hub version:  0.7.0\n",
            "GPU is available\n"
          ],
          "name": "stdout"
        }
      ]
    },
    {
      "cell_type": "markdown",
      "metadata": {
        "id": "a79vkdU0boWb",
        "colab_type": "text"
      },
      "source": [
        "### **2. Chuẩn bị data**\n",
        "\n",
        "Ở các bài trước, chúng ta đã học cách load data từ **Tensorflow Datasets** như sau:\n",
        "\n",
        "```python\n",
        "train_data, validation_data, test_data = tfds.load(\n",
        "    name='imdb_reviews',\n",
        "    split=('train[:60%]', 'train[60%:]', 'test'),\n",
        "    as_supervised=True\n",
        ")\n",
        "```\n",
        "\n",
        "Cách này trả về cho chúng ta dữ liệu thô dưới dạng text. \n",
        "\n",
        "Trong bài này, chúng ta sẽ sử dụng một option khác để lấy dữ liệu đã được mã hóa."
      ]
    },
    {
      "cell_type": "code",
      "metadata": {
        "id": "N5bCpCptGFWk",
        "colab_type": "code",
        "colab": {}
      },
      "source": [
        "(train_data, validation_data, test_data), info = tfds.load(\n",
        "    name='imdb_reviews/subwords8k',\n",
        "    split=('train[:60%]', 'train[60%:]', 'test'),\n",
        "    as_supervised=True,\n",
        "    with_info=True\n",
        ")"
      ],
      "execution_count": 0,
      "outputs": []
    },
    {
      "cell_type": "markdown",
      "metadata": {
        "id": "8l1MxbA8aywr",
        "colab_type": "text"
      },
      "source": [
        "Thay vì '**imdb_reviews**', chúng ta sử dụng '**imdb_reviews/subwords8k**'. Cách này trả về cho chúng ta dữ liệu đã được encode (mã hóa) dưới dạng số tự nhiên. Cụ thể, mỗi từ sẽ được gán với một số tự nhiên. Chúng ta sẽ thực hiện explore data để xem định dạng dữ liệu."
      ]
    },
    {
      "cell_type": "markdown",
      "metadata": {
        "id": "3tbxIvhbdR4N",
        "colab_type": "text"
      },
      "source": [
        "**Từ `info` chúng ta lấy được `encoder`**:"
      ]
    },
    {
      "cell_type": "code",
      "metadata": {
        "id": "lkkTEc5nbpmW",
        "colab_type": "code",
        "outputId": "11284701-2b73-4b3e-9102-e915ab632cbb",
        "colab": {
          "base_uri": "https://localhost:8080/",
          "height": 34
        }
      },
      "source": [
        "encoder = info.features['text'].encoder\n",
        "print('Vocabulary size: ', encoder.vocab_size)"
      ],
      "execution_count": 0,
      "outputs": [
        {
          "output_type": "stream",
          "text": [
            "Vocabulary size:  8185\n"
          ],
          "name": "stdout"
        }
      ]
    },
    {
      "cell_type": "markdown",
      "metadata": {
        "id": "JM4QZktddm1J",
        "colab_type": "text"
      },
      "source": [
        "**Sử dụng `encoder` để encode và decode**:"
      ]
    },
    {
      "cell_type": "code",
      "metadata": {
        "id": "BbbG_BZ7ds28",
        "colab_type": "code",
        "outputId": "a2cfb5d9-e310-4c70-dde0-80632e559795",
        "colab": {
          "base_uri": "https://localhost:8080/",
          "height": 51
        }
      },
      "source": [
        "sample_string = 'Hello Tensorflow'\n",
        "\n",
        "encoded_string = encoder.encode(sample_string)\n",
        "print('Encoded string is: ', encoded_string)\n",
        "\n",
        "original_string = encoder.decode(encoded_string)\n",
        "print('The original string: ', original_string)\n",
        "\n",
        "assert original_string == sample_string"
      ],
      "execution_count": 0,
      "outputs": [
        {
          "output_type": "stream",
          "text": [
            "Encoded string is:  [4025, 222, 6307, 2327, 2934]\n",
            "The original string:  Hello Tensorflow\n"
          ],
          "name": "stdout"
        }
      ]
    },
    {
      "cell_type": "markdown",
      "metadata": {
        "id": "wBEjFBl0JWbG",
        "colab_type": "text"
      },
      "source": [
        "**Thử xem một example và một label**"
      ]
    },
    {
      "cell_type": "code",
      "metadata": {
        "id": "nzI78rtveWOm",
        "colab_type": "code",
        "outputId": "150897a2-4857-4b2d-da42-096b883589cb",
        "colab": {
          "base_uri": "https://localhost:8080/",
          "height": 238
        }
      },
      "source": [
        "for train_example, train_label in train_data.take(1):\n",
        "    print('Encoded text: ', train_example.numpy())\n",
        "    print('Lable: ', train_label.numpy())"
      ],
      "execution_count": 0,
      "outputs": [
        {
          "output_type": "stream",
          "text": [
            "Encoded text:  [  62   18   41  604  927   65    3  644 7968   21   35 5096   36   11\n",
            "   43 2948 5240  102   50  681 7862 1244    3 3266   29  122  640    2\n",
            "   26   14  279  438   35   79  349  384   11 1991    3  492   79  122\n",
            "  188  117   33 4047 4531   14   65 7968    8 1819 3947    3   62   27\n",
            "    9   41  577 5044 2629 2552 7193 7961 3642    3   19  107 3903  225\n",
            "   85  198   72    1 1512  738 2347  102 6245    8   85  308   79 6936\n",
            " 7961   23 4981 8044    3 6429 7961 1141 1335 1848 4848   55 3601 4217\n",
            " 8050    2    5   59 3831 1484 8040 7974  174 5773   22 5240  102   18\n",
            "  247   26    4 3903 1612 3902  291   11    4   27   13   18 4092 4008\n",
            " 7961    6  119  213 2774    3   12  258 2306   13   91   29  171   52\n",
            "  229    2 1245 5790  995 7968    8   52 2948 5240 8039 7968    8   74\n",
            " 1249    3   12  117 2438 1369  192   39 7975]\n",
            "Lable:  0\n"
          ],
          "name": "stdout"
        }
      ]
    },
    {
      "cell_type": "markdown",
      "metadata": {
        "id": "xC1dkDutLD_j",
        "colab_type": "text"
      },
      "source": [
        "**Tạo batch:**\n",
        "\n",
        "*Note: Vì kích thước bộ nhớ có hạn nên ta không load toàn bộ data vào CPU hay GPU. Thay vào đó, chúng ta chỉ load một phần của data. Quá trình này gọi là tạo batch, cụ thể là ta sẽ chỉ định mỗi lần sẽ load bao nhiêu dữ liệu vào. Con số này thường là lũy thừa của 2 như: 8, 16 hay 32. Đối với training data, chúng ta còn thực hiện xáo trộn data (shuffle) để tránh overfitting.*"
      ]
    },
    {
      "cell_type": "code",
      "metadata": {
        "id": "SNFq4A7OMjUR",
        "colab_type": "code",
        "colab": {}
      },
      "source": [
        "BUFFER_SIZE = 1000\n",
        "train_batches = train_data.shuffle(BUFFER_SIZE).padded_batch(32, padded_shapes=([None], []))\n",
        "validation_batches = validation_data.padded_batch(32, padded_shapes=([None], []))\n",
        "test_batches = test_data.padded_batch(32, padded_shapes=([None], []))"
      ],
      "execution_count": 0,
      "outputs": []
    },
    {
      "cell_type": "markdown",
      "metadata": {
        "id": "qdwiDwmCN5ZC",
        "colab_type": "text"
      },
      "source": [
        "Quá trình tạo batch yêu cầu các dữ liệu trong cùng một batch có cùng shape. Trong trường hợp này, yêu cầu có cùng length vì dữ liệu chỉ có 1 chiều. Ta sử dụng padded_batch để thực hiện zero-pad (thêm 0) sao cho tất cả dữ liệu có cùng length."
      ]
    },
    {
      "cell_type": "markdown",
      "metadata": {
        "id": "oSjbxfwgjGpp",
        "colab_type": "text"
      },
      "source": [
        "### **3. Build model**\n",
        "\n",
        "Ở bài trước, chúng ta sẽ sử dụng một *pre-trained text embedding model* để chuyển đầu vào từ text sang embedding vector.\n",
        "\n",
        "```python\n",
        "model = tf.keras.Sequential()\n",
        "model.add(hub_layer)\n",
        "model.add(tf.keras.layers.Dense(16, activation='relu'))\n",
        "model.add(tf.keras.layers.Dense(1))\n",
        "```\n"
      ]
    },
    {
      "cell_type": "markdown",
      "metadata": {
        "id": "E5uqaTLfl_pG",
        "colab_type": "text"
      },
      "source": [
        "Trong bài này, chúng ta sẽ tìm hiểu cách xây dựng layer để học embedding vector. "
      ]
    },
    {
      "cell_type": "code",
      "metadata": {
        "id": "RO8x-gnQW_H-",
        "colab_type": "code",
        "outputId": "9c46f6c0-cb9a-4a26-a6a4-7df9df3ed686",
        "colab": {
          "base_uri": "https://localhost:8080/",
          "height": 255
        }
      },
      "source": [
        "model = tf.keras.Sequential()\n",
        "model.add(tf.keras.layers.Embedding(encoder.vocab_size, 16))\n",
        "model.add(tf.keras.layers.GlobalAveragePooling1D())\n",
        "model.add(tf.keras.layers.Dense(1))\n",
        "\n",
        "model.summary()"
      ],
      "execution_count": 0,
      "outputs": [
        {
          "output_type": "stream",
          "text": [
            "Model: \"sequential_2\"\n",
            "_________________________________________________________________\n",
            "Layer (type)                 Output Shape              Param #   \n",
            "=================================================================\n",
            "embedding_2 (Embedding)      (None, None, 16)          130960    \n",
            "_________________________________________________________________\n",
            "global_average_pooling1d_2 ( (None, 16)                0         \n",
            "_________________________________________________________________\n",
            "dense_2 (Dense)              (None, 1)                 17        \n",
            "=================================================================\n",
            "Total params: 130,977\n",
            "Trainable params: 130,977\n",
            "Non-trainable params: 0\n",
            "_________________________________________________________________\n"
          ],
          "name": "stdout"
        }
      ]
    },
    {
      "cell_type": "markdown",
      "metadata": {
        "colab_type": "text",
        "id": "gmX3k_SnVBmS"
      },
      "source": [
        "Trong quá trình training, **Embedding** layer sẽ học cách encode mỗi số tự nhiên (đại diện cho một từ) thành một embedding vector có 16 chiều. Đầu ra của nó sẽ có shape là (batch_size, length, 16). Các example trong cùng một batch sẽ có cùng *length* do ta đã thực hiện *padded_batch*. Tuy nhiên, các batch khác nhau sẽ có *length* khác nhau. **GlobalAveragePooling1D** sẽ đảm bảo rằng đầu ra của nó sẽ luôn có shape là (batch_size, 16). Nó loại bỏ vấn đề khác *length* giữa các batch. \n",
        "\n"
      ]
    },
    {
      "cell_type": "markdown",
      "metadata": {
        "id": "4BRMcyEsnY8T",
        "colab_type": "text"
      },
      "source": [
        "### **4. Khai báo Optimizer và Loss function**\n",
        "Adam Optimizer và Binary Crossentropy loss."
      ]
    },
    {
      "cell_type": "code",
      "metadata": {
        "id": "_FwJ-m9iXUS3",
        "colab_type": "code",
        "colab": {}
      },
      "source": [
        "model.compile(optimizer='adam', \n",
        "              loss= tf.keras.losses.BinaryCrossentropy(from_logits=True), \n",
        "              metrics=['accuracy'])"
      ],
      "execution_count": 0,
      "outputs": []
    },
    {
      "cell_type": "markdown",
      "metadata": {
        "id": "J7kE0ZxhoB7B",
        "colab_type": "text"
      },
      "source": [
        "### **5. Tiến hành training**\n",
        "\n",
        "Thực hiện training trong 20 epoch. Trong quá trình training, các thông số như loss và accuracy trên tập validation sẽ được lưu lại.\n"
      ]
    },
    {
      "cell_type": "code",
      "metadata": {
        "id": "y5iNVPEWZQMU",
        "colab_type": "code",
        "outputId": "4c8a6778-4164-49cb-bd38-5ca702578330",
        "colab": {
          "base_uri": "https://localhost:8080/",
          "height": 697
        }
      },
      "source": [
        "history = model.fit(train_batches,\n",
        "                    epochs=20,\n",
        "                    validation_data=validation_batches,\n",
        "                    validation_steps=30)"
      ],
      "execution_count": 0,
      "outputs": [
        {
          "output_type": "stream",
          "text": [
            "Epoch 1/20\n",
            "469/469 [==============================] - 7s 14ms/step - loss: 0.6884 - accuracy: 0.5007 - val_loss: 0.6782 - val_accuracy: 0.5188\n",
            "Epoch 2/20\n",
            "469/469 [==============================] - 5s 11ms/step - loss: 0.6623 - accuracy: 0.5089 - val_loss: 0.6381 - val_accuracy: 0.5469\n",
            "Epoch 3/20\n",
            "469/469 [==============================] - 5s 11ms/step - loss: 0.6139 - accuracy: 0.5662 - val_loss: 0.5880 - val_accuracy: 0.6125\n",
            "Epoch 4/20\n",
            "469/469 [==============================] - 5s 11ms/step - loss: 0.5613 - accuracy: 0.6329 - val_loss: 0.5411 - val_accuracy: 0.6542\n",
            "Epoch 5/20\n",
            "469/469 [==============================] - 5s 11ms/step - loss: 0.5122 - accuracy: 0.7027 - val_loss: 0.5015 - val_accuracy: 0.7000\n",
            "Epoch 6/20\n",
            "469/469 [==============================] - 5s 11ms/step - loss: 0.4717 - accuracy: 0.7513 - val_loss: 0.4685 - val_accuracy: 0.7625\n",
            "Epoch 7/20\n",
            "469/469 [==============================] - 5s 11ms/step - loss: 0.4355 - accuracy: 0.7880 - val_loss: 0.4413 - val_accuracy: 0.7604\n",
            "Epoch 8/20\n",
            "469/469 [==============================] - 5s 11ms/step - loss: 0.4021 - accuracy: 0.8151 - val_loss: 0.4180 - val_accuracy: 0.7792\n",
            "Epoch 9/20\n",
            "469/469 [==============================] - 5s 11ms/step - loss: 0.3746 - accuracy: 0.8349 - val_loss: 0.3981 - val_accuracy: 0.8021\n",
            "Epoch 10/20\n",
            "469/469 [==============================] - 5s 11ms/step - loss: 0.3518 - accuracy: 0.8488 - val_loss: 0.3826 - val_accuracy: 0.8073\n",
            "Epoch 11/20\n",
            "469/469 [==============================] - 5s 11ms/step - loss: 0.3329 - accuracy: 0.8610 - val_loss: 0.3749 - val_accuracy: 0.7948\n",
            "Epoch 12/20\n",
            "469/469 [==============================] - 5s 10ms/step - loss: 0.3131 - accuracy: 0.8725 - val_loss: 0.3581 - val_accuracy: 0.8406\n",
            "Epoch 13/20\n",
            "469/469 [==============================] - 5s 11ms/step - loss: 0.2984 - accuracy: 0.8811 - val_loss: 0.3491 - val_accuracy: 0.8500\n",
            "Epoch 14/20\n",
            "469/469 [==============================] - 5s 11ms/step - loss: 0.2861 - accuracy: 0.8862 - val_loss: 0.3418 - val_accuracy: 0.8531\n",
            "Epoch 15/20\n",
            "469/469 [==============================] - 5s 10ms/step - loss: 0.2740 - accuracy: 0.8926 - val_loss: 0.3363 - val_accuracy: 0.8677\n",
            "Epoch 16/20\n",
            "469/469 [==============================] - 5s 10ms/step - loss: 0.2603 - accuracy: 0.8995 - val_loss: 0.3311 - val_accuracy: 0.8687\n",
            "Epoch 17/20\n",
            "469/469 [==============================] - 5s 11ms/step - loss: 0.2497 - accuracy: 0.9038 - val_loss: 0.3279 - val_accuracy: 0.8677\n",
            "Epoch 18/20\n",
            "469/469 [==============================] - 5s 11ms/step - loss: 0.2398 - accuracy: 0.9081 - val_loss: 0.3244 - val_accuracy: 0.8687\n",
            "Epoch 19/20\n",
            "469/469 [==============================] - 6s 12ms/step - loss: 0.2327 - accuracy: 0.9131 - val_loss: 0.3246 - val_accuracy: 0.8583\n",
            "Epoch 20/20\n",
            "469/469 [==============================] - 6s 12ms/step - loss: 0.2226 - accuracy: 0.9167 - val_loss: 0.3222 - val_accuracy: 0.8646\n"
          ],
          "name": "stdout"
        }
      ]
    },
    {
      "cell_type": "markdown",
      "metadata": {
        "id": "UgQqHIJjpBOC",
        "colab_type": "text"
      },
      "source": [
        "**6. Testing**"
      ]
    },
    {
      "cell_type": "code",
      "metadata": {
        "id": "YFtNISErZtr5",
        "colab_type": "code",
        "outputId": "78a926fc-b03a-4649-e72b-9a11ba619a8c",
        "colab": {
          "base_uri": "https://localhost:8080/",
          "height": 51
        }
      },
      "source": [
        "loss, accuracy = model.evaluate(test_batches, verbose=0)\n",
        "\n",
        "print(\"Loss: \", loss)\n",
        "print(\"Accuracy: \", accuracy)"
      ],
      "execution_count": 0,
      "outputs": [
        {
          "output_type": "stream",
          "text": [
            "Loss:  0.33074653916575414\n",
            "Accuracy:  0.8458\n"
          ],
          "name": "stdout"
        }
      ]
    },
    {
      "cell_type": "markdown",
      "metadata": {
        "id": "BnMfzUUppLUJ",
        "colab_type": "text"
      },
      "source": [
        "Với 20 epoch, model cho accuracy trên tập test khoảng 85%. Với cách tiếp cận nâng cao hơn, accuracy có thể lên tới 95%."
      ]
    },
    {
      "cell_type": "markdown",
      "metadata": {
        "id": "t9dMhptBdRBv",
        "colab_type": "text"
      },
      "source": [
        "### **7. Vẽ learning curve**\n"
      ]
    },
    {
      "cell_type": "code",
      "metadata": {
        "id": "7iiL9OxhdamQ",
        "colab_type": "code",
        "outputId": "5cc24553-53e9-4dc4-ba0a-2bcbb61dab86",
        "colab": {
          "base_uri": "https://localhost:8080/",
          "height": 34
        }
      },
      "source": [
        "history_dict = history.history\n",
        "history_dict.keys()"
      ],
      "execution_count": 0,
      "outputs": [
        {
          "output_type": "execute_result",
          "data": {
            "text/plain": [
              "dict_keys(['loss', 'accuracy', 'val_loss', 'val_accuracy'])"
            ]
          },
          "metadata": {
            "tags": []
          },
          "execution_count": 66
        }
      ]
    },
    {
      "cell_type": "code",
      "metadata": {
        "id": "lJaBAgmXdqFD",
        "colab_type": "code",
        "colab": {}
      },
      "source": [
        "epochs = range(20)\n",
        "train_loss = history_dict['loss']\n",
        "validation_loss = history_dict['val_loss']\n",
        "train_accuracy = history_dict['accuracy']\n",
        "validation_accuracy = history_dict['val_accuracy']"
      ],
      "execution_count": 0,
      "outputs": []
    },
    {
      "cell_type": "code",
      "metadata": {
        "id": "FSL4Q-mCemyB",
        "colab_type": "code",
        "colab": {}
      },
      "source": [
        "import matplotlib.pyplot as plt"
      ],
      "execution_count": 0,
      "outputs": []
    },
    {
      "cell_type": "code",
      "metadata": {
        "id": "R6SAHSe1eFSl",
        "colab_type": "code",
        "outputId": "e3cf8bcb-60e5-4334-95f5-5c597c80c561",
        "colab": {
          "base_uri": "https://localhost:8080/",
          "height": 283
        }
      },
      "source": [
        "plt.figure(figsize=(10, 4))\n",
        "\n",
        "plt.subplot(1, 2, 1)\n",
        "plt.plot(epochs, train_loss, 'b-', label='training loss')\n",
        "plt.plot(epochs, validation_loss, 'r-', label='validation loss')\n",
        "plt.ylim([0, 1])\n",
        "plt.legend()\n",
        "plt.xlabel('epoch')\n",
        "plt.ylabel('loss')\n",
        "\n",
        "plt.subplot(1, 2, 2)\n",
        "plt.plot(epochs, train_accuracy, 'b-', label='training accuracy')\n",
        "plt.plot(epochs, validation_accuracy, 'r-', label='validation accuracy')\n",
        "plt.ylim([0, 1])\n",
        "plt.legend(loc='lower right')\n",
        "plt.xlabel('epoch')\n",
        "plt.ylabel('accuracy')\n",
        "\n",
        "plt.show()"
      ],
      "execution_count": 0,
      "outputs": [
        {
          "output_type": "display_data",
          "data": {
            "image/png": "[encoded data removed]",
            "text/plain": [
              "<Figure size 720x288 with 2 Axes>"
            ]
          },
          "metadata": {
            "tags": []
          }
        }
      ]
    },
    {
      "cell_type": "markdown",
      "metadata": {
        "id": "eBhu3rwlh_TM",
        "colab_type": "text"
      },
      "source": [
        "Nhìn vào đồ thị trên ta có thể thấy, sau khoảng 10 epoch training loss vẫn tiếp tục giảm, tuy nhiên validation loss đã bão hòa. Việc tiếp tục training sau 10 epoch không giúp cải thiện accuracy thay vào đó dẫn tới overfitting."
      ]
    }
  ]
}