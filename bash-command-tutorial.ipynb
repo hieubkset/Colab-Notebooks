{
  "nbformat": 4,
  "nbformat_minor": 0,
  "metadata": {
    "colab": {
      "name": "bash-command-tutorial.ipynb",
      "provenance": [],
      "collapsed_sections": [],
      "authorship_tag": "ABX9TyMyKnyNr9Ri1yEGD9Wvf0f4",
      "include_colab_link": true
    },
    "kernelspec": {
      "name": "python3",
      "display_name": "Python 3"
    },
    "accelerator": "GPU"
  },
  "cells": [
    {
      "cell_type": "markdown",
      "metadata": {
        "id": "view-in-github",
        "colab_type": "text"
      },
      "source": [
        "<a href=\"https://colab.research.google.com/github/hieubkset/Colab-Notebooks/blob/master/bash-command-tutorial.ipynb\" target=\"_parent\"><img src=\"https://colab.research.google.com/assets/colab-badge.svg\" alt=\"Open In Colab\"/></a>"
      ]
    },
    {
      "cell_type": "markdown",
      "metadata": {
        "id": "BU0ssU2B0ojV",
        "colab_type": "text"
      },
      "source": [
        "## **Hướng dẫn sử dụng lệnh Bash**\n",
        "\n",
        "Trong tutorial này, các bạn sẽ tìm hiểu cách sử dụng lệnh Bash trên Google Colab, cách kiểm tra thông tin GPU, và cài đặt thêm thư viện cần thiết.\n",
        "\n",
        "<font color='red'>Để sử dụng các lệnh bash trên Colab, ta thêm tiền tố \"**!**\" vào phía trước câu lệnh. </font>\n",
        "\n",
        "Một số ví dụ:\n",
        "\n"
      ]
    },
    {
      "cell_type": "markdown",
      "metadata": {
        "id": "szsYcHSa1Urh",
        "colab_type": "text"
      },
      "source": [
        "*   Liệt kê các thư mục:\n",
        "\n"
      ]
    },
    {
      "cell_type": "code",
      "metadata": {
        "id": "l4UEwvU90m5p",
        "colab_type": "code",
        "outputId": "f65f892e-b573-4898-fde3-92a2c0f80ea1",
        "colab": {
          "base_uri": "https://localhost:8080/",
          "height": 69
        }
      },
      "source": [
        "!ls sample_data"
      ],
      "execution_count": 0,
      "outputs": [
        {
          "output_type": "stream",
          "text": [
            "anscombe.json\t\t      mnist_test.csv\n",
            "california_housing_test.csv   mnist_train_small.csv\n",
            "california_housing_train.csv  README.md\n"
          ],
          "name": "stdout"
        }
      ]
    },
    {
      "cell_type": "markdown",
      "metadata": {
        "id": "Dk4YEer61sNy",
        "colab_type": "text"
      },
      "source": [
        "*   Tạo một thư mục mới"
      ]
    },
    {
      "cell_type": "code",
      "metadata": {
        "id": "CGLF1Cw619Ts",
        "colab_type": "code",
        "outputId": "cc4ae6b1-1561-49af-bd7d-05b61cd1fae0",
        "colab": {
          "base_uri": "https://localhost:8080/",
          "height": 35
        }
      },
      "source": [
        "!mkdir images\n",
        "!ls"
      ],
      "execution_count": 0,
      "outputs": [
        {
          "output_type": "stream",
          "text": [
            "images\tsample_data\n"
          ],
          "name": "stdout"
        }
      ]
    },
    {
      "cell_type": "markdown",
      "metadata": {
        "id": "b3l8Vm_O1-tl",
        "colab_type": "text"
      },
      "source": [
        "*   Tải một file"
      ]
    },
    {
      "cell_type": "code",
      "metadata": {
        "id": "NOVz8PCS2fwq",
        "colab_type": "code",
        "outputId": "80921573-45fb-4477-d762-f9edf7f7159f",
        "colab": {
          "base_uri": "https://localhost:8080/",
          "height": 225
        }
      },
      "source": [
        "!wget -P images http://ezcodin.com/img/hello_world.jpeg\n",
        "!ls images"
      ],
      "execution_count": 0,
      "outputs": [
        {
          "output_type": "stream",
          "text": [
            "--2020-02-27 06:48:51--  http://ezcodin.com/img/hello_world.jpeg\n",
            "Resolving ezcodin.com (ezcodin.com)... 185.199.109.153, 185.199.110.153, 185.199.108.153, ...\n",
            "Connecting to ezcodin.com (ezcodin.com)|185.199.109.153|:80... connected.\n",
            "HTTP request sent, awaiting response... 200 OK\n",
            "Length: 18136 (18K) [image/jpeg]\n",
            "Saving to: ‘images/hello_world.jpeg’\n",
            "\n",
            "\rhello_world.jpeg      0%[                    ]       0  --.-KB/s               \rhello_world.jpeg    100%[===================>]  17.71K  --.-KB/s    in 0.01s   \n",
            "\n",
            "2020-02-27 06:48:51 (1.81 MB/s) - ‘images/hello_world.jpeg’ saved [18136/18136]\n",
            "\n",
            "hello_world.jpeg\n"
          ],
          "name": "stdout"
        }
      ]
    },
    {
      "cell_type": "markdown",
      "metadata": {
        "id": "vHWtTSRU2qiO",
        "colab_type": "text"
      },
      "source": [
        "* Clone một github repo\n"
      ]
    },
    {
      "cell_type": "code",
      "metadata": {
        "id": "uMr6q0G73Gfr",
        "colab_type": "code",
        "outputId": "dac2c569-1591-4da0-f9cf-71fa67a59049",
        "colab": {
          "base_uri": "https://localhost:8080/",
          "height": 156
        }
      },
      "source": [
        "!git clone https://github.com/hieubkset/OpenCV-Tutorials.git\n",
        "!ls"
      ],
      "execution_count": 0,
      "outputs": [
        {
          "output_type": "stream",
          "text": [
            "Cloning into 'OpenCV-Tutorials'...\n",
            "remote: Enumerating objects: 237, done.\u001b[K\n",
            "remote: Counting objects:   0% (1/237)\u001b[K\rremote: Counting objects:   1% (3/237)\u001b[K\rremote: Counting objects:   2% (5/237)\u001b[K\rremote: Counting objects:   3% (8/237)\u001b[K\rremote: Counting objects:   4% (10/237)\u001b[K\rremote: Counting objects:   5% (12/237)\u001b[K\rremote: Counting objects:   6% (15/237)\u001b[K\rremote: Counting objects:   7% (17/237)\u001b[K\rremote: Counting objects:   8% (19/237)\u001b[K\rremote: Counting objects:   9% (22/237)\u001b[K\rremote: Counting objects:  10% (24/237)\u001b[K\rremote: Counting objects:  11% (27/237)\u001b[K\rremote: Counting objects:  12% (29/237)\u001b[K\rremote: Counting objects:  13% (31/237)\u001b[K\rremote: Counting objects:  14% (34/237)\u001b[K\rremote: Counting objects:  15% (36/237)\u001b[K\rremote: Counting objects:  16% (38/237)\u001b[K\rremote: Counting objects:  17% (41/237)\u001b[K\rremote: Counting objects:  18% (43/237)\u001b[K\rremote: Counting objects:  19% (46/237)\u001b[K\rremote: Counting objects:  20% (48/237)\u001b[K\rremote: Counting objects:  21% (50/237)\u001b[K\rremote: Counting objects:  22% (53/237)\u001b[K\rremote: Counting objects:  23% (55/237)\u001b[K\rremote: Counting objects:  24% (57/237)\u001b[K\rremote: Counting objects:  25% (60/237)\u001b[K\rremote: Counting objects:  26% (62/237)\u001b[K\rremote: Counting objects:  27% (64/237)\u001b[K\rremote: Counting objects:  28% (67/237)\u001b[K\rremote: Counting objects:  29% (69/237)\u001b[K\rremote: Counting objects:  30% (72/237)\u001b[K\rremote: Counting objects:  31% (74/237)\u001b[K\rremote: Counting objects:  32% (76/237)\u001b[K\rremote: Counting objects:  33% (79/237)\u001b[K\rremote: Counting objects:  34% (81/237)\u001b[K\rremote: Counting objects:  35% (83/237)\u001b[K\rremote: Counting objects:  36% (86/237)\u001b[K\rremote: Counting objects:  37% (88/237)\u001b[K\rremote: Counting objects:  38% (91/237)\u001b[K\rremote: Counting objects:  39% (93/237)\u001b[K\rremote: Counting objects:  40% (95/237)\u001b[K\rremote: Counting objects:  41% (98/237)\u001b[K\rremote: Counting objects:  42% (100/237)\u001b[K\rremote: Counting objects:  43% (102/237)\u001b[K\rremote: Counting objects:  44% (105/237)\u001b[K\rremote: Counting objects:  45% (107/237)\u001b[K\rremote: Counting objects:  46% (110/237)\u001b[K\rremote: Counting objects:  47% (112/237)\u001b[K\rremote: Counting objects:  48% (114/237)\u001b[K\rremote: Counting objects:  49% (117/237)\u001b[K\rremote: Counting objects:  50% (119/237)\u001b[K\rremote: Counting objects:  51% (121/237)\u001b[K\rremote: Counting objects:  52% (124/237)\u001b[K\rremote: Counting objects:  53% (126/237)\u001b[K\rremote: Counting objects:  54% (128/237)\u001b[K\rremote: Counting objects:  55% (131/237)\u001b[K\rremote: Counting objects:  56% (133/237)\u001b[K\rremote: Counting objects:  57% (136/237)\u001b[K\rremote: Counting objects:  58% (138/237)\u001b[K\rremote: Counting objects:  59% (140/237)\u001b[K\rremote: Counting objects:  60% (143/237)\u001b[K\rremote: Counting objects:  61% (145/237)\u001b[K\rremote: Counting objects:  62% (147/237)\u001b[K\rremote: Counting objects:  63% (150/237)\u001b[K\rremote: Counting objects:  64% (152/237)\u001b[K\rremote: Counting objects:  65% (155/237)\u001b[K\rremote: Counting objects:  66% (157/237)\u001b[K\rremote: Counting objects:  67% (159/237)\u001b[K\rremote: Counting objects:  68% (162/237)\u001b[K\rremote: Counting objects:  69% (164/237)\u001b[K\rremote: Counting objects:  70% (166/237)\u001b[K\rremote: Counting objects:  71% (169/237)\u001b[K\rremote: Counting objects:  72% (171/237)\u001b[K\rremote: Counting objects:  73% (174/237)\u001b[K\rremote: Counting objects:  74% (176/237)\u001b[K\rremote: Counting objects:  75% (178/237)\u001b[K\rremote: Counting objects:  76% (181/237)\u001b[K\rremote: Counting objects:  77% (183/237)\u001b[K\rremote: Counting objects:  78% (185/237)\u001b[K\rremote: Counting objects:  79% (188/237)\u001b[K\rremote: Counting objects:  80% (190/237)\u001b[K\rremote: Counting objects:  81% (192/237)\u001b[K\rremote: Counting objects:  82% (195/237)\u001b[K\rremote: Counting objects:  83% (197/237)\u001b[K\rremote: Counting objects:  84% (200/237)\u001b[K\rremote: Counting objects:  85% (202/237)\u001b[K\rremote: Counting objects:  86% (204/237)\u001b[K\rremote: Counting objects:  87% (207/237)\u001b[K\rremote: Counting objects:  88% (209/237)\u001b[K\rremote: Counting objects:  89% (211/237)\u001b[K\rremote: Counting objects:  90% (214/237)\u001b[K\rremote: Counting objects:  91% (216/237)\u001b[K\rremote: Counting objects:  92% (219/237)\u001b[K\rremote: Counting objects:  93% (221/237)\u001b[K\rremote: Counting objects:  94% (223/237)\u001b[K\rremote: Counting objects:  95% (226/237)\u001b[K\rremote: Counting objects:  96% (228/237)\u001b[K\rremote: Counting objects:  97% (230/237)\u001b[K\rremote: Counting objects:  98% (233/237)\u001b[K\rremote: Counting objects:  99% (235/237)\u001b[K\rremote: Counting objects: 100% (237/237)\u001b[K\rremote: Counting objects: 100% (237/237), done.\u001b[K\n",
            "remote: Compressing objects: 100% (208/208), done.\u001b[K\n",
            "remote: Total 237 (delta 39), reused 219 (delta 22), pack-reused 0\u001b[K\n",
            "Receiving objects: 100% (237/237), 19.42 MiB | 32.27 MiB/s, done.\n",
            "Resolving deltas: 100% (39/39), done.\n",
            "images\tOpenCV-Tutorials  sample_data\n"
          ],
          "name": "stdout"
        }
      ]
    },
    {
      "cell_type": "markdown",
      "metadata": {
        "id": "D_hoQRkA3hTk",
        "colab_type": "text"
      },
      "source": [
        "* Kiểm tra CPU và RAM"
      ]
    },
    {
      "cell_type": "code",
      "metadata": {
        "id": "l2yT6jAM3npC",
        "colab_type": "code",
        "outputId": "31f11aa1-472d-4edf-ac92-5698898f874d",
        "colab": {
          "base_uri": "https://localhost:8080/",
          "height": 1000
        }
      },
      "source": [
        "!cat /proc/cpuinfo\n",
        "!cat /proc/meminfo"
      ],
      "execution_count": 0,
      "outputs": [
        {
          "output_type": "stream",
          "text": [
            "processor\t: 0\n",
            "vendor_id\t: GenuineIntel\n",
            "cpu family\t: 6\n",
            "model\t\t: 63\n",
            "model name\t: Intel(R) Xeon(R) CPU @ 2.30GHz\n",
            "stepping\t: 0\n",
            "microcode\t: 0x1\n",
            "cpu MHz\t\t: 2300.000\n",
            "cache size\t: 46080 KB\n",
            "physical id\t: 0\n",
            "siblings\t: 2\n",
            "core id\t\t: 0\n",
            "cpu cores\t: 1\n",
            "apicid\t\t: 0\n",
            "initial apicid\t: 0\n",
            "fpu\t\t: yes\n",
            "fpu_exception\t: yes\n",
            "cpuid level\t: 13\n",
            "wp\t\t: yes\n",
            "flags\t\t: fpu vme de pse tsc msr pae mce cx8 apic sep mtrr pge mca cmov pat pse36 clflush mmx fxsr sse sse2 ss ht syscall nx pdpe1gb rdtscp lm constant_tsc rep_good nopl xtopology nonstop_tsc cpuid tsc_known_freq pni pclmulqdq ssse3 fma cx16 pcid sse4_1 sse4_2 x2apic movbe popcnt aes xsave avx f16c rdrand hypervisor lahf_lm abm invpcid_single ssbd ibrs ibpb stibp fsgsbase tsc_adjust bmi1 avx2 smep bmi2 erms invpcid xsaveopt arat md_clear arch_capabilities\n",
            "bugs\t\t: cpu_meltdown spectre_v1 spectre_v2 spec_store_bypass l1tf mds swapgs\n",
            "bogomips\t: 4600.00\n",
            "clflush size\t: 64\n",
            "cache_alignment\t: 64\n",
            "address sizes\t: 46 bits physical, 48 bits virtual\n",
            "power management:\n",
            "\n",
            "processor\t: 1\n",
            "vendor_id\t: GenuineIntel\n",
            "cpu family\t: 6\n",
            "model\t\t: 63\n",
            "model name\t: Intel(R) Xeon(R) CPU @ 2.30GHz\n",
            "stepping\t: 0\n",
            "microcode\t: 0x1\n",
            "cpu MHz\t\t: 2300.000\n",
            "cache size\t: 46080 KB\n",
            "physical id\t: 0\n",
            "siblings\t: 2\n",
            "core id\t\t: 0\n",
            "cpu cores\t: 1\n",
            "apicid\t\t: 1\n",
            "initial apicid\t: 1\n",
            "fpu\t\t: yes\n",
            "fpu_exception\t: yes\n",
            "cpuid level\t: 13\n",
            "wp\t\t: yes\n",
            "flags\t\t: fpu vme de pse tsc msr pae mce cx8 apic sep mtrr pge mca cmov pat pse36 clflush mmx fxsr sse sse2 ss ht syscall nx pdpe1gb rdtscp lm constant_tsc rep_good nopl xtopology nonstop_tsc cpuid tsc_known_freq pni pclmulqdq ssse3 fma cx16 pcid sse4_1 sse4_2 x2apic movbe popcnt aes xsave avx f16c rdrand hypervisor lahf_lm abm invpcid_single ssbd ibrs ibpb stibp fsgsbase tsc_adjust bmi1 avx2 smep bmi2 erms invpcid xsaveopt arat md_clear arch_capabilities\n",
            "bugs\t\t: cpu_meltdown spectre_v1 spectre_v2 spec_store_bypass l1tf mds swapgs\n",
            "bogomips\t: 4600.00\n",
            "clflush size\t: 64\n",
            "cache_alignment\t: 64\n",
            "address sizes\t: 46 bits physical, 48 bits virtual\n",
            "power management:\n",
            "\n",
            "MemTotal:       13335188 kB\n",
            "MemFree:         9680900 kB\n",
            "MemAvailable:   12395728 kB\n",
            "Buffers:           88512 kB\n",
            "Cached:          2732940 kB\n",
            "SwapCached:            0 kB\n",
            "Active:          1017496 kB\n",
            "Inactive:        2339212 kB\n",
            "Active(anon):     486480 kB\n",
            "Inactive(anon):      316 kB\n",
            "Active(file):     531016 kB\n",
            "Inactive(file):  2338896 kB\n",
            "Unevictable:           0 kB\n",
            "Mlocked:               0 kB\n",
            "SwapTotal:             0 kB\n",
            "SwapFree:              0 kB\n",
            "Dirty:               436 kB\n",
            "Writeback:             0 kB\n",
            "AnonPages:        535260 kB\n",
            "Mapped:           324780 kB\n",
            "Shmem:               852 kB\n",
            "Slab:             201944 kB\n",
            "SReclaimable:     170136 kB\n",
            "SUnreclaim:        31808 kB\n",
            "KernelStack:        3584 kB\n",
            "PageTables:         6324 kB\n",
            "NFS_Unstable:          0 kB\n",
            "Bounce:                0 kB\n",
            "WritebackTmp:          0 kB\n",
            "CommitLimit:     6667592 kB\n",
            "Committed_AS:    2965760 kB\n",
            "VmallocTotal:   34359738367 kB\n",
            "VmallocUsed:           0 kB\n",
            "VmallocChunk:          0 kB\n",
            "AnonHugePages:         0 kB\n",
            "ShmemHugePages:        0 kB\n",
            "ShmemPmdMapped:        0 kB\n",
            "HugePages_Total:       0\n",
            "HugePages_Free:        0\n",
            "HugePages_Rsvd:        0\n",
            "HugePages_Surp:        0\n",
            "Hugepagesize:       2048 kB\n",
            "DirectMap4k:       69620 kB\n",
            "DirectMap2M:     6221824 kB\n",
            "DirectMap1G:     9437184 kB\n"
          ],
          "name": "stdout"
        }
      ]
    },
    {
      "cell_type": "markdown",
      "metadata": {
        "id": "-NfUY3zp3red",
        "colab_type": "text"
      },
      "source": [
        "* Kiểm tra GPU"
      ]
    },
    {
      "cell_type": "code",
      "metadata": {
        "id": "FizJv-cH4oPj",
        "colab_type": "code",
        "outputId": "c5c96a5a-f7e8-44fb-ccb3-bdcc4932dabb",
        "colab": {
          "base_uri": "https://localhost:8080/",
          "height": 532
        }
      },
      "source": [
        "from tensorflow.python.client import device_lib\n",
        "device_lib.list_local_devices()"
      ],
      "execution_count": 0,
      "outputs": [
        {
          "output_type": "display_data",
          "data": {
            "text/html": [
              "<p style=\"color: red;\">\n",
              "The default version of TensorFlow in Colab will soon switch to TensorFlow 2.x.<br>\n",
              "We recommend you <a href=\"https://www.tensorflow.org/guide/migrate\" target=\"_blank\">upgrade</a> now \n",
              "or ensure your notebook will continue to use TensorFlow 1.x via the <code>%tensorflow_version 1.x</code> magic:\n",
              "<a href=\"https://colab.research.google.com/notebooks/tensorflow_version.ipynb\" target=\"_blank\">more info</a>.</p>\n"
            ],
            "text/plain": [
              "<IPython.core.display.HTML object>"
            ]
          },
          "metadata": {
            "tags": []
          }
        },
        {
          "output_type": "execute_result",
          "data": {
            "text/plain": [
              "[name: \"/device:CPU:0\"\n",
              " device_type: \"CPU\"\n",
              " memory_limit: 268435456\n",
              " locality {\n",
              " }\n",
              " incarnation: 3718086186798824144, name: \"/device:XLA_CPU:0\"\n",
              " device_type: \"XLA_CPU\"\n",
              " memory_limit: 17179869184\n",
              " locality {\n",
              " }\n",
              " incarnation: 15628395012651973333\n",
              " physical_device_desc: \"device: XLA_CPU device\", name: \"/device:XLA_GPU:0\"\n",
              " device_type: \"XLA_GPU\"\n",
              " memory_limit: 17179869184\n",
              " locality {\n",
              " }\n",
              " incarnation: 14073940035298544618\n",
              " physical_device_desc: \"device: XLA_GPU device\", name: \"/device:GPU:0\"\n",
              " device_type: \"GPU\"\n",
              " memory_limit: 7470045594\n",
              " locality {\n",
              "   bus_id: 1\n",
              "   links {\n",
              "   }\n",
              " }\n",
              " incarnation: 11705890562296209534\n",
              " physical_device_desc: \"device: 0, name: Tesla P4, pci bus id: 0000:00:04.0, compute capability: 6.1\"]"
            ]
          },
          "metadata": {
            "tags": []
          },
          "execution_count": 1
        }
      ]
    },
    {
      "cell_type": "markdown",
      "metadata": {
        "id": "u-55-XxC4tQx",
        "colab_type": "text"
      },
      "source": [
        "* Các lệnh pip"
      ]
    },
    {
      "cell_type": "code",
      "metadata": {
        "id": "Cg2xgNou5Zeq",
        "colab_type": "code",
        "outputId": "f0ba0908-7ffa-4a85-f743-f22040f3b67c",
        "colab": {
          "base_uri": "https://localhost:8080/",
          "height": 1000
        }
      },
      "source": [
        "# Liệt kê các thư viện đã cài đặt\n",
        "pip list"
      ],
      "execution_count": 0,
      "outputs": [
        {
          "output_type": "stream",
          "text": [
            "Package                  Version        \n",
            "------------------------ ---------------\n",
            "absl-py                  0.9.0          \n",
            "alabaster                0.7.12         \n",
            "albumentations           0.1.12         \n",
            "altair                   4.0.1          \n",
            "asgiref                  3.2.3          \n",
            "astor                    0.8.1          \n",
            "astropy                  4.0            \n",
            "atari-py                 0.2.6          \n",
            "atomicwrites             1.3.0          \n",
            "attrs                    19.3.0         \n",
            "audioread                2.1.8          \n",
            "autograd                 1.3            \n",
            "Babel                    2.8.0          \n",
            "backcall                 0.1.0          \n",
            "backports.tempfile       1.0            \n",
            "backports.weakref        1.0.post1      \n",
            "beautifulsoup4           4.6.3          \n",
            "bleach                   3.1.0          \n",
            "blis                     0.2.4          \n",
            "bokeh                    1.4.0          \n",
            "boto                     2.49.0         \n",
            "boto3                    1.11.15        \n",
            "botocore                 1.14.15        \n",
            "Bottleneck               1.3.1          \n",
            "branca                   0.3.1          \n",
            "bs4                      0.0.1          \n",
            "bz2file                  0.98           \n",
            "cachetools               3.1.1          \n",
            "certifi                  2019.11.28     \n",
            "cffi                     1.14.0         \n",
            "chainer                  6.5.0          \n",
            "chardet                  3.0.4          \n",
            "chart-studio             1.0.0          \n",
            "Click                    7.0            \n",
            "cloudpickle              1.2.2          \n",
            "cmake                    3.12.0         \n",
            "colorlover               0.3.0          \n",
            "community                1.0.0b1        \n",
            "contextlib2              0.5.5          \n",
            "convertdate              2.2.0          \n",
            "coverage                 3.7.1          \n",
            "coveralls                0.5            \n",
            "crcmod                   1.7            \n",
            "cufflinks                0.17.0         \n",
            "cupy-cuda101             6.5.0          \n",
            "cvxopt                   1.2.4          \n",
            "cvxpy                    1.0.25         \n",
            "cycler                   0.10.0         \n",
            "cymem                    2.0.3          \n",
            "Cython                   0.29.15        \n",
            "daft                     0.0.4          \n",
            "dask                     2.9.2          \n",
            "dataclasses              0.7            \n",
            "datascience              0.10.6         \n",
            "decorator                4.4.1          \n",
            "defusedxml               0.6.0          \n",
            "descartes                1.1.0          \n",
            "dill                     0.3.1.1        \n",
            "distributed              1.25.3         \n",
            "Django                   3.0.3          \n",
            "dlib                     19.18.0        \n",
            "dm-sonnet                1.35           \n",
            "docopt                   0.6.2          \n",
            "docutils                 0.15.2         \n",
            "dopamine-rl              1.0.5          \n",
            "earthengine-api          0.1.213        \n",
            "easydict                 1.9            \n",
            "ecos                     2.0.7.post1    \n",
            "editdistance             0.5.3          \n",
            "en-core-web-sm           2.1.0          \n",
            "entrypoints              0.3            \n",
            "et-xmlfile               1.0.1          \n",
            "fa2                      0.3.5          \n",
            "fancyimpute              0.4.3          \n",
            "fastai                   1.0.60         \n",
            "fastdtw                  0.3.4          \n",
            "fastprogress             0.2.2          \n",
            "fastrlock                0.4            \n",
            "fbprophet                0.5            \n",
            "feather-format           0.4.0          \n",
            "featuretools             0.4.1          \n",
            "filelock                 3.0.12         \n",
            "fix-yahoo-finance        0.0.22         \n",
            "Flask                    1.1.1          \n",
            "folium                   0.8.3          \n",
            "fsspec                   0.6.2          \n",
            "future                   0.16.0         \n",
            "gast                     0.2.2          \n",
            "GDAL                     2.2.2          \n",
            "gdown                    3.6.4          \n",
            "gensim                   3.6.0          \n",
            "geographiclib            1.50           \n",
            "geopy                    1.17.0         \n",
            "gevent                   1.4.0          \n",
            "gin-config               0.3.0          \n",
            "glob2                    0.7            \n",
            "google                   2.0.3          \n",
            "google-api-core          1.16.0         \n",
            "google-api-python-client 1.7.11         \n",
            "google-auth              1.7.2          \n",
            "google-auth-httplib2     0.0.3          \n",
            "google-auth-oauthlib     0.4.1          \n",
            "google-cloud-bigquery    1.21.0         \n",
            "google-cloud-core        1.0.3          \n",
            "google-cloud-datastore   1.8.0          \n",
            "google-cloud-language    1.2.0          \n",
            "google-cloud-storage     1.16.2         \n",
            "google-cloud-translate   1.5.0          \n",
            "google-colab             1.0.0          \n",
            "google-pasta             0.1.8          \n",
            "google-resumable-media   0.4.1          \n",
            "googleapis-common-protos 1.51.0         \n",
            "googledrivedownloader    0.4            \n",
            "graph-nets               1.0.5          \n",
            "graphviz                 0.10.1         \n",
            "greenlet                 0.4.15         \n",
            "grpcio                   1.27.1         \n",
            "gspread                  3.0.1          \n",
            "gspread-dataframe        3.0.4          \n",
            "gunicorn                 20.0.4         \n",
            "gym                      0.15.6         \n",
            "h5py                     2.8.0          \n",
            "HeapDict                 1.0.1          \n",
            "holidays                 0.9.12         \n",
            "html5lib                 1.0.1          \n",
            "httpimport               0.5.18         \n",
            "httplib2                 0.11.3         \n",
            "httplib2shim             0.0.3          \n",
            "humanize                 0.5.1          \n",
            "hyperopt                 0.1.2          \n",
            "ideep4py                 2.0.0.post3    \n",
            "idna                     2.8            \n",
            "image                    1.5.28         \n",
            "imageio                  2.4.1          \n",
            "imagesize                1.2.0          \n",
            "imbalanced-learn         0.4.3          \n",
            "imblearn                 0.0            \n",
            "imgaug                   0.2.9          \n",
            "importlib-metadata       1.5.0          \n",
            "imutils                  0.5.3          \n",
            "inflect                  2.1.0          \n",
            "intel-openmp             2020.0.133     \n",
            "intervaltree             2.1.0          \n",
            "ipykernel                4.6.1          \n",
            "ipython                  5.5.0          \n",
            "ipython-genutils         0.2.0          \n",
            "ipython-sql              0.3.9          \n",
            "ipywidgets               7.5.1          \n",
            "itsdangerous             1.1.0          \n",
            "jax                      0.1.58         \n",
            "jaxlib                   0.1.38         \n",
            "jdcal                    1.4.1          \n",
            "jedi                     0.16.0         \n",
            "jieba                    0.42.1         \n",
            "Jinja2                   2.11.1         \n",
            "jmespath                 0.9.4          \n",
            "joblib                   0.14.1         \n",
            "jpeg4py                  0.1.4          \n",
            "jsonschema               2.6.0          \n",
            "jupyter                  1.0.0          \n",
            "jupyter-client           5.3.4          \n",
            "jupyter-console          5.2.0          \n",
            "jupyter-core             4.6.2          \n",
            "kaggle                   1.5.6          \n",
            "kapre                    0.1.3.1        \n",
            "Keras                    2.2.5          \n",
            "Keras-Applications       1.0.8          \n",
            "Keras-Preprocessing      1.1.0          \n",
            "keras-vis                0.4.1          \n",
            "kfac                     0.2.0          \n",
            "kiwisolver               1.1.0          \n",
            "knnimpute                0.1.0          \n",
            "librosa                  0.6.3          \n",
            "lightgbm                 2.2.3          \n",
            "llvmlite                 0.31.0         \n",
            "lmdb                     0.98           \n",
            "lucid                    0.3.8          \n",
            "lunardate                0.2.0          \n",
            "lxml                     4.2.6          \n",
            "magenta                  0.3.19         \n",
            "Markdown                 3.2.1          \n",
            "MarkupSafe               1.1.1          \n",
            "matplotlib               3.1.3          \n",
            "matplotlib-venn          0.11.5         \n",
            "mesh-tensorflow          0.1.9          \n",
            "mido                     1.2.6          \n",
            "mir-eval                 0.5            \n",
            "missingno                0.4.2          \n",
            "mistune                  0.8.4          \n",
            "mizani                   0.6.0          \n",
            "mkl                      2019.0         \n",
            "mlxtend                  0.14.0         \n",
            "more-itertools           8.2.0          \n",
            "moviepy                  0.2.3.5        \n",
            "mpi4py                   3.0.3          \n",
            "mpmath                   1.1.0          \n",
            "msgpack                  0.5.6          \n",
            "multiprocess             0.70.9         \n",
            "multitasking             0.0.9          \n",
            "murmurhash               1.0.2          \n",
            "music21                  5.5.0          \n",
            "natsort                  5.5.0          \n",
            "nbconvert                5.6.1          \n",
            "nbformat                 5.0.4          \n",
            "networkx                 2.4            \n",
            "nibabel                  2.3.3          \n",
            "nltk                     3.2.5          \n",
            "notebook                 5.2.2          \n",
            "np-utils                 0.5.12.1       \n",
            "numba                    0.47.0         \n",
            "numexpr                  2.7.1          \n",
            "numpy                    1.17.5         \n",
            "nvidia-ml-py3            7.352.0        \n",
            "oauth2client             4.1.3          \n",
            "oauthlib                 3.1.0          \n",
            "okgrade                  0.4.3          \n",
            "opencv-contrib-python    4.1.2.30       \n",
            "opencv-python            4.1.2.30       \n",
            "openpyxl                 2.5.9          \n",
            "opt-einsum               3.1.0          \n",
            "osqp                     0.6.1          \n",
            "packaging                20.1           \n",
            "palettable               3.3.0          \n",
            "pandas                   0.25.3         \n",
            "pandas-datareader        0.7.4          \n",
            "pandas-gbq               0.11.0         \n",
            "pandas-profiling         1.4.1          \n",
            "pandocfilters            1.4.2          \n",
            "parso                    0.6.1          \n",
            "pathlib                  1.0.1          \n",
            "patsy                    0.5.1          \n",
            "pexpect                  4.8.0          \n",
            "pickleshare              0.7.5          \n",
            "Pillow                   6.2.2          \n",
            "pip                      19.3.1         \n",
            "pip-tools                4.2.0          \n",
            "plac                     0.9.6          \n",
            "plotly                   4.4.1          \n",
            "plotnine                 0.6.0          \n",
            "pluggy                   0.7.1          \n",
            "portpicker               1.3.1          \n",
            "prefetch-generator       1.0.1          \n",
            "preshed                  2.0.1          \n",
            "pretty-midi              0.2.8          \n",
            "prettytable              0.7.2          \n",
            "progressbar2             3.38.0         \n",
            "prometheus-client        0.7.1          \n",
            "promise                  2.3            \n",
            "prompt-toolkit           1.0.18         \n",
            "protobuf                 3.10.0         \n",
            "psutil                   5.4.8          \n",
            "psycopg2                 2.7.6.1        \n",
            "ptyprocess               0.6.0          \n",
            "py                       1.8.1          \n",
            "pyarrow                  0.14.1         \n",
            "pyasn1                   0.4.8          \n",
            "pyasn1-modules           0.2.8          \n",
            "pycocotools              2.0.0          \n",
            "pycparser                2.19           \n",
            "pydata-google-auth       0.3.0          \n",
            "pydot                    1.3.0          \n",
            "pydot-ng                 2.0.0          \n",
            "pydotplus                2.0.2          \n",
            "PyDrive                  1.3.1          \n",
            "pyemd                    0.5.1          \n",
            "pyglet                   1.4.10         \n",
            "Pygments                 2.1.3          \n",
            "pygobject                3.26.1         \n",
            "pymc3                    3.7            \n",
            "PyMeeus                  0.3.6          \n",
            "pymongo                  3.10.1         \n",
            "pymystem3                0.2.0          \n",
            "PyOpenGL                 3.1.5          \n",
            "pyparsing                2.4.6          \n",
            "pypng                    0.0.20         \n",
            "pyrsistent               0.15.7         \n",
            "pysndfile                1.3.8          \n",
            "PySocks                  1.7.1          \n",
            "pystan                   2.19.1.1       \n",
            "pytest                   3.6.4          \n",
            "python-apt               1.6.5+ubuntu0.2\n",
            "python-chess             0.23.11        \n",
            "python-dateutil          2.6.1          \n",
            "python-louvain           0.13           \n",
            "python-rtmidi            1.4.0          \n",
            "python-slugify           4.0.0          \n",
            "python-utils             2.3.0          \n",
            "pytz                     2018.9         \n",
            "PyWavelets               1.1.1          \n",
            "PyYAML                   3.13           \n",
            "pyzmq                    17.0.0         \n",
            "qtconsole                4.6.0          \n",
            "regex                    2019.12.20     \n",
            "requests                 2.21.0         \n",
            "requests-oauthlib        1.3.0          \n",
            "resampy                  0.2.2          \n",
            "retrying                 1.3.3          \n",
            "rpy2                     2.9.5          \n",
            "rsa                      4.0            \n",
            "s3fs                     0.4.0          \n",
            "s3transfer               0.3.3          \n",
            "scikit-image             0.16.2         \n",
            "scikit-learn             0.22.1         \n",
            "scipy                    1.4.1          \n",
            "screen-resolution-extra  0.0.0          \n",
            "scs                      2.1.1.post2    \n",
            "seaborn                  0.10.0         \n",
            "semantic-version         2.8.4          \n",
            "Send2Trash               1.5.0          \n",
            "setuptools               45.1.0         \n",
            "setuptools-git           1.2            \n",
            "Shapely                  1.7.0          \n",
            "simplegeneric            0.8.1          \n",
            "six                      1.12.0         \n",
            "sklearn                  0.0            \n",
            "sklearn-pandas           1.8.0          \n",
            "smart-open               1.9.0          \n",
            "snowballstemmer          2.0.0          \n",
            "sortedcontainers         2.1.0          \n",
            "spacy                    2.1.9          \n",
            "Sphinx                   1.8.5          \n",
            "sphinxcontrib-websupport 1.2.0          \n",
            "SQLAlchemy               1.3.13         \n",
            "sqlparse                 0.3.0          \n",
            "srsly                    1.0.1          \n",
            "stable-baselines         2.2.1          \n",
            "statsmodels              0.10.2         \n",
            "sympy                    1.1.1          \n",
            "tables                   3.4.4          \n",
            "tabulate                 0.8.6          \n",
            "tblib                    1.6.0          \n",
            "tensor2tensor            1.14.1         \n",
            "tensorboard              1.15.0         \n",
            "tensorboardcolab         0.0.22         \n",
            "tensorflow               1.15.0         \n",
            "tensorflow-datasets      2.0.0          \n",
            "tensorflow-estimator     1.15.1         \n",
            "tensorflow-gan           2.0.0          \n",
            "tensorflow-hub           0.7.0          \n",
            "tensorflow-metadata      0.21.1         \n",
            "tensorflow-privacy       0.2.2          \n",
            "tensorflow-probability   0.7.0          \n",
            "termcolor                1.1.0          \n",
            "terminado                0.8.3          \n",
            "testpath                 0.4.4          \n",
            "text-unidecode           1.3            \n",
            "textblob                 0.15.3         \n",
            "textgenrnn               1.4.1          \n",
            "tflearn                  0.3.2          \n",
            "Theano                   1.0.4          \n",
            "thinc                    7.0.8          \n",
            "toolz                    0.10.0         \n",
            "torch                    1.4.0          \n",
            "torchsummary             1.5.1          \n",
            "torchtext                0.3.1          \n",
            "torchvision              0.5.0          \n",
            "tornado                  4.5.3          \n",
            "tqdm                     4.28.1         \n",
            "traitlets                4.3.3          \n",
            "tweepy                   3.6.0          \n",
            "typing                   3.6.6          \n",
            "typing-extensions        3.6.6          \n",
            "tzlocal                  1.5.1          \n",
            "umap-learn               0.3.10         \n",
            "uritemplate              3.0.1          \n",
            "urllib3                  1.24.3         \n",
            "vega-datasets            0.8.0          \n",
            "wasabi                   0.6.0          \n",
            "wcwidth                  0.1.8          \n",
            "webencodings             0.5.1          \n",
            "Werkzeug                 1.0.0          \n",
            "wheel                    0.34.2         \n",
            "widgetsnbextension       3.5.1          \n",
            "wordcloud                1.5.0          \n",
            "wrapt                    1.11.2         \n",
            "xarray                   0.14.1         \n",
            "xgboost                  0.90           \n",
            "xkit                     0.0.0          \n",
            "xlrd                     1.1.0          \n",
            "xlwt                     1.3.0          \n",
            "yellowbrick              0.9.1          \n",
            "zict                     1.0.0          \n",
            "zipp                     3.0.0          \n",
            "zmq                      0.0.0          \n"
          ],
          "name": "stdout"
        }
      ]
    },
    {
      "cell_type": "code",
      "metadata": {
        "id": "2__qIYXn5nKY",
        "colab_type": "code",
        "outputId": "5251929a-aaf2-4bc5-ef5c-60accdfcd0c9",
        "colab": {
          "base_uri": "https://localhost:8080/",
          "height": 52
        }
      },
      "source": [
        "# Để biết một thư viện đã được cài đặt hay chưa\n",
        "# sử dụng pip và grep để lọc\n",
        "# cách này chỉ cần một phần tên của thư viện\n",
        "!pip list | grep opencv"
      ],
      "execution_count": 0,
      "outputs": [
        {
          "output_type": "stream",
          "text": [
            "opencv-contrib-python    4.1.2.30       \n",
            "opencv-python            4.1.2.30       \n"
          ],
          "name": "stdout"
        }
      ]
    },
    {
      "cell_type": "code",
      "metadata": {
        "id": "DVkW1mKn544t",
        "colab_type": "code",
        "outputId": "baa00a6f-d9a7-43e2-8622-0293586f84f7",
        "colab": {
          "base_uri": "https://localhost:8080/",
          "height": 191
        }
      },
      "source": [
        "# Hoặc sử dụng pip show\n",
        "!pip show opencv-python"
      ],
      "execution_count": 0,
      "outputs": [
        {
          "output_type": "stream",
          "text": [
            "Name: opencv-python\n",
            "Version: 4.1.2.30\n",
            "Summary: Wrapper package for OpenCV python bindings.\n",
            "Home-page: https://github.com/skvark/opencv-python\n",
            "Author: None\n",
            "Author-email: None\n",
            "License: MIT\n",
            "Location: /usr/local/lib/python3.6/dist-packages\n",
            "Requires: numpy\n",
            "Required-by: tensor2tensor, stable-baselines, imgaug, dopamine-rl, albumentations\n"
          ],
          "name": "stdout"
        }
      ]
    },
    {
      "cell_type": "code",
      "metadata": {
        "id": "UlBT0WUB57b1",
        "colab_type": "code",
        "outputId": "f3e0b020-6f2c-43ba-e598-91ee6b1919cf",
        "colab": {
          "base_uri": "https://localhost:8080/",
          "height": 384
        }
      },
      "source": [
        "# Cài đặt một version\n",
        "!pip install opencv-python==3.4.9.31\n",
        "!pip show opencv-python"
      ],
      "execution_count": 0,
      "outputs": [
        {
          "output_type": "stream",
          "text": [
            "Collecting opencv-python==3.4.9.31\n",
            "\u001b[?25l  Downloading https://files.pythonhosted.org/packages/cc/a6/a5965abd20edf570346dc98b0b4ce2cc71b6c9a551e05e4ca40cc08ef2c2/opencv_python-3.4.9.31-cp36-cp36m-manylinux1_x86_64.whl (28.2MB)\n",
            "\u001b[K     |████████████████████████████████| 28.2MB 111kB/s \n",
            "\u001b[?25hRequirement already satisfied: numpy>=1.11.3 in /usr/local/lib/python3.6/dist-packages (from opencv-python==3.4.9.31) (1.17.5)\n",
            "\u001b[31mERROR: albumentations 0.1.12 has requirement imgaug<0.2.7,>=0.2.5, but you'll have imgaug 0.2.9 which is incompatible.\u001b[0m\n",
            "Installing collected packages: opencv-python\n",
            "  Found existing installation: opencv-python 4.1.2.30\n",
            "    Uninstalling opencv-python-4.1.2.30:\n",
            "      Successfully uninstalled opencv-python-4.1.2.30\n",
            "Successfully installed opencv-python-3.4.9.31\n",
            "Name: opencv-python\n",
            "Version: 3.4.9.31\n",
            "Summary: Wrapper package for OpenCV python bindings.\n",
            "Home-page: https://github.com/skvark/opencv-python\n",
            "Author: None\n",
            "Author-email: None\n",
            "License: MIT\n",
            "Location: /usr/local/lib/python3.6/dist-packages\n",
            "Requires: numpy\n",
            "Required-by: tensor2tensor, stable-baselines, imgaug, dopamine-rl, albumentations\n"
          ],
          "name": "stdout"
        }
      ]
    },
    {
      "cell_type": "markdown",
      "metadata": {
        "id": "6meNvm5_6-Eu",
        "colab_type": "text"
      },
      "source": [
        "* Cài đặt các gói hệ thống"
      ]
    },
    {
      "cell_type": "code",
      "metadata": {
        "id": "Wm3Z7IYs7ayQ",
        "colab_type": "code",
        "outputId": "549d89ff-7bd1-464d-fc62-4e6cae75a8f6",
        "colab": {
          "base_uri": "https://localhost:8080/",
          "height": 156
        }
      },
      "source": [
        "# Install 7zip reader libarchive\n",
        "# https://pypi.python.org/pypi/libarchive\n",
        "!apt-get -qq install -y libarchive-dev && pip install -q -U libarchive\n",
        "import libarchive"
      ],
      "execution_count": 0,
      "outputs": [
        {
          "output_type": "stream",
          "text": [
            "Selecting previously unselected package libarchive-dev:amd64.\n",
            "(Reading database ... \r(Reading database ... 5%\r(Reading database ... 10%\r(Reading database ... 15%\r(Reading database ... 20%\r(Reading database ... 25%\r(Reading database ... 30%\r(Reading database ... 35%\r(Reading database ... 40%\r(Reading database ... 45%\r(Reading database ... 50%\r(Reading database ... 55%\r(Reading database ... 60%\r(Reading database ... 65%\r(Reading database ... 70%\r(Reading database ... 75%\r(Reading database ... 80%\r(Reading database ... 85%\r(Reading database ... 90%\r(Reading database ... 95%\r(Reading database ... 100%\r(Reading database ... 145113 files and directories currently installed.)\n",
            "Preparing to unpack .../libarchive-dev_3.2.2-3.1ubuntu0.5_amd64.deb ...\n",
            "Unpacking libarchive-dev:amd64 (3.2.2-3.1ubuntu0.5) ...\n",
            "Setting up libarchive-dev:amd64 (3.2.2-3.1ubuntu0.5) ...\n",
            "Processing triggers for man-db (2.8.3-2ubuntu0.1) ...\n",
            "\u001b[K     |████████████████████████████████| 163kB 45.8MB/s \n",
            "\u001b[?25h  Building wheel for libarchive (setup.py) ... \u001b[?25l\u001b[?25hdone\n"
          ],
          "name": "stdout"
        }
      ]
    },
    {
      "cell_type": "code",
      "metadata": {
        "id": "-BjEDDtu7hHv",
        "colab_type": "code",
        "colab": {}
      },
      "source": [
        "# Install GraphViz & PyDot\n",
        "# https://pypi.python.org/pypi/pydot\n",
        "!apt-get -qq install -y graphviz && pip install -q pydot\n",
        "import pydot"
      ],
      "execution_count": 0,
      "outputs": []
    },
    {
      "cell_type": "code",
      "metadata": {
        "id": "ZUVTWp4L7jon",
        "colab_type": "code",
        "colab": {}
      },
      "source": [
        "# Install cartopy\n",
        "!apt-get -qq install python-cartopy python3-cartopy\n",
        "import cartopy"
      ],
      "execution_count": 0,
      "outputs": []
    }
  ]
}