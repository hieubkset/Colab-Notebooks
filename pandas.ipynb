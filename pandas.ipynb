{
  "nbformat": 4,
  "nbformat_minor": 0,
  "metadata": {
    "colab": {
      "name": "pandas.ipynb",
      "provenance": [],
      "collapsed_sections": [],
      "toc_visible": true,
      "authorship_tag": "ABX9TyN3WV6e/AMLOoerGidQLtYn",
      "include_colab_link": true
    },
    "kernelspec": {
      "name": "python3",
      "display_name": "Python 3"
    }
  },
  "cells": [
    {
      "cell_type": "markdown",
      "metadata": {
        "id": "view-in-github",
        "colab_type": "text"
      },
      "source": [
        "<a href=\"https://colab.research.google.com/github/hieubkset/Colab-Notebooks/blob/master/pandas.ipynb\" target=\"_parent\"><img src=\"https://colab.research.google.com/assets/colab-badge.svg\" alt=\"Open In Colab\"/></a>"
      ]
    },
    {
      "cell_type": "markdown",
      "metadata": {
        "id": "XxeGVbCQ5Xyd",
        "colab_type": "text"
      },
      "source": [
        "# Học Pandas trong 5 phút"
      ]
    },
    {
      "cell_type": "markdown",
      "metadata": {
        "id": "kKecXgxS5oI1",
        "colab_type": "text"
      },
      "source": [
        "![pandas](https://1.bp.blogspot.com/-TFpGqKhrhe0/WTImZqTY2fI/AAAAAAAADmk/T-ieF0Cm9cAsYCuOKflQmnWYrdTqHMmUgCLcB/s400/pandas.png)\n",
        "\n",
        "[Pandas](https://pandas.pydata.org/) là một thư viện cung cấp các hàm dùng để đọc, ghi, thao tác với tệp csv - một loại tệp tương tự như Excel. \n",
        "\n",
        "Tệp csv được dùng để lưu các thông tin theo hàng vào cột. Trong đó, mỗi cột là một trường thông tin, mỗi hàng là một bản ghi. Một ví dụ về tệp csv như sau: \n",
        "\n"
      ]
    },
    {
      "cell_type": "markdown",
      "metadata": {
        "id": "AoPHva27o7VV",
        "colab_type": "text"
      },
      "source": [
        "<table border=\"1\" class=\"dataframe\">\n",
        "  <thead>\n",
        "    <tr style=\"text-align: right;\">\n",
        "      <th></th>\n",
        "      <th>person_ID</th>\n",
        "      <th>name</th>\n",
        "      <th>first</th>\n",
        "      <th>last</th>\n",
        "      <th>middle</th>\n",
        "      <th>email</th>\n",
        "      <th>phone</th>\n",
        "      <th>fax</th>\n",
        "      <th>title</th>\n",
        "      <th>age</th>\n",
        "    </tr>\n",
        "  </thead>\n",
        "  <tbody>\n",
        "    <tr>\n",
        "      <th>0</th>\n",
        "      <td>3130</td>\n",
        "      <td>Burks, Rosella</td>\n",
        "      <td>Rosella</td>\n",
        "      <td>Burks</td>\n",
        "      <td>NaN</td>\n",
        "      <td>BurksR@univ.edu</td>\n",
        "      <td>963.555.1253</td>\n",
        "      <td>963.777.4065</td>\n",
        "      <td>Professor</td>\n",
        "      <td>41</td>\n",
        "    </tr>\n",
        "    <tr>\n",
        "      <th>1</th>\n",
        "      <td>3297</td>\n",
        "      <td>Avila, Damien</td>\n",
        "      <td>Damien</td>\n",
        "      <td>Avila</td>\n",
        "      <td>NaN</td>\n",
        "      <td>AvilaD@univ.edu</td>\n",
        "      <td>963.555.1352</td>\n",
        "      <td>963.777.7914</td>\n",
        "      <td>Professor</td>\n",
        "      <td>49</td>\n",
        "    </tr>\n",
        "    <tr>\n",
        "      <th>2</th>\n",
        "      <td>3547</td>\n",
        "      <td>Olsen, Robin</td>\n",
        "      <td>Robin</td>\n",
        "      <td>Olsen</td>\n",
        "      <td>NaN</td>\n",
        "      <td>OlsenR@univ.edu</td>\n",
        "      <td>963.555.1378</td>\n",
        "      <td>963.777.9262</td>\n",
        "      <td>Assistant Professor</td>\n",
        "      <td>48</td>\n",
        "    </tr>\n",
        "    <tr>\n",
        "      <th>3</th>\n",
        "      <td>1538</td>\n",
        "      <td>Moises, Edgar Estes</td>\n",
        "      <td>Edgar</td>\n",
        "      <td>Moises</td>\n",
        "      <td>Estes</td>\n",
        "      <td>MoisesE@univ.edu</td>\n",
        "      <td>963.555.2731x3565</td>\n",
        "      <td>963.777.8264</td>\n",
        "      <td>Professor</td>\n",
        "      <td>38</td>\n",
        "    </tr>\n",
        "    <tr>\n",
        "      <th>4</th>\n",
        "      <td>2941</td>\n",
        "      <td>Brian, Heath Pruitt</td>\n",
        "      <td>Heath</td>\n",
        "      <td>Brian</td>\n",
        "      <td>Pruitt</td>\n",
        "      <td>BrianH@univ.edu</td>\n",
        "      <td>963.555.2800</td>\n",
        "      <td>963.777.7249</td>\n",
        "      <td>Associate Curator</td>\n",
        "      <td>38</td>\n",
        "    </tr>\n",
        "  </tbody>\n",
        "</table>"
      ]
    },
    {
      "cell_type": "markdown",
      "metadata": {
        "id": "OM1qicG37lBG",
        "colab_type": "text"
      },
      "source": [
        "Tệp csv thường được dùng trong Machine Learning như lưu trữ dataset hoặc để lưu dự đoán của model. Một ví dụ sử dụng tệp csv trên [Kaggle](https://www.kaggle.com/c/digit-recognizer/data).\n",
        "\n"
      ]
    },
    {
      "cell_type": "markdown",
      "metadata": {
        "id": "gSBUN6Ym8MOI",
        "colab_type": "text"
      },
      "source": [
        "Trong bài này, chúng ta sẽ tìm hiểu cách làm việc với tệp csv sử dụng Pandas."
      ]
    },
    {
      "cell_type": "markdown",
      "metadata": {
        "id": "chRow-lpkDiM",
        "colab_type": "text"
      },
      "source": [
        "## Khai báo thư viện"
      ]
    },
    {
      "cell_type": "code",
      "metadata": {
        "id": "Ga-pxPT0kDaB",
        "colab_type": "code",
        "colab": {}
      },
      "source": [
        "import pandas as pd"
      ],
      "execution_count": 0,
      "outputs": []
    },
    {
      "cell_type": "markdown",
      "metadata": {
        "id": "2Ll0vzW1kYgU",
        "colab_type": "text"
      },
      "source": [
        "## 1. Đọc một tệp csv"
      ]
    },
    {
      "cell_type": "code",
      "metadata": {
        "colab_type": "code",
        "id": "a8KeOOKBkfta",
        "colab": {}
      },
      "source": [
        "people_df = pd.read_csv('people.csv', encoding='utf-8', header=0, sep=',')"
      ],
      "execution_count": 0,
      "outputs": []
    },
    {
      "cell_type": "markdown",
      "metadata": {
        "id": "bUylMA1Ik0LQ",
        "colab_type": "text"
      },
      "source": [
        "Sử dụng hàm `pd.read_csv` và truyền vào các tham số:\n",
        "\n",
        "+ địa chỉ tệp csv\n",
        "+ encoding: mặc định là 'utf-8'\n",
        "+ header: số thứ tự của hàng header\n",
        "+ sep: cho biết cách các trường dữ liệu được ngăn cách"
      ]
    },
    {
      "cell_type": "markdown",
      "metadata": {
        "id": "fsY72-jfliGs",
        "colab_type": "text"
      },
      "source": [
        "Ví dụ về nội dung của một tệp csv:"
      ]
    },
    {
      "cell_type": "code",
      "metadata": {
        "id": "oo1dPMHBle7f",
        "colab_type": "code",
        "colab": {}
      },
      "source": [
        "person_ID,name,first,last,middle,email,phone,fax,title,age\n",
        "3130,\"Burks, Rosella \",Rosella,Burks,,BurksR@univ.edu,963.555.1253,963.777.4065,Professor ,41\n",
        "3297,\"Avila, Damien \",Damien,Avila,,AvilaD@univ.edu,963.555.1352,963.777.7914,Professor ,49\n",
        "3547,\"Olsen, Robin \",Robin,Olsen,,OlsenR@univ.edu,963.555.1378,963.777.9262,Assistant Professor,48\n",
        "1538,\"Moises, Edgar Estes\",Edgar,Moises,Estes,MoisesE@univ.edu,963.555.2731x3565,963.777.8264,Professor,38\n",
        "2941,\"Brian, Heath Pruitt\",Heath,Brian,Pruitt,BrianH@univ.edu,963.555.2800,963.777.7249,Associate Curator ,38"
      ],
      "execution_count": 0,
      "outputs": []
    },
    {
      "cell_type": "markdown",
      "metadata": {
        "id": "HbX0y-UHlyRc",
        "colab_type": "text"
      },
      "source": [
        "Dòng thứ nhất cho biết các header, hay tên đại diện cho các trường thông tin: person_ID, name,..., age.\n",
        "Thông thường truyền `header=None` (tệp csv không có chứa header) hoặc `header=0` (header nằm ở hàng đầu tiên)."
      ]
    },
    {
      "cell_type": "markdown",
      "metadata": {
        "id": "1nspDGjFmVmB",
        "colab_type": "text"
      },
      "source": [
        "`sep` thường là dấu `,` hoặc khoảng trắng."
      ]
    },
    {
      "cell_type": "code",
      "metadata": {
        "id": "F7t-t99rmiz6",
        "colab_type": "code",
        "colab": {
          "base_uri": "https://localhost:8080/",
          "height": 34
        },
        "outputId": "0e21ea20-2938-4585-8aef-6aba3226b902"
      },
      "source": [
        "type(people_df)"
      ],
      "execution_count": 13,
      "outputs": [
        {
          "output_type": "execute_result",
          "data": {
            "text/plain": [
              "pandas.core.frame.DataFrame"
            ]
          },
          "metadata": {
            "tags": []
          },
          "execution_count": 13
        }
      ]
    },
    {
      "cell_type": "markdown",
      "metadata": {
        "id": "TB88f47Smm6_",
        "colab_type": "text"
      },
      "source": [
        "Hàm `pd.read_csv` trả về một đối tượng thuộc kiểu [DataFrame](https://pandas.pydata.org/pandas-docs/stable/reference/frame.html). "
      ]
    },
    {
      "cell_type": "markdown",
      "metadata": {
        "id": "lLrNG5HsnFPr",
        "colab_type": "text"
      },
      "source": [
        "## 2. Xem các bản ghi đầu tiên"
      ]
    },
    {
      "cell_type": "markdown",
      "metadata": {
        "id": "RUjCyD1inJw0",
        "colab_type": "text"
      },
      "source": [
        "Sử dụng hàm `df.head` và truyền vào số bản ghi muốn xem.\n",
        "\n",
        "Note: `df` là viết tắt của DataFrame. Viết `df.head` tức `head` là một phương thức của lớp DataFrame."
      ]
    },
    {
      "cell_type": "code",
      "metadata": {
        "id": "UBbKivsvkqC7",
        "colab_type": "code",
        "colab": {
          "base_uri": "https://localhost:8080/",
          "height": 204
        },
        "outputId": "04e11837-d54b-48ad-f3f6-46864fbb572b"
      },
      "source": [
        "people_df.head(5)"
      ],
      "execution_count": 14,
      "outputs": [
        {
          "output_type": "execute_result",
          "data": {
            "text/html": [
              "<div>\n",
              "<style scoped>\n",
              "    .dataframe tbody tr th:only-of-type {\n",
              "        vertical-align: middle;\n",
              "    }\n",
              "\n",
              "    .dataframe tbody tr th {\n",
              "        vertical-align: top;\n",
              "    }\n",
              "\n",
              "    .dataframe thead th {\n",
              "        text-align: right;\n",
              "    }\n",
              "</style>\n",
              "<table border=\"1\" class=\"dataframe\">\n",
              "  <thead>\n",
              "    <tr style=\"text-align: right;\">\n",
              "      <th></th>\n",
              "      <th>person_ID</th>\n",
              "      <th>name</th>\n",
              "      <th>first</th>\n",
              "      <th>last</th>\n",
              "      <th>middle</th>\n",
              "      <th>email</th>\n",
              "      <th>phone</th>\n",
              "      <th>fax</th>\n",
              "      <th>title</th>\n",
              "      <th>age</th>\n",
              "    </tr>\n",
              "  </thead>\n",
              "  <tbody>\n",
              "    <tr>\n",
              "      <th>0</th>\n",
              "      <td>3130</td>\n",
              "      <td>Burks, Rosella</td>\n",
              "      <td>Rosella</td>\n",
              "      <td>Burks</td>\n",
              "      <td>NaN</td>\n",
              "      <td>BurksR@univ.edu</td>\n",
              "      <td>963.555.1253</td>\n",
              "      <td>963.777.4065</td>\n",
              "      <td>Professor</td>\n",
              "      <td>41</td>\n",
              "    </tr>\n",
              "    <tr>\n",
              "      <th>1</th>\n",
              "      <td>3297</td>\n",
              "      <td>Avila, Damien</td>\n",
              "      <td>Damien</td>\n",
              "      <td>Avila</td>\n",
              "      <td>NaN</td>\n",
              "      <td>AvilaD@univ.edu</td>\n",
              "      <td>963.555.1352</td>\n",
              "      <td>963.777.7914</td>\n",
              "      <td>Professor</td>\n",
              "      <td>49</td>\n",
              "    </tr>\n",
              "    <tr>\n",
              "      <th>2</th>\n",
              "      <td>3547</td>\n",
              "      <td>Olsen, Robin</td>\n",
              "      <td>Robin</td>\n",
              "      <td>Olsen</td>\n",
              "      <td>NaN</td>\n",
              "      <td>OlsenR@univ.edu</td>\n",
              "      <td>963.555.1378</td>\n",
              "      <td>963.777.9262</td>\n",
              "      <td>Assistant Professor</td>\n",
              "      <td>48</td>\n",
              "    </tr>\n",
              "    <tr>\n",
              "      <th>3</th>\n",
              "      <td>1538</td>\n",
              "      <td>Moises, Edgar Estes</td>\n",
              "      <td>Edgar</td>\n",
              "      <td>Moises</td>\n",
              "      <td>Estes</td>\n",
              "      <td>MoisesE@univ.edu</td>\n",
              "      <td>963.555.2731x3565</td>\n",
              "      <td>963.777.8264</td>\n",
              "      <td>Professor</td>\n",
              "      <td>38</td>\n",
              "    </tr>\n",
              "    <tr>\n",
              "      <th>4</th>\n",
              "      <td>2941</td>\n",
              "      <td>Brian, Heath Pruitt</td>\n",
              "      <td>Heath</td>\n",
              "      <td>Brian</td>\n",
              "      <td>Pruitt</td>\n",
              "      <td>BrianH@univ.edu</td>\n",
              "      <td>963.555.2800</td>\n",
              "      <td>963.777.7249</td>\n",
              "      <td>Associate Curator</td>\n",
              "      <td>38</td>\n",
              "    </tr>\n",
              "  </tbody>\n",
              "</table>\n",
              "</div>"
            ],
            "text/plain": [
              "   person_ID                 name  ...                title age\n",
              "0       3130      Burks, Rosella   ...           Professor   41\n",
              "1       3297       Avila, Damien   ...           Professor   49\n",
              "2       3547        Olsen, Robin   ...  Assistant Professor  48\n",
              "3       1538  Moises, Edgar Estes  ...            Professor  38\n",
              "4       2941  Brian, Heath Pruitt  ...   Associate Curator   38\n",
              "\n",
              "[5 rows x 10 columns]"
            ]
          },
          "metadata": {
            "tags": []
          },
          "execution_count": 14
        }
      ]
    },
    {
      "cell_type": "markdown",
      "metadata": {
        "id": "ACY8PP8bnnCV",
        "colab_type": "text"
      },
      "source": [
        "## 3. Xem các bản ghi cuối cùng"
      ]
    },
    {
      "cell_type": "markdown",
      "metadata": {
        "id": "_1Q7007znsI5",
        "colab_type": "text"
      },
      "source": [
        "Sử dụng hàm `df.tail` và truyền vào số bản ghi muốn xem."
      ]
    },
    {
      "cell_type": "code",
      "metadata": {
        "id": "rWk4xp5-kgIx",
        "colab_type": "code",
        "colab": {
          "base_uri": "https://localhost:8080/",
          "height": 204
        },
        "outputId": "3dcd5d45-59aa-490a-b84d-dd56d980e060"
      },
      "source": [
        "people_df.tail(5)"
      ],
      "execution_count": 15,
      "outputs": [
        {
          "output_type": "execute_result",
          "data": {
            "text/html": [
              "<div>\n",
              "<style scoped>\n",
              "    .dataframe tbody tr th:only-of-type {\n",
              "        vertical-align: middle;\n",
              "    }\n",
              "\n",
              "    .dataframe tbody tr th {\n",
              "        vertical-align: top;\n",
              "    }\n",
              "\n",
              "    .dataframe thead th {\n",
              "        text-align: right;\n",
              "    }\n",
              "</style>\n",
              "<table border=\"1\" class=\"dataframe\">\n",
              "  <thead>\n",
              "    <tr style=\"text-align: right;\">\n",
              "      <th></th>\n",
              "      <th>person_ID</th>\n",
              "      <th>name</th>\n",
              "      <th>first</th>\n",
              "      <th>last</th>\n",
              "      <th>middle</th>\n",
              "      <th>email</th>\n",
              "      <th>phone</th>\n",
              "      <th>fax</th>\n",
              "      <th>title</th>\n",
              "      <th>age</th>\n",
              "    </tr>\n",
              "  </thead>\n",
              "  <tbody>\n",
              "    <tr>\n",
              "      <th>35</th>\n",
              "      <td>3903</td>\n",
              "      <td>Dunlap, Ann</td>\n",
              "      <td>Ann</td>\n",
              "      <td>Dunlap</td>\n",
              "      <td>NaN</td>\n",
              "      <td>DunlapA@univ.edu</td>\n",
              "      <td>963.555.9067</td>\n",
              "      <td>963.777.4290</td>\n",
              "      <td>Assistant Professor</td>\n",
              "      <td>39</td>\n",
              "    </tr>\n",
              "    <tr>\n",
              "      <th>36</th>\n",
              "      <td>3095</td>\n",
              "      <td>Shields, Rich Pena</td>\n",
              "      <td>Rich</td>\n",
              "      <td>Shields</td>\n",
              "      <td>Pena</td>\n",
              "      <td>ShieldsR@univ.edu</td>\n",
              "      <td>963.555.9197</td>\n",
              "      <td>963.777.7215</td>\n",
              "      <td>Professor</td>\n",
              "      <td>47</td>\n",
              "    </tr>\n",
              "    <tr>\n",
              "      <th>37</th>\n",
              "      <td>2383</td>\n",
              "      <td>Page, Winnie</td>\n",
              "      <td>Winnie</td>\n",
              "      <td>Page</td>\n",
              "      <td>NaN</td>\n",
              "      <td>PageW@univ.edu</td>\n",
              "      <td>963.555.9366</td>\n",
              "      <td>963.777.3202</td>\n",
              "      <td>Curator</td>\n",
              "      <td>43</td>\n",
              "    </tr>\n",
              "    <tr>\n",
              "      <th>38</th>\n",
              "      <td>2146</td>\n",
              "      <td>Sparks, Ezra</td>\n",
              "      <td>Ezra</td>\n",
              "      <td>Sparks</td>\n",
              "      <td>NaN</td>\n",
              "      <td>SparksE@univ.edu</td>\n",
              "      <td>963.555.9390</td>\n",
              "      <td>963.777.9273</td>\n",
              "      <td>Assistant Professor</td>\n",
              "      <td>37</td>\n",
              "    </tr>\n",
              "    <tr>\n",
              "      <th>39</th>\n",
              "      <td>3958</td>\n",
              "      <td>Kaufman, Elba</td>\n",
              "      <td>Elba</td>\n",
              "      <td>Kaufman</td>\n",
              "      <td>NaN</td>\n",
              "      <td>KaufmanE@univ.edu</td>\n",
              "      <td>963.555.9507</td>\n",
              "      <td>963.777.3298</td>\n",
              "      <td>Professor</td>\n",
              "      <td>28</td>\n",
              "    </tr>\n",
              "  </tbody>\n",
              "</table>\n",
              "</div>"
            ],
            "text/plain": [
              "    person_ID                name  ...                title age\n",
              "35       3903        Dunlap, Ann   ...  Assistant Professor  39\n",
              "36       3095  Shields, Rich Pena  ...           Professor   47\n",
              "37       2383       Page, Winnie   ...              Curator  43\n",
              "38       2146       Sparks, Ezra   ...  Assistant Professor  37\n",
              "39       3958      Kaufman, Elba   ...            Professor  28\n",
              "\n",
              "[5 rows x 10 columns]"
            ]
          },
          "metadata": {
            "tags": []
          },
          "execution_count": 15
        }
      ]
    },
    {
      "cell_type": "markdown",
      "metadata": {
        "id": "t90hhRcsn2-B",
        "colab_type": "text"
      },
      "source": [
        "## 4. Xem thông tin về số lượng bản ghi, số trường dữ liệu"
      ]
    },
    {
      "cell_type": "code",
      "metadata": {
        "id": "BQRn3TBalKSO",
        "colab_type": "code",
        "colab": {
          "base_uri": "https://localhost:8080/",
          "height": 34
        },
        "outputId": "6d401028-6c09-4114-e8eb-c168836c1a6b"
      },
      "source": [
        "people_df.shape"
      ],
      "execution_count": 16,
      "outputs": [
        {
          "output_type": "execute_result",
          "data": {
            "text/plain": [
              "(40, 10)"
            ]
          },
          "metadata": {
            "tags": []
          },
          "execution_count": 16
        }
      ]
    },
    {
      "cell_type": "code",
      "metadata": {
        "id": "iUrIfW-clcwI",
        "colab_type": "code",
        "colab": {
          "base_uri": "https://localhost:8080/",
          "height": 34
        },
        "outputId": "73aaf4e1-2da1-4f19-f869-02235e54aceb"
      },
      "source": [
        "len(people_df)"
      ],
      "execution_count": 17,
      "outputs": [
        {
          "output_type": "execute_result",
          "data": {
            "text/plain": [
              "40"
            ]
          },
          "metadata": {
            "tags": []
          },
          "execution_count": 17
        }
      ]
    },
    {
      "cell_type": "code",
      "metadata": {
        "id": "oYPl4bLhlweF",
        "colab_type": "code",
        "colab": {
          "base_uri": "https://localhost:8080/",
          "height": 272
        },
        "outputId": "8ff4ea0a-d0dd-4907-eaee-f5d13b1f68f3"
      },
      "source": [
        "people_df.info()"
      ],
      "execution_count": 18,
      "outputs": [
        {
          "output_type": "stream",
          "text": [
            "<class 'pandas.core.frame.DataFrame'>\n",
            "RangeIndex: 40 entries, 0 to 39\n",
            "Data columns (total 10 columns):\n",
            "person_ID    40 non-null int64\n",
            "name         40 non-null object\n",
            "first        40 non-null object\n",
            "last         40 non-null object\n",
            "middle       15 non-null object\n",
            "email        40 non-null object\n",
            "phone        40 non-null object\n",
            "fax          40 non-null object\n",
            "title        40 non-null object\n",
            "age          40 non-null int64\n",
            "dtypes: int64(2), object(8)\n",
            "memory usage: 3.2+ KB\n"
          ],
          "name": "stdout"
        }
      ]
    },
    {
      "cell_type": "markdown",
      "metadata": {
        "id": "ZPmx7LfwoJT5",
        "colab_type": "text"
      },
      "source": [
        "Tệp `people.csv` lưu 40 bản ghi, mỗi bản ghi có 10 trường dữ liệu."
      ]
    },
    {
      "cell_type": "markdown",
      "metadata": {
        "id": "1gWVwydtoaUd",
        "colab_type": "text"
      },
      "source": [
        "## 5. Truy xuất dữ liệu"
      ]
    },
    {
      "cell_type": "markdown",
      "metadata": {
        "id": "6MZAhD5PpXos",
        "colab_type": "text"
      },
      "source": [
        "Ta có thể coi `DataFrame` giống như một mảng 2 chiều. Trong đó chỉ số của hàng được đánh từ `0 1 ... N` (N là tổng số bản ghi) và chỉ số cột là các header."
      ]
    },
    {
      "cell_type": "markdown",
      "metadata": {
        "id": "vjXFB2pxqJgN",
        "colab_type": "text"
      },
      "source": [
        "**Lấy một cột:**"
      ]
    },
    {
      "cell_type": "code",
      "metadata": {
        "id": "jcGEtOFzlzjg",
        "colab_type": "code",
        "colab": {
          "base_uri": "https://localhost:8080/",
          "height": 119
        },
        "outputId": "3c56369f-dddf-4958-c182-485ada7a6afe"
      },
      "source": [
        "names = people_df['name']\n",
        "names.head(5)"
      ],
      "execution_count": 19,
      "outputs": [
        {
          "output_type": "execute_result",
          "data": {
            "text/plain": [
              "0        Burks, Rosella \n",
              "1         Avila, Damien \n",
              "2          Olsen, Robin \n",
              "3    Moises, Edgar Estes\n",
              "4    Brian, Heath Pruitt\n",
              "Name: name, dtype: object"
            ]
          },
          "metadata": {
            "tags": []
          },
          "execution_count": 19
        }
      ]
    },
    {
      "cell_type": "code",
      "metadata": {
        "id": "6zzh_ALWmNig",
        "colab_type": "code",
        "colab": {
          "base_uri": "https://localhost:8080/",
          "height": 34
        },
        "outputId": "d29e2e78-f550-4366-a78f-30f2bc04a3a6"
      },
      "source": [
        "type(names)"
      ],
      "execution_count": 20,
      "outputs": [
        {
          "output_type": "execute_result",
          "data": {
            "text/plain": [
              "pandas.core.series.Series"
            ]
          },
          "metadata": {
            "tags": []
          },
          "execution_count": 20
        }
      ]
    },
    {
      "cell_type": "markdown",
      "metadata": {
        "id": "WyoZEDmFqUqE",
        "colab_type": "text"
      },
      "source": [
        "Một cột sẽ có kiểu dữ liệu là [Series](https://pandas.pydata.org/pandas-docs/stable/reference/series.html) - giống như mảng một chiều."
      ]
    },
    {
      "cell_type": "markdown",
      "metadata": {
        "id": "5Rojx-zdq1OL",
        "colab_type": "text"
      },
      "source": [
        "**Lấy nhiều cột:**"
      ]
    },
    {
      "cell_type": "code",
      "metadata": {
        "id": "Ot1WPRQmmXe0",
        "colab_type": "code",
        "colab": {
          "base_uri": "https://localhost:8080/",
          "height": 204
        },
        "outputId": "04ad2f4c-73c2-4e19-e5ec-48c461cc1c53"
      },
      "source": [
        "names_and_ages = people_df[['name', 'email']]\n",
        "names_and_ages.head(5)"
      ],
      "execution_count": 22,
      "outputs": [
        {
          "output_type": "execute_result",
          "data": {
            "text/html": [
              "<div>\n",
              "<style scoped>\n",
              "    .dataframe tbody tr th:only-of-type {\n",
              "        vertical-align: middle;\n",
              "    }\n",
              "\n",
              "    .dataframe tbody tr th {\n",
              "        vertical-align: top;\n",
              "    }\n",
              "\n",
              "    .dataframe thead th {\n",
              "        text-align: right;\n",
              "    }\n",
              "</style>\n",
              "<table border=\"1\" class=\"dataframe\">\n",
              "  <thead>\n",
              "    <tr style=\"text-align: right;\">\n",
              "      <th></th>\n",
              "      <th>name</th>\n",
              "      <th>email</th>\n",
              "    </tr>\n",
              "  </thead>\n",
              "  <tbody>\n",
              "    <tr>\n",
              "      <th>0</th>\n",
              "      <td>Burks, Rosella</td>\n",
              "      <td>BurksR@univ.edu</td>\n",
              "    </tr>\n",
              "    <tr>\n",
              "      <th>1</th>\n",
              "      <td>Avila, Damien</td>\n",
              "      <td>AvilaD@univ.edu</td>\n",
              "    </tr>\n",
              "    <tr>\n",
              "      <th>2</th>\n",
              "      <td>Olsen, Robin</td>\n",
              "      <td>OlsenR@univ.edu</td>\n",
              "    </tr>\n",
              "    <tr>\n",
              "      <th>3</th>\n",
              "      <td>Moises, Edgar Estes</td>\n",
              "      <td>MoisesE@univ.edu</td>\n",
              "    </tr>\n",
              "    <tr>\n",
              "      <th>4</th>\n",
              "      <td>Brian, Heath Pruitt</td>\n",
              "      <td>BrianH@univ.edu</td>\n",
              "    </tr>\n",
              "  </tbody>\n",
              "</table>\n",
              "</div>"
            ],
            "text/plain": [
              "                  name             email\n",
              "0      Burks, Rosella    BurksR@univ.edu\n",
              "1       Avila, Damien    AvilaD@univ.edu\n",
              "2        Olsen, Robin    OlsenR@univ.edu\n",
              "3  Moises, Edgar Estes  MoisesE@univ.edu\n",
              "4  Brian, Heath Pruitt   BrianH@univ.edu"
            ]
          },
          "metadata": {
            "tags": []
          },
          "execution_count": 22
        }
      ]
    },
    {
      "cell_type": "code",
      "metadata": {
        "id": "XPJGfM-CmjLh",
        "colab_type": "code",
        "colab": {
          "base_uri": "https://localhost:8080/",
          "height": 34
        },
        "outputId": "4a54c5cd-cfa6-45d4-ccea-90e27fc17c57"
      },
      "source": [
        "type(names_and_ages)"
      ],
      "execution_count": 23,
      "outputs": [
        {
          "output_type": "execute_result",
          "data": {
            "text/plain": [
              "pandas.core.frame.DataFrame"
            ]
          },
          "metadata": {
            "tags": []
          },
          "execution_count": 23
        }
      ]
    },
    {
      "cell_type": "markdown",
      "metadata": {
        "id": "4RfA4_d6rDPo",
        "colab_type": "text"
      },
      "source": [
        "**Lấy bản ghi theo chỉ số:**"
      ]
    },
    {
      "cell_type": "code",
      "metadata": {
        "id": "BvRQml8wm-dE",
        "colab_type": "code",
        "colab": {
          "base_uri": "https://localhost:8080/",
          "height": 142
        },
        "outputId": "8044f3e8-4a54-4f15-aee9-a017966db162"
      },
      "source": [
        "people_df[1:4]"
      ],
      "execution_count": 24,
      "outputs": [
        {
          "output_type": "execute_result",
          "data": {
            "text/html": [
              "<div>\n",
              "<style scoped>\n",
              "    .dataframe tbody tr th:only-of-type {\n",
              "        vertical-align: middle;\n",
              "    }\n",
              "\n",
              "    .dataframe tbody tr th {\n",
              "        vertical-align: top;\n",
              "    }\n",
              "\n",
              "    .dataframe thead th {\n",
              "        text-align: right;\n",
              "    }\n",
              "</style>\n",
              "<table border=\"1\" class=\"dataframe\">\n",
              "  <thead>\n",
              "    <tr style=\"text-align: right;\">\n",
              "      <th></th>\n",
              "      <th>person_ID</th>\n",
              "      <th>name</th>\n",
              "      <th>first</th>\n",
              "      <th>last</th>\n",
              "      <th>middle</th>\n",
              "      <th>email</th>\n",
              "      <th>phone</th>\n",
              "      <th>fax</th>\n",
              "      <th>title</th>\n",
              "      <th>age</th>\n",
              "    </tr>\n",
              "  </thead>\n",
              "  <tbody>\n",
              "    <tr>\n",
              "      <th>1</th>\n",
              "      <td>3297</td>\n",
              "      <td>Avila, Damien</td>\n",
              "      <td>Damien</td>\n",
              "      <td>Avila</td>\n",
              "      <td>NaN</td>\n",
              "      <td>AvilaD@univ.edu</td>\n",
              "      <td>963.555.1352</td>\n",
              "      <td>963.777.7914</td>\n",
              "      <td>Professor</td>\n",
              "      <td>49</td>\n",
              "    </tr>\n",
              "    <tr>\n",
              "      <th>2</th>\n",
              "      <td>3547</td>\n",
              "      <td>Olsen, Robin</td>\n",
              "      <td>Robin</td>\n",
              "      <td>Olsen</td>\n",
              "      <td>NaN</td>\n",
              "      <td>OlsenR@univ.edu</td>\n",
              "      <td>963.555.1378</td>\n",
              "      <td>963.777.9262</td>\n",
              "      <td>Assistant Professor</td>\n",
              "      <td>48</td>\n",
              "    </tr>\n",
              "    <tr>\n",
              "      <th>3</th>\n",
              "      <td>1538</td>\n",
              "      <td>Moises, Edgar Estes</td>\n",
              "      <td>Edgar</td>\n",
              "      <td>Moises</td>\n",
              "      <td>Estes</td>\n",
              "      <td>MoisesE@univ.edu</td>\n",
              "      <td>963.555.2731x3565</td>\n",
              "      <td>963.777.8264</td>\n",
              "      <td>Professor</td>\n",
              "      <td>38</td>\n",
              "    </tr>\n",
              "  </tbody>\n",
              "</table>\n",
              "</div>"
            ],
            "text/plain": [
              "   person_ID                 name  ...                title age\n",
              "1       3297       Avila, Damien   ...           Professor   49\n",
              "2       3547        Olsen, Robin   ...  Assistant Professor  48\n",
              "3       1538  Moises, Edgar Estes  ...            Professor  38\n",
              "\n",
              "[3 rows x 10 columns]"
            ]
          },
          "metadata": {
            "tags": []
          },
          "execution_count": 24
        }
      ]
    },
    {
      "cell_type": "markdown",
      "metadata": {
        "id": "7d-8VoPLrffK",
        "colab_type": "text"
      },
      "source": [
        "**Kết hợp chỉ số hàng và cột:**"
      ]
    },
    {
      "cell_type": "code",
      "metadata": {
        "id": "66L9xrUKnHaB",
        "colab_type": "code",
        "colab": {
          "base_uri": "https://localhost:8080/",
          "height": 142
        },
        "outputId": "9507c504-3924-410b-b4f3-7dbc3ae02f0d"
      },
      "source": [
        "people_df[['name', 'title']][3:6]"
      ],
      "execution_count": 25,
      "outputs": [
        {
          "output_type": "execute_result",
          "data": {
            "text/html": [
              "<div>\n",
              "<style scoped>\n",
              "    .dataframe tbody tr th:only-of-type {\n",
              "        vertical-align: middle;\n",
              "    }\n",
              "\n",
              "    .dataframe tbody tr th {\n",
              "        vertical-align: top;\n",
              "    }\n",
              "\n",
              "    .dataframe thead th {\n",
              "        text-align: right;\n",
              "    }\n",
              "</style>\n",
              "<table border=\"1\" class=\"dataframe\">\n",
              "  <thead>\n",
              "    <tr style=\"text-align: right;\">\n",
              "      <th></th>\n",
              "      <th>name</th>\n",
              "      <th>title</th>\n",
              "    </tr>\n",
              "  </thead>\n",
              "  <tbody>\n",
              "    <tr>\n",
              "      <th>3</th>\n",
              "      <td>Moises, Edgar Estes</td>\n",
              "      <td>Professor</td>\n",
              "    </tr>\n",
              "    <tr>\n",
              "      <th>4</th>\n",
              "      <td>Brian, Heath Pruitt</td>\n",
              "      <td>Associate Curator</td>\n",
              "    </tr>\n",
              "    <tr>\n",
              "      <th>5</th>\n",
              "      <td>Claude, Elvin Haney</td>\n",
              "      <td>Curator</td>\n",
              "    </tr>\n",
              "  </tbody>\n",
              "</table>\n",
              "</div>"
            ],
            "text/plain": [
              "                  name               title\n",
              "3  Moises, Edgar Estes           Professor\n",
              "4  Brian, Heath Pruitt  Associate Curator \n",
              "5  Claude, Elvin Haney             Curator"
            ]
          },
          "metadata": {
            "tags": []
          },
          "execution_count": 25
        }
      ]
    },
    {
      "cell_type": "markdown",
      "metadata": {
        "id": "FrvOJwBdrn-f",
        "colab_type": "text"
      },
      "source": [
        "**Lấy bản ghi theo điều kiện:**"
      ]
    },
    {
      "cell_type": "markdown",
      "metadata": {
        "id": "B1vyCh2druHS",
        "colab_type": "text"
      },
      "source": [
        "Tìm những người có tuổi từ 25 trở xuống:"
      ]
    },
    {
      "cell_type": "code",
      "metadata": {
        "id": "4Roy2YW5qOZ0",
        "colab_type": "code",
        "colab": {
          "base_uri": "https://localhost:8080/",
          "height": 328
        },
        "outputId": "f1bb5b88-3903-424e-fcc6-76f4e0b8f854"
      },
      "source": [
        "young_people = people_df[people_df['age'] < 25]\n",
        "young_people"
      ],
      "execution_count": 26,
      "outputs": [
        {
          "output_type": "execute_result",
          "data": {
            "text/html": [
              "<div>\n",
              "<style scoped>\n",
              "    .dataframe tbody tr th:only-of-type {\n",
              "        vertical-align: middle;\n",
              "    }\n",
              "\n",
              "    .dataframe tbody tr th {\n",
              "        vertical-align: top;\n",
              "    }\n",
              "\n",
              "    .dataframe thead th {\n",
              "        text-align: right;\n",
              "    }\n",
              "</style>\n",
              "<table border=\"1\" class=\"dataframe\">\n",
              "  <thead>\n",
              "    <tr style=\"text-align: right;\">\n",
              "      <th></th>\n",
              "      <th>person_ID</th>\n",
              "      <th>name</th>\n",
              "      <th>first</th>\n",
              "      <th>last</th>\n",
              "      <th>middle</th>\n",
              "      <th>email</th>\n",
              "      <th>phone</th>\n",
              "      <th>fax</th>\n",
              "      <th>title</th>\n",
              "      <th>age</th>\n",
              "    </tr>\n",
              "  </thead>\n",
              "  <tbody>\n",
              "    <tr>\n",
              "      <th>8</th>\n",
              "      <td>1625</td>\n",
              "      <td>Hawkins, Callie</td>\n",
              "      <td>Callie</td>\n",
              "      <td>Hawkins</td>\n",
              "      <td>NaN</td>\n",
              "      <td>HawkinsC@univ.edu</td>\n",
              "      <td>963.555.3350x6480</td>\n",
              "      <td>963.777.4949</td>\n",
              "      <td>Professor</td>\n",
              "      <td>24</td>\n",
              "    </tr>\n",
              "    <tr>\n",
              "      <th>13</th>\n",
              "      <td>3544</td>\n",
              "      <td>Mullins, Kimberly</td>\n",
              "      <td>Kimberly</td>\n",
              "      <td>Mullins</td>\n",
              "      <td>NaN</td>\n",
              "      <td>MullinsK@univ.edu</td>\n",
              "      <td>963.555.5471x1017</td>\n",
              "      <td>963.777.9783</td>\n",
              "      <td>Assistant Professor</td>\n",
              "      <td>21</td>\n",
              "    </tr>\n",
              "    <tr>\n",
              "      <th>17</th>\n",
              "      <td>4539</td>\n",
              "      <td>Weiss, Gilbert</td>\n",
              "      <td>Gilbert</td>\n",
              "      <td>Weiss</td>\n",
              "      <td>NaN</td>\n",
              "      <td>WeissG@univ.edu</td>\n",
              "      <td>963.555.5969</td>\n",
              "      <td>963.777.4975</td>\n",
              "      <td>Professor</td>\n",
              "      <td>22</td>\n",
              "    </tr>\n",
              "    <tr>\n",
              "      <th>18</th>\n",
              "      <td>2811</td>\n",
              "      <td>Deirdre, Florence Barrera</td>\n",
              "      <td>Florence</td>\n",
              "      <td>Deirdre</td>\n",
              "      <td>Barrera</td>\n",
              "      <td>DeirdreF@univ.edu</td>\n",
              "      <td>963.555.6319</td>\n",
              "      <td>963.777.9654</td>\n",
              "      <td>Associate Curator</td>\n",
              "      <td>23</td>\n",
              "    </tr>\n",
              "    <tr>\n",
              "      <th>20</th>\n",
              "      <td>2895</td>\n",
              "      <td>Garrison, Patrica</td>\n",
              "      <td>Patrica</td>\n",
              "      <td>Garrison</td>\n",
              "      <td>NaN</td>\n",
              "      <td>GarrisonP@univ.edu</td>\n",
              "      <td>963.555.6760</td>\n",
              "      <td>963.777.4958</td>\n",
              "      <td>Associate Curator</td>\n",
              "      <td>22</td>\n",
              "    </tr>\n",
              "    <tr>\n",
              "      <th>23</th>\n",
              "      <td>1699</td>\n",
              "      <td>Stanton, Kathie</td>\n",
              "      <td>Kathie</td>\n",
              "      <td>Stanton</td>\n",
              "      <td>NaN</td>\n",
              "      <td>StantonK@univ.edu</td>\n",
              "      <td>963.555.7095</td>\n",
              "      <td>963.777.1015</td>\n",
              "      <td>Professor</td>\n",
              "      <td>18</td>\n",
              "    </tr>\n",
              "    <tr>\n",
              "      <th>26</th>\n",
              "      <td>2426</td>\n",
              "      <td>Brady, Nellie</td>\n",
              "      <td>Nellie</td>\n",
              "      <td>Brady</td>\n",
              "      <td>NaN</td>\n",
              "      <td>BradyN@univ.edu</td>\n",
              "      <td>963.555.7569</td>\n",
              "      <td>963.777.7218</td>\n",
              "      <td>Curator</td>\n",
              "      <td>23</td>\n",
              "    </tr>\n",
              "    <tr>\n",
              "      <th>27</th>\n",
              "      <td>2217</td>\n",
              "      <td>Katheryn, Ruben Holt</td>\n",
              "      <td>Ruben</td>\n",
              "      <td>Katheryn</td>\n",
              "      <td>Holt</td>\n",
              "      <td>KatherynR@univ.edu</td>\n",
              "      <td>963.555.7578</td>\n",
              "      <td>963.777.3969</td>\n",
              "      <td>Assistant Professor</td>\n",
              "      <td>22</td>\n",
              "    </tr>\n",
              "    <tr>\n",
              "      <th>34</th>\n",
              "      <td>2303</td>\n",
              "      <td>Quentin, Sam Hyde</td>\n",
              "      <td>Sam</td>\n",
              "      <td>Quentin</td>\n",
              "      <td>Hyde</td>\n",
              "      <td>QuentinS@univ.edu</td>\n",
              "      <td>963.555.8921</td>\n",
              "      <td>963.777.2712</td>\n",
              "      <td>Assistant Professor</td>\n",
              "      <td>23</td>\n",
              "    </tr>\n",
              "  </tbody>\n",
              "</table>\n",
              "</div>"
            ],
            "text/plain": [
              "    person_ID                       name  ...                title age\n",
              "8        1625           Hawkins, Callie   ...            Professor  24\n",
              "13       3544         Mullins, Kimberly   ...  Assistant Professor  21\n",
              "17       4539            Weiss, Gilbert   ...            Professor  22\n",
              "18       2811  Deirdre, Florence Barrera  ...   Associate Curator   23\n",
              "20       2895         Garrison, Patrica   ...   Associate Curator   22\n",
              "23       1699           Stanton, Kathie   ...            Professor  18\n",
              "26       2426             Brady, Nellie   ...              Curator  23\n",
              "27       2217       Katheryn, Ruben Holt  ...  Assistant Professor  22\n",
              "34       2303          Quentin, Sam Hyde  ...  Assistant Professor  23\n",
              "\n",
              "[9 rows x 10 columns]"
            ]
          },
          "metadata": {
            "tags": []
          },
          "execution_count": 26
        }
      ]
    },
    {
      "cell_type": "markdown",
      "metadata": {
        "id": "xRtPPBH1r4MW",
        "colab_type": "text"
      },
      "source": [
        "Tìm những người là giáo sư:"
      ]
    },
    {
      "cell_type": "code",
      "metadata": {
        "id": "-veIZWtFqy3C",
        "colab_type": "code",
        "colab": {
          "base_uri": "https://localhost:8080/",
          "height": 359
        },
        "outputId": "1a2356be-373a-4d37-a8de-089be2d5203b"
      },
      "source": [
        "professors = people_df[people_df['title'] == 'Professor']\n",
        "professors"
      ],
      "execution_count": 27,
      "outputs": [
        {
          "output_type": "execute_result",
          "data": {
            "text/html": [
              "<div>\n",
              "<style scoped>\n",
              "    .dataframe tbody tr th:only-of-type {\n",
              "        vertical-align: middle;\n",
              "    }\n",
              "\n",
              "    .dataframe tbody tr th {\n",
              "        vertical-align: top;\n",
              "    }\n",
              "\n",
              "    .dataframe thead th {\n",
              "        text-align: right;\n",
              "    }\n",
              "</style>\n",
              "<table border=\"1\" class=\"dataframe\">\n",
              "  <thead>\n",
              "    <tr style=\"text-align: right;\">\n",
              "      <th></th>\n",
              "      <th>person_ID</th>\n",
              "      <th>name</th>\n",
              "      <th>first</th>\n",
              "      <th>last</th>\n",
              "      <th>middle</th>\n",
              "      <th>email</th>\n",
              "      <th>phone</th>\n",
              "      <th>fax</th>\n",
              "      <th>title</th>\n",
              "      <th>age</th>\n",
              "    </tr>\n",
              "  </thead>\n",
              "  <tbody>\n",
              "    <tr>\n",
              "      <th>3</th>\n",
              "      <td>1538</td>\n",
              "      <td>Moises, Edgar Estes</td>\n",
              "      <td>Edgar</td>\n",
              "      <td>Moises</td>\n",
              "      <td>Estes</td>\n",
              "      <td>MoisesE@univ.edu</td>\n",
              "      <td>963.555.2731x3565</td>\n",
              "      <td>963.777.8264</td>\n",
              "      <td>Professor</td>\n",
              "      <td>38</td>\n",
              "    </tr>\n",
              "    <tr>\n",
              "      <th>8</th>\n",
              "      <td>1625</td>\n",
              "      <td>Hawkins, Callie</td>\n",
              "      <td>Callie</td>\n",
              "      <td>Hawkins</td>\n",
              "      <td>NaN</td>\n",
              "      <td>HawkinsC@univ.edu</td>\n",
              "      <td>963.555.3350x6480</td>\n",
              "      <td>963.777.4949</td>\n",
              "      <td>Professor</td>\n",
              "      <td>24</td>\n",
              "    </tr>\n",
              "    <tr>\n",
              "      <th>9</th>\n",
              "      <td>1307</td>\n",
              "      <td>Pate, Andrea</td>\n",
              "      <td>Andrea</td>\n",
              "      <td>Pate</td>\n",
              "      <td>NaN</td>\n",
              "      <td>PateA@univ.edu</td>\n",
              "      <td>963.555.3723</td>\n",
              "      <td>963.777.5049</td>\n",
              "      <td>Professor</td>\n",
              "      <td>44</td>\n",
              "    </tr>\n",
              "    <tr>\n",
              "      <th>12</th>\n",
              "      <td>4150</td>\n",
              "      <td>Sims, Angelina</td>\n",
              "      <td>Angelina</td>\n",
              "      <td>Sims</td>\n",
              "      <td>NaN</td>\n",
              "      <td>SimsA@univ.edu</td>\n",
              "      <td>963.555.5278</td>\n",
              "      <td>963.777.4400</td>\n",
              "      <td>Professor</td>\n",
              "      <td>49</td>\n",
              "    </tr>\n",
              "    <tr>\n",
              "      <th>15</th>\n",
              "      <td>1089</td>\n",
              "      <td>Payne, Ladonna</td>\n",
              "      <td>Ladonna</td>\n",
              "      <td>Payne</td>\n",
              "      <td>NaN</td>\n",
              "      <td>PayneL@univ.edu</td>\n",
              "      <td>963.555.5639</td>\n",
              "      <td>963.777.6469</td>\n",
              "      <td>Professor</td>\n",
              "      <td>32</td>\n",
              "    </tr>\n",
              "    <tr>\n",
              "      <th>17</th>\n",
              "      <td>4539</td>\n",
              "      <td>Weiss, Gilbert</td>\n",
              "      <td>Gilbert</td>\n",
              "      <td>Weiss</td>\n",
              "      <td>NaN</td>\n",
              "      <td>WeissG@univ.edu</td>\n",
              "      <td>963.555.5969</td>\n",
              "      <td>963.777.4975</td>\n",
              "      <td>Professor</td>\n",
              "      <td>22</td>\n",
              "    </tr>\n",
              "    <tr>\n",
              "      <th>23</th>\n",
              "      <td>1699</td>\n",
              "      <td>Stanton, Kathie</td>\n",
              "      <td>Kathie</td>\n",
              "      <td>Stanton</td>\n",
              "      <td>NaN</td>\n",
              "      <td>StantonK@univ.edu</td>\n",
              "      <td>963.555.7095</td>\n",
              "      <td>963.777.1015</td>\n",
              "      <td>Professor</td>\n",
              "      <td>18</td>\n",
              "    </tr>\n",
              "    <tr>\n",
              "      <th>24</th>\n",
              "      <td>1567</td>\n",
              "      <td>Banks, Shannon</td>\n",
              "      <td>Shannon</td>\n",
              "      <td>Banks</td>\n",
              "      <td>NaN</td>\n",
              "      <td>BanksS@univ.edu</td>\n",
              "      <td>963.555.7198</td>\n",
              "      <td>963.777.6979</td>\n",
              "      <td>Professor</td>\n",
              "      <td>34</td>\n",
              "    </tr>\n",
              "    <tr>\n",
              "      <th>30</th>\n",
              "      <td>1824</td>\n",
              "      <td>Head, Kurtis</td>\n",
              "      <td>Kurtis</td>\n",
              "      <td>Head</td>\n",
              "      <td>NaN</td>\n",
              "      <td>HeadK@univ.edu</td>\n",
              "      <td>963.555.7882</td>\n",
              "      <td>963.777.6348</td>\n",
              "      <td>Professor</td>\n",
              "      <td>47</td>\n",
              "    </tr>\n",
              "    <tr>\n",
              "      <th>39</th>\n",
              "      <td>3958</td>\n",
              "      <td>Kaufman, Elba</td>\n",
              "      <td>Elba</td>\n",
              "      <td>Kaufman</td>\n",
              "      <td>NaN</td>\n",
              "      <td>KaufmanE@univ.edu</td>\n",
              "      <td>963.555.9507</td>\n",
              "      <td>963.777.3298</td>\n",
              "      <td>Professor</td>\n",
              "      <td>28</td>\n",
              "    </tr>\n",
              "  </tbody>\n",
              "</table>\n",
              "</div>"
            ],
            "text/plain": [
              "    person_ID                 name     first  ...           fax      title age\n",
              "3        1538  Moises, Edgar Estes     Edgar  ...  963.777.8264  Professor  38\n",
              "8        1625     Hawkins, Callie     Callie  ...  963.777.4949  Professor  24\n",
              "9        1307        Pate, Andrea     Andrea  ...  963.777.5049  Professor  44\n",
              "12       4150      Sims, Angelina   Angelina  ...  963.777.4400  Professor  49\n",
              "15       1089      Payne, Ladonna    Ladonna  ...  963.777.6469  Professor  32\n",
              "17       4539      Weiss, Gilbert    Gilbert  ...  963.777.4975  Professor  22\n",
              "23       1699     Stanton, Kathie     Kathie  ...  963.777.1015  Professor  18\n",
              "24       1567      Banks, Shannon    Shannon  ...  963.777.6979  Professor  34\n",
              "30       1824        Head, Kurtis     Kurtis  ...  963.777.6348  Professor  47\n",
              "39       3958       Kaufman, Elba       Elba  ...  963.777.3298  Professor  28\n",
              "\n",
              "[10 rows x 10 columns]"
            ]
          },
          "metadata": {
            "tags": []
          },
          "execution_count": 27
        }
      ]
    },
    {
      "cell_type": "markdown",
      "metadata": {
        "id": "HCJCN6nvr_kR",
        "colab_type": "text"
      },
      "source": [
        "**Chuyển đổi `Series` về `Numpy`:**"
      ]
    },
    {
      "cell_type": "code",
      "metadata": {
        "id": "yy_qb52xrALO",
        "colab_type": "code",
        "colab": {
          "base_uri": "https://localhost:8080/",
          "height": 238
        },
        "outputId": "c66ca37e-7e65-44fd-9a2e-5dbfffdd01de"
      },
      "source": [
        "names = people_df['name'].values\n",
        "print(names)\n",
        "type(names)"
      ],
      "execution_count": 28,
      "outputs": [
        {
          "output_type": "stream",
          "text": [
            "['Burks, Rosella ' 'Avila, Damien ' 'Olsen, Robin ' 'Moises, Edgar Estes'\n",
            " 'Brian, Heath Pruitt' 'Claude, Elvin Haney' 'Mosley, Edmund '\n",
            " 'Derek, Antoine Mccoy' 'Hawkins, Callie ' 'Pate, Andrea ' 'Austin, Liz '\n",
            " 'Kendrick, Reba Alford' 'Sims, Angelina ' 'Mullins, Kimberly '\n",
            " 'Chuck, Lloyd Haney' 'Payne, Ladonna ' 'Baxter, Johnathan Browning'\n",
            " 'Weiss, Gilbert ' 'Deirdre, Florence Barrera' 'Fernando, Toby Calderon'\n",
            " 'Garrison, Patrica ' 'Effie, Leila Vinson' 'Buckley, Rose '\n",
            " 'Stanton, Kathie ' 'Banks, Shannon ' 'Barnes, Cleo ' 'Brady, Nellie '\n",
            " 'Katheryn, Ruben Holt' 'Michael, Dianne ' 'Grant, Adam ' 'Head, Kurtis '\n",
            " 'Berger, Jami ' 'Earline, Jaime Fitzgerald' 'Evelyn, Summer Frost'\n",
            " 'Quentin, Sam Hyde' 'Dunlap, Ann ' 'Shields, Rich Pena' 'Page, Winnie '\n",
            " 'Sparks, Ezra ' 'Kaufman, Elba ']\n"
          ],
          "name": "stdout"
        },
        {
          "output_type": "execute_result",
          "data": {
            "text/plain": [
              "numpy.ndarray"
            ]
          },
          "metadata": {
            "tags": []
          },
          "execution_count": 28
        }
      ]
    },
    {
      "cell_type": "markdown",
      "metadata": {
        "id": "7LudozUesZDN",
        "colab_type": "text"
      },
      "source": [
        "## 6. Thêm một cột\n"
      ]
    },
    {
      "cell_type": "markdown",
      "metadata": {
        "id": "JwTXEDNmshIv",
        "colab_type": "text"
      },
      "source": [
        "Nó giống như các ta thêm một key-value đối với dictionary."
      ]
    },
    {
      "cell_type": "markdown",
      "metadata": {
        "id": "nU_rkgxgsyGx",
        "colab_type": "text"
      },
      "source": [
        "Ví dụ, thêm cột năm sinh:"
      ]
    },
    {
      "cell_type": "code",
      "metadata": {
        "id": "y5UCj6Z1rRJX",
        "colab_type": "code",
        "colab": {
          "base_uri": "https://localhost:8080/",
          "height": 204
        },
        "outputId": "6c32651a-7cf3-4e0a-e6b4-6cc45a176c9b"
      },
      "source": [
        "df_len = len(people_df)\n",
        "birthday = 2020 - people_df['age'] \n",
        "people_df['birthday'] = birthday\n",
        "people_df.tail(5)"
      ],
      "execution_count": 29,
      "outputs": [
        {
          "output_type": "execute_result",
          "data": {
            "text/html": [
              "<div>\n",
              "<style scoped>\n",
              "    .dataframe tbody tr th:only-of-type {\n",
              "        vertical-align: middle;\n",
              "    }\n",
              "\n",
              "    .dataframe tbody tr th {\n",
              "        vertical-align: top;\n",
              "    }\n",
              "\n",
              "    .dataframe thead th {\n",
              "        text-align: right;\n",
              "    }\n",
              "</style>\n",
              "<table border=\"1\" class=\"dataframe\">\n",
              "  <thead>\n",
              "    <tr style=\"text-align: right;\">\n",
              "      <th></th>\n",
              "      <th>person_ID</th>\n",
              "      <th>name</th>\n",
              "      <th>first</th>\n",
              "      <th>last</th>\n",
              "      <th>middle</th>\n",
              "      <th>email</th>\n",
              "      <th>phone</th>\n",
              "      <th>fax</th>\n",
              "      <th>title</th>\n",
              "      <th>age</th>\n",
              "      <th>birthday</th>\n",
              "    </tr>\n",
              "  </thead>\n",
              "  <tbody>\n",
              "    <tr>\n",
              "      <th>35</th>\n",
              "      <td>3903</td>\n",
              "      <td>Dunlap, Ann</td>\n",
              "      <td>Ann</td>\n",
              "      <td>Dunlap</td>\n",
              "      <td>NaN</td>\n",
              "      <td>DunlapA@univ.edu</td>\n",
              "      <td>963.555.9067</td>\n",
              "      <td>963.777.4290</td>\n",
              "      <td>Assistant Professor</td>\n",
              "      <td>39</td>\n",
              "      <td>1981</td>\n",
              "    </tr>\n",
              "    <tr>\n",
              "      <th>36</th>\n",
              "      <td>3095</td>\n",
              "      <td>Shields, Rich Pena</td>\n",
              "      <td>Rich</td>\n",
              "      <td>Shields</td>\n",
              "      <td>Pena</td>\n",
              "      <td>ShieldsR@univ.edu</td>\n",
              "      <td>963.555.9197</td>\n",
              "      <td>963.777.7215</td>\n",
              "      <td>Professor</td>\n",
              "      <td>47</td>\n",
              "      <td>1973</td>\n",
              "    </tr>\n",
              "    <tr>\n",
              "      <th>37</th>\n",
              "      <td>2383</td>\n",
              "      <td>Page, Winnie</td>\n",
              "      <td>Winnie</td>\n",
              "      <td>Page</td>\n",
              "      <td>NaN</td>\n",
              "      <td>PageW@univ.edu</td>\n",
              "      <td>963.555.9366</td>\n",
              "      <td>963.777.3202</td>\n",
              "      <td>Curator</td>\n",
              "      <td>43</td>\n",
              "      <td>1977</td>\n",
              "    </tr>\n",
              "    <tr>\n",
              "      <th>38</th>\n",
              "      <td>2146</td>\n",
              "      <td>Sparks, Ezra</td>\n",
              "      <td>Ezra</td>\n",
              "      <td>Sparks</td>\n",
              "      <td>NaN</td>\n",
              "      <td>SparksE@univ.edu</td>\n",
              "      <td>963.555.9390</td>\n",
              "      <td>963.777.9273</td>\n",
              "      <td>Assistant Professor</td>\n",
              "      <td>37</td>\n",
              "      <td>1983</td>\n",
              "    </tr>\n",
              "    <tr>\n",
              "      <th>39</th>\n",
              "      <td>3958</td>\n",
              "      <td>Kaufman, Elba</td>\n",
              "      <td>Elba</td>\n",
              "      <td>Kaufman</td>\n",
              "      <td>NaN</td>\n",
              "      <td>KaufmanE@univ.edu</td>\n",
              "      <td>963.555.9507</td>\n",
              "      <td>963.777.3298</td>\n",
              "      <td>Professor</td>\n",
              "      <td>28</td>\n",
              "      <td>1992</td>\n",
              "    </tr>\n",
              "  </tbody>\n",
              "</table>\n",
              "</div>"
            ],
            "text/plain": [
              "    person_ID                name   first  ...                title age birthday\n",
              "35       3903        Dunlap, Ann      Ann  ...  Assistant Professor  39     1981\n",
              "36       3095  Shields, Rich Pena    Rich  ...           Professor   47     1973\n",
              "37       2383       Page, Winnie   Winnie  ...              Curator  43     1977\n",
              "38       2146       Sparks, Ezra     Ezra  ...  Assistant Professor  37     1983\n",
              "39       3958      Kaufman, Elba     Elba  ...            Professor  28     1992\n",
              "\n",
              "[5 rows x 11 columns]"
            ]
          },
          "metadata": {
            "tags": []
          },
          "execution_count": 29
        }
      ]
    },
    {
      "cell_type": "markdown",
      "metadata": {
        "id": "7A8rP3qZs49z",
        "colab_type": "text"
      },
      "source": [
        "Thêm cột `is_young` cho biết dưới hay trên 25 tuổi."
      ]
    },
    {
      "cell_type": "code",
      "metadata": {
        "id": "WXFXElYSxgp_",
        "colab_type": "code",
        "colab": {
          "base_uri": "https://localhost:8080/",
          "height": 204
        },
        "outputId": "1df031e3-16f6-4907-a431-770bb0fc61ed"
      },
      "source": [
        "people_df['is_young'] = people_df['age'] < 25\n",
        "people_df.head(5)"
      ],
      "execution_count": 30,
      "outputs": [
        {
          "output_type": "execute_result",
          "data": {
            "text/html": [
              "<div>\n",
              "<style scoped>\n",
              "    .dataframe tbody tr th:only-of-type {\n",
              "        vertical-align: middle;\n",
              "    }\n",
              "\n",
              "    .dataframe tbody tr th {\n",
              "        vertical-align: top;\n",
              "    }\n",
              "\n",
              "    .dataframe thead th {\n",
              "        text-align: right;\n",
              "    }\n",
              "</style>\n",
              "<table border=\"1\" class=\"dataframe\">\n",
              "  <thead>\n",
              "    <tr style=\"text-align: right;\">\n",
              "      <th></th>\n",
              "      <th>person_ID</th>\n",
              "      <th>name</th>\n",
              "      <th>first</th>\n",
              "      <th>last</th>\n",
              "      <th>middle</th>\n",
              "      <th>email</th>\n",
              "      <th>phone</th>\n",
              "      <th>fax</th>\n",
              "      <th>title</th>\n",
              "      <th>age</th>\n",
              "      <th>birthday</th>\n",
              "      <th>is_young</th>\n",
              "    </tr>\n",
              "  </thead>\n",
              "  <tbody>\n",
              "    <tr>\n",
              "      <th>0</th>\n",
              "      <td>3130</td>\n",
              "      <td>Burks, Rosella</td>\n",
              "      <td>Rosella</td>\n",
              "      <td>Burks</td>\n",
              "      <td>NaN</td>\n",
              "      <td>BurksR@univ.edu</td>\n",
              "      <td>963.555.1253</td>\n",
              "      <td>963.777.4065</td>\n",
              "      <td>Professor</td>\n",
              "      <td>41</td>\n",
              "      <td>1979</td>\n",
              "      <td>False</td>\n",
              "    </tr>\n",
              "    <tr>\n",
              "      <th>1</th>\n",
              "      <td>3297</td>\n",
              "      <td>Avila, Damien</td>\n",
              "      <td>Damien</td>\n",
              "      <td>Avila</td>\n",
              "      <td>NaN</td>\n",
              "      <td>AvilaD@univ.edu</td>\n",
              "      <td>963.555.1352</td>\n",
              "      <td>963.777.7914</td>\n",
              "      <td>Professor</td>\n",
              "      <td>49</td>\n",
              "      <td>1971</td>\n",
              "      <td>False</td>\n",
              "    </tr>\n",
              "    <tr>\n",
              "      <th>2</th>\n",
              "      <td>3547</td>\n",
              "      <td>Olsen, Robin</td>\n",
              "      <td>Robin</td>\n",
              "      <td>Olsen</td>\n",
              "      <td>NaN</td>\n",
              "      <td>OlsenR@univ.edu</td>\n",
              "      <td>963.555.1378</td>\n",
              "      <td>963.777.9262</td>\n",
              "      <td>Assistant Professor</td>\n",
              "      <td>48</td>\n",
              "      <td>1972</td>\n",
              "      <td>False</td>\n",
              "    </tr>\n",
              "    <tr>\n",
              "      <th>3</th>\n",
              "      <td>1538</td>\n",
              "      <td>Moises, Edgar Estes</td>\n",
              "      <td>Edgar</td>\n",
              "      <td>Moises</td>\n",
              "      <td>Estes</td>\n",
              "      <td>MoisesE@univ.edu</td>\n",
              "      <td>963.555.2731x3565</td>\n",
              "      <td>963.777.8264</td>\n",
              "      <td>Professor</td>\n",
              "      <td>38</td>\n",
              "      <td>1982</td>\n",
              "      <td>False</td>\n",
              "    </tr>\n",
              "    <tr>\n",
              "      <th>4</th>\n",
              "      <td>2941</td>\n",
              "      <td>Brian, Heath Pruitt</td>\n",
              "      <td>Heath</td>\n",
              "      <td>Brian</td>\n",
              "      <td>Pruitt</td>\n",
              "      <td>BrianH@univ.edu</td>\n",
              "      <td>963.555.2800</td>\n",
              "      <td>963.777.7249</td>\n",
              "      <td>Associate Curator</td>\n",
              "      <td>38</td>\n",
              "      <td>1982</td>\n",
              "      <td>False</td>\n",
              "    </tr>\n",
              "  </tbody>\n",
              "</table>\n",
              "</div>"
            ],
            "text/plain": [
              "   person_ID                 name    first  ... age birthday is_young\n",
              "0       3130      Burks, Rosella   Rosella  ...  41     1979    False\n",
              "1       3297       Avila, Damien    Damien  ...  49     1971    False\n",
              "2       3547        Olsen, Robin     Robin  ...  48     1972    False\n",
              "3       1538  Moises, Edgar Estes    Edgar  ...  38     1982    False\n",
              "4       2941  Brian, Heath Pruitt    Heath  ...  38     1982    False\n",
              "\n",
              "[5 rows x 12 columns]"
            ]
          },
          "metadata": {
            "tags": []
          },
          "execution_count": 30
        }
      ]
    },
    {
      "cell_type": "markdown",
      "metadata": {
        "id": "W0ekOirftESp",
        "colab_type": "text"
      },
      "source": [
        "Thêm một cột với dữ liệu trống:"
      ]
    },
    {
      "cell_type": "code",
      "metadata": {
        "id": "zmeOKKFhyF7u",
        "colab_type": "code",
        "colab": {
          "base_uri": "https://localhost:8080/",
          "height": 238
        },
        "outputId": "95ac2030-ee59-49e9-e160-8b019f71b882"
      },
      "source": [
        "people_df['none_column'] = None\n",
        "people_df.head(5)"
      ],
      "execution_count": 31,
      "outputs": [
        {
          "output_type": "execute_result",
          "data": {
            "text/html": [
              "<div>\n",
              "<style scoped>\n",
              "    .dataframe tbody tr th:only-of-type {\n",
              "        vertical-align: middle;\n",
              "    }\n",
              "\n",
              "    .dataframe tbody tr th {\n",
              "        vertical-align: top;\n",
              "    }\n",
              "\n",
              "    .dataframe thead th {\n",
              "        text-align: right;\n",
              "    }\n",
              "</style>\n",
              "<table border=\"1\" class=\"dataframe\">\n",
              "  <thead>\n",
              "    <tr style=\"text-align: right;\">\n",
              "      <th></th>\n",
              "      <th>person_ID</th>\n",
              "      <th>name</th>\n",
              "      <th>first</th>\n",
              "      <th>last</th>\n",
              "      <th>middle</th>\n",
              "      <th>email</th>\n",
              "      <th>phone</th>\n",
              "      <th>fax</th>\n",
              "      <th>title</th>\n",
              "      <th>age</th>\n",
              "      <th>birthday</th>\n",
              "      <th>is_young</th>\n",
              "      <th>none_column</th>\n",
              "    </tr>\n",
              "  </thead>\n",
              "  <tbody>\n",
              "    <tr>\n",
              "      <th>0</th>\n",
              "      <td>3130</td>\n",
              "      <td>Burks, Rosella</td>\n",
              "      <td>Rosella</td>\n",
              "      <td>Burks</td>\n",
              "      <td>NaN</td>\n",
              "      <td>BurksR@univ.edu</td>\n",
              "      <td>963.555.1253</td>\n",
              "      <td>963.777.4065</td>\n",
              "      <td>Professor</td>\n",
              "      <td>41</td>\n",
              "      <td>1979</td>\n",
              "      <td>False</td>\n",
              "      <td>None</td>\n",
              "    </tr>\n",
              "    <tr>\n",
              "      <th>1</th>\n",
              "      <td>3297</td>\n",
              "      <td>Avila, Damien</td>\n",
              "      <td>Damien</td>\n",
              "      <td>Avila</td>\n",
              "      <td>NaN</td>\n",
              "      <td>AvilaD@univ.edu</td>\n",
              "      <td>963.555.1352</td>\n",
              "      <td>963.777.7914</td>\n",
              "      <td>Professor</td>\n",
              "      <td>49</td>\n",
              "      <td>1971</td>\n",
              "      <td>False</td>\n",
              "      <td>None</td>\n",
              "    </tr>\n",
              "    <tr>\n",
              "      <th>2</th>\n",
              "      <td>3547</td>\n",
              "      <td>Olsen, Robin</td>\n",
              "      <td>Robin</td>\n",
              "      <td>Olsen</td>\n",
              "      <td>NaN</td>\n",
              "      <td>OlsenR@univ.edu</td>\n",
              "      <td>963.555.1378</td>\n",
              "      <td>963.777.9262</td>\n",
              "      <td>Assistant Professor</td>\n",
              "      <td>48</td>\n",
              "      <td>1972</td>\n",
              "      <td>False</td>\n",
              "      <td>None</td>\n",
              "    </tr>\n",
              "    <tr>\n",
              "      <th>3</th>\n",
              "      <td>1538</td>\n",
              "      <td>Moises, Edgar Estes</td>\n",
              "      <td>Edgar</td>\n",
              "      <td>Moises</td>\n",
              "      <td>Estes</td>\n",
              "      <td>MoisesE@univ.edu</td>\n",
              "      <td>963.555.2731x3565</td>\n",
              "      <td>963.777.8264</td>\n",
              "      <td>Professor</td>\n",
              "      <td>38</td>\n",
              "      <td>1982</td>\n",
              "      <td>False</td>\n",
              "      <td>None</td>\n",
              "    </tr>\n",
              "    <tr>\n",
              "      <th>4</th>\n",
              "      <td>2941</td>\n",
              "      <td>Brian, Heath Pruitt</td>\n",
              "      <td>Heath</td>\n",
              "      <td>Brian</td>\n",
              "      <td>Pruitt</td>\n",
              "      <td>BrianH@univ.edu</td>\n",
              "      <td>963.555.2800</td>\n",
              "      <td>963.777.7249</td>\n",
              "      <td>Associate Curator</td>\n",
              "      <td>38</td>\n",
              "      <td>1982</td>\n",
              "      <td>False</td>\n",
              "      <td>None</td>\n",
              "    </tr>\n",
              "  </tbody>\n",
              "</table>\n",
              "</div>"
            ],
            "text/plain": [
              "   person_ID                 name    first  ... birthday is_young none_column\n",
              "0       3130      Burks, Rosella   Rosella  ...     1979    False        None\n",
              "1       3297       Avila, Damien    Damien  ...     1971    False        None\n",
              "2       3547        Olsen, Robin     Robin  ...     1972    False        None\n",
              "3       1538  Moises, Edgar Estes    Edgar  ...     1982    False        None\n",
              "4       2941  Brian, Heath Pruitt    Heath  ...     1982    False        None\n",
              "\n",
              "[5 rows x 13 columns]"
            ]
          },
          "metadata": {
            "tags": []
          },
          "execution_count": 31
        }
      ]
    },
    {
      "cell_type": "markdown",
      "metadata": {
        "id": "OISxRCu0tMmf",
        "colab_type": "text"
      },
      "source": [
        "## 7. Xóa cột"
      ]
    },
    {
      "cell_type": "code",
      "metadata": {
        "id": "9RvL06XbyT_T",
        "colab_type": "code",
        "colab": {
          "base_uri": "https://localhost:8080/",
          "height": 204
        },
        "outputId": "822a170e-0b20-4893-dcce-1fac9c1f24a1"
      },
      "source": [
        "people_df.drop('none_column', axis=1, inplace=True, errors='ignore')\n",
        "people_df.head(5)"
      ],
      "execution_count": 32,
      "outputs": [
        {
          "output_type": "execute_result",
          "data": {
            "text/html": [
              "<div>\n",
              "<style scoped>\n",
              "    .dataframe tbody tr th:only-of-type {\n",
              "        vertical-align: middle;\n",
              "    }\n",
              "\n",
              "    .dataframe tbody tr th {\n",
              "        vertical-align: top;\n",
              "    }\n",
              "\n",
              "    .dataframe thead th {\n",
              "        text-align: right;\n",
              "    }\n",
              "</style>\n",
              "<table border=\"1\" class=\"dataframe\">\n",
              "  <thead>\n",
              "    <tr style=\"text-align: right;\">\n",
              "      <th></th>\n",
              "      <th>person_ID</th>\n",
              "      <th>name</th>\n",
              "      <th>first</th>\n",
              "      <th>last</th>\n",
              "      <th>middle</th>\n",
              "      <th>email</th>\n",
              "      <th>phone</th>\n",
              "      <th>fax</th>\n",
              "      <th>title</th>\n",
              "      <th>age</th>\n",
              "      <th>birthday</th>\n",
              "      <th>is_young</th>\n",
              "    </tr>\n",
              "  </thead>\n",
              "  <tbody>\n",
              "    <tr>\n",
              "      <th>0</th>\n",
              "      <td>3130</td>\n",
              "      <td>Burks, Rosella</td>\n",
              "      <td>Rosella</td>\n",
              "      <td>Burks</td>\n",
              "      <td>NaN</td>\n",
              "      <td>BurksR@univ.edu</td>\n",
              "      <td>963.555.1253</td>\n",
              "      <td>963.777.4065</td>\n",
              "      <td>Professor</td>\n",
              "      <td>41</td>\n",
              "      <td>1979</td>\n",
              "      <td>False</td>\n",
              "    </tr>\n",
              "    <tr>\n",
              "      <th>1</th>\n",
              "      <td>3297</td>\n",
              "      <td>Avila, Damien</td>\n",
              "      <td>Damien</td>\n",
              "      <td>Avila</td>\n",
              "      <td>NaN</td>\n",
              "      <td>AvilaD@univ.edu</td>\n",
              "      <td>963.555.1352</td>\n",
              "      <td>963.777.7914</td>\n",
              "      <td>Professor</td>\n",
              "      <td>49</td>\n",
              "      <td>1971</td>\n",
              "      <td>False</td>\n",
              "    </tr>\n",
              "    <tr>\n",
              "      <th>2</th>\n",
              "      <td>3547</td>\n",
              "      <td>Olsen, Robin</td>\n",
              "      <td>Robin</td>\n",
              "      <td>Olsen</td>\n",
              "      <td>NaN</td>\n",
              "      <td>OlsenR@univ.edu</td>\n",
              "      <td>963.555.1378</td>\n",
              "      <td>963.777.9262</td>\n",
              "      <td>Assistant Professor</td>\n",
              "      <td>48</td>\n",
              "      <td>1972</td>\n",
              "      <td>False</td>\n",
              "    </tr>\n",
              "    <tr>\n",
              "      <th>3</th>\n",
              "      <td>1538</td>\n",
              "      <td>Moises, Edgar Estes</td>\n",
              "      <td>Edgar</td>\n",
              "      <td>Moises</td>\n",
              "      <td>Estes</td>\n",
              "      <td>MoisesE@univ.edu</td>\n",
              "      <td>963.555.2731x3565</td>\n",
              "      <td>963.777.8264</td>\n",
              "      <td>Professor</td>\n",
              "      <td>38</td>\n",
              "      <td>1982</td>\n",
              "      <td>False</td>\n",
              "    </tr>\n",
              "    <tr>\n",
              "      <th>4</th>\n",
              "      <td>2941</td>\n",
              "      <td>Brian, Heath Pruitt</td>\n",
              "      <td>Heath</td>\n",
              "      <td>Brian</td>\n",
              "      <td>Pruitt</td>\n",
              "      <td>BrianH@univ.edu</td>\n",
              "      <td>963.555.2800</td>\n",
              "      <td>963.777.7249</td>\n",
              "      <td>Associate Curator</td>\n",
              "      <td>38</td>\n",
              "      <td>1982</td>\n",
              "      <td>False</td>\n",
              "    </tr>\n",
              "  </tbody>\n",
              "</table>\n",
              "</div>"
            ],
            "text/plain": [
              "   person_ID                 name    first  ... age birthday is_young\n",
              "0       3130      Burks, Rosella   Rosella  ...  41     1979    False\n",
              "1       3297       Avila, Damien    Damien  ...  49     1971    False\n",
              "2       3547        Olsen, Robin     Robin  ...  48     1972    False\n",
              "3       1538  Moises, Edgar Estes    Edgar  ...  38     1982    False\n",
              "4       2941  Brian, Heath Pruitt    Heath  ...  38     1982    False\n",
              "\n",
              "[5 rows x 12 columns]"
            ]
          },
          "metadata": {
            "tags": []
          },
          "execution_count": 32
        }
      ]
    },
    {
      "cell_type": "markdown",
      "metadata": {
        "id": "bvtRQgemtUAW",
        "colab_type": "text"
      },
      "source": [
        "Các tham số: \n",
        "\n",
        "+ tên cột \n",
        "+ axis=1 (ví lệnh drop cũng dùng để xóa hàng)\n",
        "+ inplace: xóa trực tiếp trong đối tượng (`True`), hoặc tạo một bản sao và xóa trong bản sao (`False`)\n",
        "+ errors: `ignore` hoặc `raise`. Nếu là `raise` sẽ tạo ra một Exception nếu không có cột yêu cầu. "
      ]
    },
    {
      "cell_type": "markdown",
      "metadata": {
        "id": "LDyiepO7uXcg",
        "colab_type": "text"
      },
      "source": [
        "## 8. Xóa bản ghi"
      ]
    },
    {
      "cell_type": "code",
      "metadata": {
        "id": "AXF1o4hszKVF",
        "colab_type": "code",
        "colab": {
          "base_uri": "https://localhost:8080/",
          "height": 204
        },
        "outputId": "fc768c67-205d-4eec-cb3c-667d5effcf0a"
      },
      "source": [
        "people_df.drop([0, 1], axis=0, inplace=True, errors='ignore')\n",
        "people_df.head(5)"
      ],
      "execution_count": 33,
      "outputs": [
        {
          "output_type": "execute_result",
          "data": {
            "text/html": [
              "<div>\n",
              "<style scoped>\n",
              "    .dataframe tbody tr th:only-of-type {\n",
              "        vertical-align: middle;\n",
              "    }\n",
              "\n",
              "    .dataframe tbody tr th {\n",
              "        vertical-align: top;\n",
              "    }\n",
              "\n",
              "    .dataframe thead th {\n",
              "        text-align: right;\n",
              "    }\n",
              "</style>\n",
              "<table border=\"1\" class=\"dataframe\">\n",
              "  <thead>\n",
              "    <tr style=\"text-align: right;\">\n",
              "      <th></th>\n",
              "      <th>person_ID</th>\n",
              "      <th>name</th>\n",
              "      <th>first</th>\n",
              "      <th>last</th>\n",
              "      <th>middle</th>\n",
              "      <th>email</th>\n",
              "      <th>phone</th>\n",
              "      <th>fax</th>\n",
              "      <th>title</th>\n",
              "      <th>age</th>\n",
              "      <th>birthday</th>\n",
              "      <th>is_young</th>\n",
              "    </tr>\n",
              "  </thead>\n",
              "  <tbody>\n",
              "    <tr>\n",
              "      <th>2</th>\n",
              "      <td>3547</td>\n",
              "      <td>Olsen, Robin</td>\n",
              "      <td>Robin</td>\n",
              "      <td>Olsen</td>\n",
              "      <td>NaN</td>\n",
              "      <td>OlsenR@univ.edu</td>\n",
              "      <td>963.555.1378</td>\n",
              "      <td>963.777.9262</td>\n",
              "      <td>Assistant Professor</td>\n",
              "      <td>48</td>\n",
              "      <td>1972</td>\n",
              "      <td>False</td>\n",
              "    </tr>\n",
              "    <tr>\n",
              "      <th>3</th>\n",
              "      <td>1538</td>\n",
              "      <td>Moises, Edgar Estes</td>\n",
              "      <td>Edgar</td>\n",
              "      <td>Moises</td>\n",
              "      <td>Estes</td>\n",
              "      <td>MoisesE@univ.edu</td>\n",
              "      <td>963.555.2731x3565</td>\n",
              "      <td>963.777.8264</td>\n",
              "      <td>Professor</td>\n",
              "      <td>38</td>\n",
              "      <td>1982</td>\n",
              "      <td>False</td>\n",
              "    </tr>\n",
              "    <tr>\n",
              "      <th>4</th>\n",
              "      <td>2941</td>\n",
              "      <td>Brian, Heath Pruitt</td>\n",
              "      <td>Heath</td>\n",
              "      <td>Brian</td>\n",
              "      <td>Pruitt</td>\n",
              "      <td>BrianH@univ.edu</td>\n",
              "      <td>963.555.2800</td>\n",
              "      <td>963.777.7249</td>\n",
              "      <td>Associate Curator</td>\n",
              "      <td>38</td>\n",
              "      <td>1982</td>\n",
              "      <td>False</td>\n",
              "    </tr>\n",
              "    <tr>\n",
              "      <th>5</th>\n",
              "      <td>2401</td>\n",
              "      <td>Claude, Elvin Haney</td>\n",
              "      <td>Elvin</td>\n",
              "      <td>Claude</td>\n",
              "      <td>Haney</td>\n",
              "      <td>ClaudeE@univ.edu</td>\n",
              "      <td>963.555.2902</td>\n",
              "      <td>963.777.9730</td>\n",
              "      <td>Curator</td>\n",
              "      <td>41</td>\n",
              "      <td>1979</td>\n",
              "      <td>False</td>\n",
              "    </tr>\n",
              "    <tr>\n",
              "      <th>6</th>\n",
              "      <td>2070</td>\n",
              "      <td>Mosley, Edmund</td>\n",
              "      <td>Edmund</td>\n",
              "      <td>Mosley</td>\n",
              "      <td>NaN</td>\n",
              "      <td>MosleyE@univ.edu</td>\n",
              "      <td>963.555.2945</td>\n",
              "      <td>963.777.9285</td>\n",
              "      <td>Assistant Professor</td>\n",
              "      <td>33</td>\n",
              "      <td>1987</td>\n",
              "      <td>False</td>\n",
              "    </tr>\n",
              "  </tbody>\n",
              "</table>\n",
              "</div>"
            ],
            "text/plain": [
              "   person_ID                 name   first  ... age birthday is_young\n",
              "2       3547        Olsen, Robin    Robin  ...  48     1972    False\n",
              "3       1538  Moises, Edgar Estes   Edgar  ...  38     1982    False\n",
              "4       2941  Brian, Heath Pruitt   Heath  ...  38     1982    False\n",
              "5       2401  Claude, Elvin Haney   Elvin  ...  41     1979    False\n",
              "6       2070      Mosley, Edmund   Edmund  ...  33     1987    False\n",
              "\n",
              "[5 rows x 12 columns]"
            ]
          },
          "metadata": {
            "tags": []
          },
          "execution_count": 33
        }
      ]
    },
    {
      "cell_type": "markdown",
      "metadata": {
        "id": "26dLL0Niuc1_",
        "colab_type": "text"
      },
      "source": [
        "Tương tự xóa cột, xóa bản ghi hay xóa hàng cần truyền vào chỉ số bản ghi và `axis=0`."
      ]
    },
    {
      "cell_type": "markdown",
      "metadata": {
        "id": "htlmQ6-9u06a",
        "colab_type": "text"
      },
      "source": [
        "## 9. Lưu DataFrame thành tệp csv"
      ]
    },
    {
      "cell_type": "code",
      "metadata": {
        "id": "xQd1IW4i1dXT",
        "colab_type": "code",
        "colab": {}
      },
      "source": [
        "people_df.to_csv('people.csv', encoding='utf-8', header=0, sep=',')"
      ],
      "execution_count": 0,
      "outputs": []
    },
    {
      "cell_type": "markdown",
      "metadata": {
        "id": "iboTox_lvJKU",
        "colab_type": "text"
      },
      "source": [
        "Các tham số giống với hàm `pd.read_csv`."
      ]
    }
  ]
}