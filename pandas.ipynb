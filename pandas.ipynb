{
  "nbformat": 4,
  "nbformat_minor": 0,
  "metadata": {
    "colab": {
      "name": "pandas.ipynb",
      "provenance": [],
      "collapsed_sections": [],
      "toc_visible": true,
      "authorship_tag": "ABX9TyNnY9cyfDfR/NmmU6u87MrV",
      "include_colab_link": true
    },
    "kernelspec": {
      "name": "python3",
      "display_name": "Python 3"
    }
  },
  "cells": [
    {
      "cell_type": "markdown",
      "metadata": {
        "id": "view-in-github",
        "colab_type": "text"
      },
      "source": [
        "<a href=\"https://colab.research.google.com/github/hieubkset/Colab-Notebooks/blob/master/pandas.ipynb\" target=\"_parent\"><img src=\"https://colab.research.google.com/assets/colab-badge.svg\" alt=\"Open In Colab\"/></a>"
      ]
    },
    {
      "cell_type": "markdown",
      "metadata": {
        "id": "XxeGVbCQ5Xyd",
        "colab_type": "text"
      },
      "source": [
        "# Học Pandas trong 5 phút"
      ]
    },
    {
      "cell_type": "markdown",
      "metadata": {
        "id": "kKecXgxS5oI1",
        "colab_type": "text"
      },
      "source": [
        "![pandas](https://1.bp.blogspot.com/-TFpGqKhrhe0/WTImZqTY2fI/AAAAAAAADmk/T-ieF0Cm9cAsYCuOKflQmnWYrdTqHMmUgCLcB/s400/pandas.png)\n",
        "\n",
        "[Pandas](https://pandas.pydata.org/) là một thư viện cung cấp các hàm dùng để đọc, ghi, thao tác với tệp csv - một loại tệp tương tự như Excel. \n",
        "\n",
        "Tệp csv được dùng để lưu các thông tin theo hàng vào cột. Trong đó, mỗi cột là một trường thông tin, mỗi hàng là một bản ghi. Một ví dụ về tệp csv như sau: \n",
        "\n"
      ]
    },
    {
      "cell_type": "markdown",
      "metadata": {
        "id": "AoPHva27o7VV",
        "colab_type": "text"
      },
      "source": [
        "<table border=\"1\" class=\"dataframe\">\n",
        "  <thead>\n",
        "    <tr style=\"text-align: right;\">\n",
        "      <th></th>\n",
        "      <th>person_ID</th>\n",
        "      <th>name</th>\n",
        "      <th>first</th>\n",
        "      <th>last</th>\n",
        "      <th>middle</th>\n",
        "      <th>email</th>\n",
        "      <th>phone</th>\n",
        "      <th>fax</th>\n",
        "      <th>title</th>\n",
        "      <th>age</th>\n",
        "    </tr>\n",
        "  </thead>\n",
        "  <tbody>\n",
        "    <tr>\n",
        "      <th>0</th>\n",
        "      <td>3130</td>\n",
        "      <td>Burks, Rosella</td>\n",
        "      <td>Rosella</td>\n",
        "      <td>Burks</td>\n",
        "      <td>NaN</td>\n",
        "      <td>BurksR@univ.edu</td>\n",
        "      <td>963.555.1253</td>\n",
        "      <td>963.777.4065</td>\n",
        "      <td>Professor</td>\n",
        "      <td>41</td>\n",
        "    </tr>\n",
        "    <tr>\n",
        "      <th>1</th>\n",
        "      <td>3297</td>\n",
        "      <td>Avila, Damien</td>\n",
        "      <td>Damien</td>\n",
        "      <td>Avila</td>\n",
        "      <td>NaN</td>\n",
        "      <td>AvilaD@univ.edu</td>\n",
        "      <td>963.555.1352</td>\n",
        "      <td>963.777.7914</td>\n",
        "      <td>Professor</td>\n",
        "      <td>49</td>\n",
        "    </tr>\n",
        "    <tr>\n",
        "      <th>2</th>\n",
        "      <td>3547</td>\n",
        "      <td>Olsen, Robin</td>\n",
        "      <td>Robin</td>\n",
        "      <td>Olsen</td>\n",
        "      <td>NaN</td>\n",
        "      <td>OlsenR@univ.edu</td>\n",
        "      <td>963.555.1378</td>\n",
        "      <td>963.777.9262</td>\n",
        "      <td>Assistant Professor</td>\n",
        "      <td>48</td>\n",
        "    </tr>\n",
        "    <tr>\n",
        "      <th>3</th>\n",
        "      <td>1538</td>\n",
        "      <td>Moises, Edgar Estes</td>\n",
        "      <td>Edgar</td>\n",
        "      <td>Moises</td>\n",
        "      <td>Estes</td>\n",
        "      <td>MoisesE@univ.edu</td>\n",
        "      <td>963.555.2731x3565</td>\n",
        "      <td>963.777.8264</td>\n",
        "      <td>Professor</td>\n",
        "      <td>38</td>\n",
        "    </tr>\n",
        "    <tr>\n",
        "      <th>4</th>\n",
        "      <td>2941</td>\n",
        "      <td>Brian, Heath Pruitt</td>\n",
        "      <td>Heath</td>\n",
        "      <td>Brian</td>\n",
        "      <td>Pruitt</td>\n",
        "      <td>BrianH@univ.edu</td>\n",
        "      <td>963.555.2800</td>\n",
        "      <td>963.777.7249</td>\n",
        "      <td>Associate Curator</td>\n",
        "      <td>38</td>\n",
        "    </tr>\n",
        "  </tbody>\n",
        "</table>"
      ]
    },
    {
      "cell_type": "markdown",
      "metadata": {
        "id": "OM1qicG37lBG",
        "colab_type": "text"
      },
      "source": [
        "Tệp csv thường được dùng trong Machine Learning như lưu trữ dataset hoặc để lưu dự đoán của model. Một ví dụ sử dụng tệp csv trên [Kaggle](https://www.kaggle.com/c/digit-recognizer/data).\n",
        "\n"
      ]
    },
    {
      "cell_type": "markdown",
      "metadata": {
        "id": "gSBUN6Ym8MOI",
        "colab_type": "text"
      },
      "source": [
        "Trong bài này, chúng ta sẽ tìm hiểu cách làm việc với tệp csv sử dụng Pandas."
      ]
    },
    {
      "cell_type": "markdown",
      "metadata": {
        "id": "chRow-lpkDiM",
        "colab_type": "text"
      },
      "source": [
        "## Khai báo thư viện"
      ]
    },
    {
      "cell_type": "code",
      "metadata": {
        "id": "Ga-pxPT0kDaB",
        "colab_type": "code",
        "colab": {}
      },
      "source": [
        "import pandas as pd"
      ],
      "execution_count": 0,
      "outputs": []
    },
    {
      "cell_type": "markdown",
      "metadata": {
        "id": "628W-4rt2Aqw",
        "colab_type": "text"
      },
      "source": [
        "Tải tệp `people.csv` để làm ví dụ."
      ]
    },
    {
      "cell_type": "code",
      "metadata": {
        "id": "oLlyB5-C2IOc",
        "colab_type": "code",
        "colab": {}
      },
      "source": [
        "!wget https://ezcodin.com/img/pandas01/people.csv"
      ],
      "execution_count": 0,
      "outputs": []
    },
    {
      "cell_type": "markdown",
      "metadata": {
        "id": "2Ll0vzW1kYgU",
        "colab_type": "text"
      },
      "source": [
        "## 1. Đọc một tệp csv"
      ]
    },
    {
      "cell_type": "code",
      "metadata": {
        "colab_type": "code",
        "id": "a8KeOOKBkfta",
        "colab": {}
      },
      "source": [
        "people_df = pd.read_csv('people.csv', encoding='utf-8', header=0, sep=',')"
      ],
      "execution_count": 0,
      "outputs": []
    },
    {
      "cell_type": "markdown",
      "metadata": {
        "id": "bUylMA1Ik0LQ",
        "colab_type": "text"
      },
      "source": [
        "Sử dụng hàm `pd.read_csv` và truyền vào các tham số:\n",
        "\n",
        "+ địa chỉ tệp csv\n",
        "+ encoding: mặc định là 'utf-8'\n",
        "+ header: số thứ tự của hàng header\n",
        "+ sep: cho biết cách các trường dữ liệu được ngăn cách"
      ]
    },
    {
      "cell_type": "markdown",
      "metadata": {
        "id": "fsY72-jfliGs",
        "colab_type": "text"
      },
      "source": [
        "Ví dụ về nội dung của một tệp csv:"
      ]
    },
    {
      "cell_type": "code",
      "metadata": {
        "id": "oo1dPMHBle7f",
        "colab_type": "code",
        "colab": {}
      },
      "source": [
        "person_ID,name,first,last,middle,email,phone,fax,title,age\n",
        "3130,\"Burks, Rosella \",Rosella,Burks,,BurksR@univ.edu,963.555.1253,963.777.4065,Professor ,41\n",
        "3297,\"Avila, Damien \",Damien,Avila,,AvilaD@univ.edu,963.555.1352,963.777.7914,Professor ,49\n",
        "3547,\"Olsen, Robin \",Robin,Olsen,,OlsenR@univ.edu,963.555.1378,963.777.9262,Assistant Professor,48\n",
        "1538,\"Moises, Edgar Estes\",Edgar,Moises,Estes,MoisesE@univ.edu,963.555.2731x3565,963.777.8264,Professor,38\n",
        "2941,\"Brian, Heath Pruitt\",Heath,Brian,Pruitt,BrianH@univ.edu,963.555.2800,963.777.7249,Associate Curator ,38"
      ],
      "execution_count": 0,
      "outputs": []
    },
    {
      "cell_type": "markdown",
      "metadata": {
        "id": "HbX0y-UHlyRc",
        "colab_type": "text"
      },
      "source": [
        "Dòng thứ nhất cho biết các header, hay tên đại diện cho các trường thông tin: person_ID, name,..., age.\n",
        "Thông thường truyền `header=None` (tệp csv không có chứa header) hoặc `header=0` (header nằm ở hàng đầu tiên)."
      ]
    },
    {
      "cell_type": "markdown",
      "metadata": {
        "id": "1nspDGjFmVmB",
        "colab_type": "text"
      },
      "source": [
        "`sep` thường là dấu `,` hoặc khoảng trắng."
      ]
    },
    {
      "cell_type": "code",
      "metadata": {
        "id": "F7t-t99rmiz6",
        "colab_type": "code",
        "colab": {}
      },
      "source": [
        "type(people_df)"
      ],
      "execution_count": 0,
      "outputs": []
    },
    {
      "cell_type": "markdown",
      "metadata": {
        "id": "TB88f47Smm6_",
        "colab_type": "text"
      },
      "source": [
        "Hàm `pd.read_csv` trả về một đối tượng thuộc kiểu [DataFrame](https://pandas.pydata.org/pandas-docs/stable/reference/frame.html). "
      ]
    },
    {
      "cell_type": "markdown",
      "metadata": {
        "id": "lLrNG5HsnFPr",
        "colab_type": "text"
      },
      "source": [
        "## 2. Xem các bản ghi đầu tiên"
      ]
    },
    {
      "cell_type": "markdown",
      "metadata": {
        "id": "RUjCyD1inJw0",
        "colab_type": "text"
      },
      "source": [
        "Sử dụng hàm `df.head` và truyền vào số bản ghi muốn xem.\n",
        "\n",
        "Note: `df` là viết tắt của DataFrame. Viết `df.head` tức `head` là một phương thức của lớp DataFrame."
      ]
    },
    {
      "cell_type": "code",
      "metadata": {
        "id": "UBbKivsvkqC7",
        "colab_type": "code",
        "colab": {}
      },
      "source": [
        "people_df.head(5)"
      ],
      "execution_count": 0,
      "outputs": []
    },
    {
      "cell_type": "markdown",
      "metadata": {
        "id": "ACY8PP8bnnCV",
        "colab_type": "text"
      },
      "source": [
        "## 3. Xem các bản ghi cuối cùng"
      ]
    },
    {
      "cell_type": "markdown",
      "metadata": {
        "id": "_1Q7007znsI5",
        "colab_type": "text"
      },
      "source": [
        "Sử dụng hàm `df.tail` và truyền vào số bản ghi muốn xem."
      ]
    },
    {
      "cell_type": "code",
      "metadata": {
        "id": "rWk4xp5-kgIx",
        "colab_type": "code",
        "colab": {}
      },
      "source": [
        "people_df.tail(5)"
      ],
      "execution_count": 0,
      "outputs": []
    },
    {
      "cell_type": "markdown",
      "metadata": {
        "id": "t90hhRcsn2-B",
        "colab_type": "text"
      },
      "source": [
        "## 4. Xem thông tin về số lượng bản ghi, số trường dữ liệu"
      ]
    },
    {
      "cell_type": "code",
      "metadata": {
        "id": "BQRn3TBalKSO",
        "colab_type": "code",
        "colab": {}
      },
      "source": [
        "people_df.shape"
      ],
      "execution_count": 0,
      "outputs": []
    },
    {
      "cell_type": "code",
      "metadata": {
        "id": "iUrIfW-clcwI",
        "colab_type": "code",
        "colab": {}
      },
      "source": [
        "len(people_df)"
      ],
      "execution_count": 0,
      "outputs": []
    },
    {
      "cell_type": "code",
      "metadata": {
        "id": "oYPl4bLhlweF",
        "colab_type": "code",
        "colab": {}
      },
      "source": [
        "people_df.info()"
      ],
      "execution_count": 0,
      "outputs": []
    },
    {
      "cell_type": "markdown",
      "metadata": {
        "id": "ZPmx7LfwoJT5",
        "colab_type": "text"
      },
      "source": [
        "Tệp `people.csv` lưu 40 bản ghi, mỗi bản ghi có 10 trường dữ liệu."
      ]
    },
    {
      "cell_type": "markdown",
      "metadata": {
        "id": "1gWVwydtoaUd",
        "colab_type": "text"
      },
      "source": [
        "## 5. Truy xuất dữ liệu"
      ]
    },
    {
      "cell_type": "markdown",
      "metadata": {
        "id": "6MZAhD5PpXos",
        "colab_type": "text"
      },
      "source": [
        "Ta có thể coi `DataFrame` giống như một mảng 2 chiều. Trong đó chỉ số của hàng được đánh từ `0 1 ... N` (N là tổng số bản ghi) và chỉ số cột là các header."
      ]
    },
    {
      "cell_type": "markdown",
      "metadata": {
        "id": "vjXFB2pxqJgN",
        "colab_type": "text"
      },
      "source": [
        "**Lấy một cột:**"
      ]
    },
    {
      "cell_type": "code",
      "metadata": {
        "id": "jcGEtOFzlzjg",
        "colab_type": "code",
        "colab": {}
      },
      "source": [
        "names = people_df['name']\n",
        "names.head(5)"
      ],
      "execution_count": 0,
      "outputs": []
    },
    {
      "cell_type": "code",
      "metadata": {
        "id": "6zzh_ALWmNig",
        "colab_type": "code",
        "colab": {}
      },
      "source": [
        "type(names)"
      ],
      "execution_count": 0,
      "outputs": []
    },
    {
      "cell_type": "markdown",
      "metadata": {
        "id": "WyoZEDmFqUqE",
        "colab_type": "text"
      },
      "source": [
        "Một cột sẽ có kiểu dữ liệu là [Series](https://pandas.pydata.org/pandas-docs/stable/reference/series.html) - giống như mảng một chiều."
      ]
    },
    {
      "cell_type": "markdown",
      "metadata": {
        "id": "5Rojx-zdq1OL",
        "colab_type": "text"
      },
      "source": [
        "**Lấy nhiều cột:**"
      ]
    },
    {
      "cell_type": "code",
      "metadata": {
        "id": "Ot1WPRQmmXe0",
        "colab_type": "code",
        "colab": {}
      },
      "source": [
        "names_and_ages = people_df[['name', 'email']]\n",
        "names_and_ages.head(5)"
      ],
      "execution_count": 0,
      "outputs": []
    },
    {
      "cell_type": "code",
      "metadata": {
        "id": "XPJGfM-CmjLh",
        "colab_type": "code",
        "colab": {}
      },
      "source": [
        "type(names_and_ages)"
      ],
      "execution_count": 0,
      "outputs": []
    },
    {
      "cell_type": "markdown",
      "metadata": {
        "id": "4RfA4_d6rDPo",
        "colab_type": "text"
      },
      "source": [
        "**Lấy bản ghi theo chỉ số:**"
      ]
    },
    {
      "cell_type": "code",
      "metadata": {
        "id": "BvRQml8wm-dE",
        "colab_type": "code",
        "colab": {}
      },
      "source": [
        "people_df[1:4]"
      ],
      "execution_count": 0,
      "outputs": []
    },
    {
      "cell_type": "markdown",
      "metadata": {
        "id": "7d-8VoPLrffK",
        "colab_type": "text"
      },
      "source": [
        "**Kết hợp chỉ số hàng và cột:**"
      ]
    },
    {
      "cell_type": "code",
      "metadata": {
        "id": "66L9xrUKnHaB",
        "colab_type": "code",
        "colab": {}
      },
      "source": [
        "people_df[['name', 'title']][3:6]"
      ],
      "execution_count": 0,
      "outputs": []
    },
    {
      "cell_type": "markdown",
      "metadata": {
        "id": "FrvOJwBdrn-f",
        "colab_type": "text"
      },
      "source": [
        "**Lấy bản ghi theo điều kiện:**"
      ]
    },
    {
      "cell_type": "markdown",
      "metadata": {
        "id": "B1vyCh2druHS",
        "colab_type": "text"
      },
      "source": [
        "Tìm những người có tuổi từ 25 trở xuống:"
      ]
    },
    {
      "cell_type": "code",
      "metadata": {
        "id": "4Roy2YW5qOZ0",
        "colab_type": "code",
        "colab": {}
      },
      "source": [
        "young_people = people_df[people_df['age'] < 25]\n",
        "young_people"
      ],
      "execution_count": 0,
      "outputs": []
    },
    {
      "cell_type": "markdown",
      "metadata": {
        "id": "xRtPPBH1r4MW",
        "colab_type": "text"
      },
      "source": [
        "Tìm những người là giáo sư:"
      ]
    },
    {
      "cell_type": "code",
      "metadata": {
        "id": "-veIZWtFqy3C",
        "colab_type": "code",
        "colab": {}
      },
      "source": [
        "professors = people_df[people_df['title'] == 'Professor']\n",
        "professors"
      ],
      "execution_count": 0,
      "outputs": []
    },
    {
      "cell_type": "markdown",
      "metadata": {
        "id": "HCJCN6nvr_kR",
        "colab_type": "text"
      },
      "source": [
        "**Chuyển đổi `Series` về `Numpy`:**"
      ]
    },
    {
      "cell_type": "code",
      "metadata": {
        "id": "yy_qb52xrALO",
        "colab_type": "code",
        "colab": {}
      },
      "source": [
        "names = people_df['name'].values\n",
        "print(names)\n",
        "type(names)"
      ],
      "execution_count": 0,
      "outputs": []
    },
    {
      "cell_type": "markdown",
      "metadata": {
        "id": "7LudozUesZDN",
        "colab_type": "text"
      },
      "source": [
        "## 6. Thêm một cột\n"
      ]
    },
    {
      "cell_type": "markdown",
      "metadata": {
        "id": "JwTXEDNmshIv",
        "colab_type": "text"
      },
      "source": [
        "Nó giống như các ta thêm một key-value đối với dictionary."
      ]
    },
    {
      "cell_type": "markdown",
      "metadata": {
        "id": "nU_rkgxgsyGx",
        "colab_type": "text"
      },
      "source": [
        "Ví dụ, thêm cột năm sinh:"
      ]
    },
    {
      "cell_type": "code",
      "metadata": {
        "id": "y5UCj6Z1rRJX",
        "colab_type": "code",
        "colab": {}
      },
      "source": [
        "df_len = len(people_df)\n",
        "birthday = 2020 - people_df['age'] \n",
        "people_df['birthday'] = birthday\n",
        "people_df.tail(5)"
      ],
      "execution_count": 0,
      "outputs": []
    },
    {
      "cell_type": "markdown",
      "metadata": {
        "id": "7A8rP3qZs49z",
        "colab_type": "text"
      },
      "source": [
        "Thêm cột `is_young` cho biết dưới hay trên 25 tuổi."
      ]
    },
    {
      "cell_type": "code",
      "metadata": {
        "id": "WXFXElYSxgp_",
        "colab_type": "code",
        "colab": {}
      },
      "source": [
        "people_df['is_young'] = people_df['age'] < 25\n",
        "people_df.head(5)"
      ],
      "execution_count": 0,
      "outputs": []
    },
    {
      "cell_type": "markdown",
      "metadata": {
        "id": "W0ekOirftESp",
        "colab_type": "text"
      },
      "source": [
        "Thêm một cột với dữ liệu trống:"
      ]
    },
    {
      "cell_type": "code",
      "metadata": {
        "id": "zmeOKKFhyF7u",
        "colab_type": "code",
        "colab": {}
      },
      "source": [
        "people_df['none_column'] = None\n",
        "people_df.head(5)"
      ],
      "execution_count": 0,
      "outputs": []
    },
    {
      "cell_type": "markdown",
      "metadata": {
        "id": "OISxRCu0tMmf",
        "colab_type": "text"
      },
      "source": [
        "## 7. Xóa cột"
      ]
    },
    {
      "cell_type": "code",
      "metadata": {
        "id": "9RvL06XbyT_T",
        "colab_type": "code",
        "colab": {}
      },
      "source": [
        "people_df.drop('none_column', axis=1, inplace=True, errors='ignore')\n",
        "people_df.head(5)"
      ],
      "execution_count": 0,
      "outputs": []
    },
    {
      "cell_type": "markdown",
      "metadata": {
        "id": "bvtRQgemtUAW",
        "colab_type": "text"
      },
      "source": [
        "Các tham số: \n",
        "\n",
        "+ tên cột \n",
        "+ axis=1 (ví lệnh drop cũng dùng để xóa hàng)\n",
        "+ inplace: xóa trực tiếp trong đối tượng (`True`), hoặc tạo một bản sao và xóa trong bản sao (`False`)\n",
        "+ errors: `ignore` hoặc `raise`. Nếu là `raise` sẽ tạo ra một Exception nếu không có cột yêu cầu. "
      ]
    },
    {
      "cell_type": "markdown",
      "metadata": {
        "id": "LDyiepO7uXcg",
        "colab_type": "text"
      },
      "source": [
        "## 8. Xóa bản ghi"
      ]
    },
    {
      "cell_type": "code",
      "metadata": {
        "id": "AXF1o4hszKVF",
        "colab_type": "code",
        "colab": {}
      },
      "source": [
        "people_df.drop([0, 1], axis=0, inplace=True, errors='ignore')\n",
        "people_df.head(5)"
      ],
      "execution_count": 0,
      "outputs": []
    },
    {
      "cell_type": "markdown",
      "metadata": {
        "id": "26dLL0Niuc1_",
        "colab_type": "text"
      },
      "source": [
        "Tương tự xóa cột, xóa bản ghi hay xóa hàng cần truyền vào chỉ số bản ghi và `axis=0`."
      ]
    },
    {
      "cell_type": "markdown",
      "metadata": {
        "id": "htlmQ6-9u06a",
        "colab_type": "text"
      },
      "source": [
        "## 9. Lưu DataFrame thành tệp csv"
      ]
    },
    {
      "cell_type": "code",
      "metadata": {
        "id": "xQd1IW4i1dXT",
        "colab_type": "code",
        "colab": {}
      },
      "source": [
        "people_df.to_csv('people.csv', encoding='utf-8', header=0, sep=',')"
      ],
      "execution_count": 0,
      "outputs": []
    },
    {
      "cell_type": "markdown",
      "metadata": {
        "id": "iboTox_lvJKU",
        "colab_type": "text"
      },
      "source": [
        "Các tham số giống với hàm `pd.read_csv`."
      ]
    }
  ]
}